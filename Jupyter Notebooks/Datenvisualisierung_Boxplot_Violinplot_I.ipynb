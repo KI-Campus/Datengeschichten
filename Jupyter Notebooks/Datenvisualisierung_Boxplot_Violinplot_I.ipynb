{
 "cells": [
  {
   "cell_type": "markdown",
   "id": "edcabaa3",
   "metadata": {},
   "source": [
    "#  Datenvisualisierung - Boxplots und Violin Plots \n"
   ]
  },
  {
   "cell_type": "markdown",
   "id": "4f349811",
   "metadata": {},
   "source": [
    "Schön das Du wieder dabei bist! Heute beschäftigen wir uns weiter damit, wie man Daten in *R* visualisieren kann. Nach *Barplots* und *Lollipop Plots* schauen wir uns hier jetzt *Boxplots* und *Violinplots* an. Im Gegensatz zu den beiden schon bekannten Plots erlauben uns **Boxplots** und **Violinplots** Aussagen über die *Verteilung von numerischen Variablen* zu treffen.\n",
    "\n",
    "Die Datengrundlage mit der wir heute arbeiten ist ein Datensatz mit den Ergebnissen der *Bundestagswahl 2017 in Bielefeld*. Der Datensatz enthält verschiedene Variablen zum Wahlverhalten in den Bielefelder Stimmbezirken. Sowohl *Boxplots* als auch *Violinplots* erlauben uns, das Wahlverhalten für bestimmte Parteien in allen Bielefelder Stimmbezirken in einer Visualisierung zu betrachten und beispielsweise die Frage zu beantworten, für welche Partei es die stärksten Schwankungen in den Wahlergebnissen zwischen den Stimmbezirken gibt.\n",
    "\n",
    "Wir beginnen wie gewohnt mit dem Laden der nötigen Pakete. "
   ]
  },
  {
   "cell_type": "code",
   "execution_count": null,
   "id": "64274df3",
   "metadata": {},
   "outputs": [],
   "source": [
    "#benoetigte Pakete laden\n",
    "library(\"here\")\n",
    "library(\"tidyverse\")\n",
    "library(\"car\")\n",
    "library(\"psych\")\n"
   ]
  },
  {
   "cell_type": "markdown",
   "id": "3ba347cb",
   "metadata": {},
   "source": [
    "# Daten einlesen\n",
    "Der Datensatz,den wir nutzen, liegt als *CSV-Datei* vor. Unsere Datengrundlage stellt die Datei \"Daten_BWT_2017_BI\" dar. Sie ist mit einem *Semikolon* getrennt und weist eine Kopfzeile mit den Variablennamen auf. Mit dem folgenden Befehl, den wir schon kennengelernt haben, können wir sie einlesen. Mit Hilfe des sapply-Befehls werfen wir außerdem direkt einen Blick auf die von R erkannten Klassen/Datentypen der einzelnen Variablen."
   ]
  },
  {
   "cell_type": "code",
   "execution_count": null,
   "id": "1780c8f1",
   "metadata": {},
   "outputs": [],
   "source": [
    "#csv Daten einlesen\n",
    "data_Wahl <- read.csv2(\"Daten_BWT_2017_BI.csv\", na=\"NA\", header = TRUE,stringsAsFactors = FALSE, encoding = \"latin1\")\n",
    "data_Wahl\n",
    "\n",
    "#Variablen betrachten\n",
    "sapply(data_Wahl, class)\n",
    "\n"
   ]
  },
  {
   "cell_type": "markdown",
   "id": "4b0b9c97",
   "metadata": {},
   "source": [
    "Die Variablen liegen teilweise bereits mit der passenden Klasse/dem passenden Datentyp für die Darstellung als *Boxplot* oder *Violinplot* vor. Je nachdem, welche Variablen wir für unsere Datenvisualisierungen nutzen möchten, ist eine Aufbereitung aber noch notwendig. "
   ]
  },
  {
   "cell_type": "markdown",
   "id": "0c310b6f",
   "metadata": {},
   "source": [
    "# Der erste Boxplot\n",
    "Mit *boxplot()* können wir uns ein erstes Boxplot-Diagramm ausgeben lassen. Als Beispiel schauen wir uns den Boxplot zu den prozentualen Wahlergebnissen der Partei *Die Partei* für alle Bielefelder Stimmbezirke an. "
   ]
  },
  {
   "cell_type": "code",
   "execution_count": null,
   "id": "adf33b69",
   "metadata": {},
   "outputs": [],
   "source": [
    "#Der erste Boxplot -\"DIE PARTEI\"\n",
    "boxplot(data_Wahl$Die.PARTEI_Proz) "
   ]
  },
  {
   "cell_type": "markdown",
   "id": "2e0c914d",
   "metadata": {},
   "source": [
    "# Der Boxplot\n",
    "\n",
    "Wie wir aus den vorangegangenen *JupyterNotebooks* bereits wissen, können wir das Diagramm noch weiter aufbereiten. Vorher schauen wir uns aber noch an, welche Informationen ein Boxplot bietet. *Boxplots* geben Auskunft über *Streuungs- und Lagemaße* der Verteilung einer numerischen Variablen. Sie geben einen Überblick, in welchem Bereich die Daten einer Verteilung liegen. \n",
    "\n",
    "In unserem Beispiel veranschaulicht der Boxplot die Verteilung der Wahlergebnisse in den Stimmmbezirken in Bielefeld (Bundestagswahl 2017) von der Partei *Die Partei* (Erststimmen; prozentuale Angaben). Um Daten mit einem Boxplot visualisieren zu können, müssen diese mindestens *ordinalskaliert* sein.\n",
    "\n",
    "# Der Aufbau eines Boxplot \n",
    "\n",
    "<img width=\"400\" align = \"right\" hspace=\"40\" src=\"Boxplot_Die_Partei_erklaert2.png\"/> \n",
    "\n",
    "<div style=\"text-align: left\" style=“line-height: 150%“>\n",
    "<p>\n",
    "<p> </p>    \n",
    "Ein Boxplot besteht aus der Box, <i>den Whiskern</i>  (den <br>Antennen an der Box), dem Median und, sofern vorhanden, den Ausreißern, welche durch Punkte dargestellt werden.\n",
    "\n",
    "- **Die Box**      \n",
    "Innerhalb der Box liegen die mittleren 50% der Werte der betrachteten Variable. Sie wird durch das *erste* (Q1) und das *dritte Quartil* (Q3) begrenzt. Unter dem ersten Quartil liegen 25% der Werte der Verteilung und unter dem dritten Quartil (die obere Grenze der Box) liegen 75% der Verteilung.\n",
    "<p> </p>    \n",
    "- **Der Median**   \n",
    "Der Median der Variablen liegt innerhalb der Box und stellt die Grenze für das zweite Quartil dar. Außerdem teilt der Median die Daten. 50% der Daten liegen oberhalb des Medians und 50% liegen unterhalb des Medians. In der Box wird er mit einer horizontalen schwarzen Linie gekennzeichnet. Die Position des Medians in der Box zeigt an, ob die Werte symmetrisch verteilt sind.\n",
    "<p> </p>    \n",
    "- **Die Whisker (Antennen)**    \n",
    "Die *Whisker*  setzen an den Grenzen der Box an. Ihre Länge wird von R, sofern wir das nicht verändern, automatisch  auf das anderthalbfache des Interquartilsabstandes (IQR, Interquartil Range) festgelegt (IQR * 1,5). Der Interquartilsabstand wird berechnet, indem der Wert des ersten Quartils vom Wert des dritten Quartils subtrahiert wird. Die Enden der *Whisker* zeigen das Minimum (unterer *Whisker*) und das Maximum (oberer *Whisker*) an, sofern keine Ausreißer vorhanden sind. Gibt es in der Verteilung Werte, die über die Whisker hinausragen, spricht man von Ausreißern, die entferntesten Ausreißer sind dann entsprechenend Minimum und Maximum.\n",
    "<p> </p>        \n",
    "- <b>Die Ausreißer</b>  \n",
    "<i>Ausreißer</i> sind Werte, die das anderthalbfache des IQR überschreiten und somit über die *Whisker* hinausreichen. Sie werden meist als Punkte dargestellt.\n",
    "\n",
    "  \n",
    "\n",
    "\n"
   ]
  },
  {
   "cell_type": "markdown",
   "id": "106c8e8b",
   "metadata": {},
   "source": [
    "# Der erste Boxplot aufbereitet\n",
    "Hier nutzen wir einige Argumente, die wir bereits kennengelernt haben um den Boxplot weiter aufzubereiten. Neu sind für uns die Argumente  xaxs =\"i\", yaxs = \"i\" und boxwex=0.2.\n",
    "\n",
    "- xaxs =\"i\", yaxs = \"i\" --> diese Argumente legen fest, dass der Nullpunkt der x- und der y-Achse der Schnittpunkt der beiden Achsen ist. Wenn Du Dir den ersten Boxplot noch einmal ansiehst, kannst Du erkennen, dass dies hier nicht der Fall ist und der x=0 und y=0 nicht der Schnittpunkt der beiden Achsen ist.\n",
    "\n",
    "- boxwex=0.4 --> legt fest wie breit die Box des Boxplots ist."
   ]
  },
  {
   "cell_type": "code",
   "execution_count": 1,
   "id": "3690507b",
   "metadata": {},
   "outputs": [
    {
     "ename": "ERROR",
     "evalue": "Error in boxplot(data_Wahl$Die.PARTEI_Proz, ylim = c(-0.3, 6), xaxs = \"i\", : Objekt 'data_Wahl' nicht gefunden\n",
     "output_type": "error",
     "traceback": [
      "Error in boxplot(data_Wahl$Die.PARTEI_Proz, ylim = c(-0.3, 6), xaxs = \"i\", : Objekt 'data_Wahl' nicht gefunden\nTraceback:\n",
      "1. boxplot(data_Wahl$Die.PARTEI_Proz, ylim = c(-0.3, 6), xaxs = \"i\", \n .     yaxs = \"i\", boxwex = 0.4, col = c(\"firebrick3\"), main = \"Erststimmen - Die Partei\", \n .     cex.main = 1.2, sub = \"Ergebnisse der Bundestagswahl 2017 aus Bielefeld\", \n .     cex.sub = 0.8, xlab = \"Die PARTEI\", cex.axis = 1, ylab = \"Prozent\")"
     ]
    }
   ],
   "source": [
    "#Der erste Boxplot\n",
    "par(bg = \"gray80\")\n",
    "boxplot(data_Wahl$Die.PARTEI_Proz, \n",
    "        ylim =c(-0.3, 6), \n",
    "        xaxs =\"i\", yaxs = \"i\", \n",
    "        boxwex=0.4,\n",
    "        col = c(\"firebrick3\"),\n",
    "        main=\"Erststimmen - Die Partei\",cex.main = 1.2,\n",
    "        sub = \"Ergebnisse der Bundestagswahl 2017 aus Bielefeld\",cex.sub = 0.8,\n",
    "        xlab = \"Die PARTEI\",cex.axis = 1.0,\n",
    "        ylab= \"Prozent\")\n",
    "grid (-0.3,6, lty = 3, col = \"black\")\n"
   ]
  },
  {
   "cell_type": "markdown",
   "id": "0afb4691",
   "metadata": {},
   "source": [
    "# Interpretation des ersten Boxplots\n",
    "Der Boxplot stellt die Verteilung des Wahlergebnises (in Prozent) der *Bundestagswahl 2017* von *Die Partei* in den Bielefelder Stimmbezirken dar (Erststimmen). Der, durch die schwarze Linie gekennzeichnete Median, in der Mitte der Box, liegt bei ca. 1,6% - d.h. 50% der Stimmbezirke weisen ein Wahlergebnis von unter 1,6% auf und 50% Stimmbezirke weisen ein Wahlergebnis von über 1,6% bei den Erststimmen der Partei *Die Partei* auf. Die Box wird durch das erste und das dritte Quartil begrenzt. Das erste Quartil liegt bei ca. 1,3% und das dritte Quartil 2,45%. Hieraus lässt sich der Interquartilsabstand von ca. 1,15% ablesen. Dies bedeutet, dass die mittleren 50% der Stimmbezirke ein Ergebnis von 1,3% bis 2,45% bei den Erststimmen der Partei *Die Partei* aufweisen. Weiter lässt sich die Aussage treffen, dass in 25% der Stimmbezirke *Die Partei* ein Wahlergebnis von über 2,45% bei den Erststimmen erzielt hat. Außerdem kann abgelesen werden, dass in 25% der Stimmbezirke in Bielefeld *Die Partei* ein Wahlergebnis von unter 1,3% bei den Erststimmen erzielt hat. Ab einem Wahlergebnis von mehr als ca 4,2% beginnen oberhalb des oberen Whiskers die *Ausreißer*, sie sind über das anderthalbfache des IQRs entfernt. Die Spannweite beträgt rund 5,4%. "
   ]
  },
  {
   "cell_type": "markdown",
   "id": "05cc95e9",
   "metadata": {},
   "source": [
    "# Variante Boxplot zur Wahlbeteiligung "
   ]
  },
  {
   "cell_type": "code",
   "execution_count": null,
   "id": "ab72d2c0",
   "metadata": {},
   "outputs": [],
   "source": [
    "#Wahlbeteiligung in den Wahlbezirken\n",
    "class(data_Wahl$Wahlbeteiligung)\n",
    "boxplot(data_Wahl$Wahlbeteiligung)"
   ]
  },
  {
   "cell_type": "markdown",
   "id": "4ca870b7",
   "metadata": {},
   "source": [
    "Wenn wir diesen Boxplot betrachten fällt uns auf, dass dieser einen sehr starken Ausreißer nach unten aufweist. Bei einem Blick in die Daten mit dem DatenViewer oder aber in die Origninale CSV-Datei können wir erkennen, dass in den *Briefwahlbezirke* keine Wahlbeteiligung erfasst wurde bzw. diese bei 0% liegt. Die Erklärung hierfür liegt darin, dass Briefwahlbezirke von Ihrer Größe nicht vordefiniert und variabel in ihrer Größe sind, somit kann hier keine Wahlbeteiligung ausgewiesen werden.\n",
    "Wir streichen daher die Briefwähler*innen aus unser Betrachtung und erstellen einen Datensatz ohne sie."
   ]
  },
  {
   "cell_type": "code",
   "execution_count": null,
   "id": "940b624f",
   "metadata": {},
   "outputs": [],
   "source": [
    "#Wahlbeteiligung ohne Briefwahl\n",
    "data_Wahl_ohne_Brief <- subset(data_Wahl, Wahlbeteiligung>0)"
   ]
  },
  {
   "cell_type": "markdown",
   "id": "0308ac5c",
   "metadata": {},
   "source": [
    "Jetzt können wir die Wahlbeteiligung ohne die Briefwahlbezirke mit einem Boxplot betrachten und interpretieren. Mit Hilfe von outcol=\"firebrick3\" färben wir die Ausreißerwerte rot ein.\n"
   ]
  },
  {
   "cell_type": "code",
   "execution_count": null,
   "id": "8665780c",
   "metadata": {},
   "outputs": [],
   "source": [
    "#Boxplot Wahlbeteiligung ohne Briefwahl\n",
    "par(bg = \"gray80\")\n",
    "boxplot(data_Wahl_ohne_Brief$Wahlbeteiligung, ylim= c(0, 70), \n",
    "        outcol=\"firebrick3\",\n",
    "        boxwex=0.4, xaxs =\"i\", yaxs = \"i\",\n",
    "        xlab = \"Wahlbeteiligung\", ylab = \"Angaben in Prozent\",\n",
    "        main=\"Verteilung: Wahlbeteiligung in Bielefeld\",cex.main = 1.2,\n",
    "        sub = \"Datengrundlage: Ergebnis der Bundestagswahl 2017 - Bielefelder Stimmbezirke\",cex.sub = 0.8,\n",
    "        col=c(\"steelblue3\"))\n",
    "grid (0,7, lty = 3, col = \"black\")"
   ]
  },
  {
   "cell_type": "markdown",
   "id": "134a082b",
   "metadata": {},
   "source": [
    "Wir können die *Whisker* auch so anpassen, dass diese von ihrer Länge her so lang sind, dass das Boxplot ohne Ausreißer dargestellt wird. Die Ausreißer-Werte sind dann in den Whiskern enthalten und begrenzen diese in ihrer Länge. Hierzu können wir das Argument range= nutzen und dieses in der Höhe variieren um den Wert zu ermitteln, bei dem keine Ausreißer-Werte mehr dargestellt werden. "
   ]
  },
  {
   "cell_type": "code",
   "execution_count": null,
   "id": "b5bbedad",
   "metadata": {},
   "outputs": [],
   "source": [
    "#Ausreißer innerhalb der Whisker\n",
    "par(bg = \"gray80\")\n",
    "boxplot(data_Wahl_ohne_Brief$Wahlbeteiligung, ylim= c(0, 70), range=3,\n",
    "        boxwex=0.4, xaxs =\"i\", yaxs = \"i\",\n",
    "        xlab = \"Wahlbeteiligung\", ylab = \"Angaben in Prozent\",\n",
    "        main=\"Verteilung: Wahlbeteiligung in Bielefeld\",cex.main = 1.2,\n",
    "        sub = \"Datengrundlage: Ergebnis der Bundestagswahl 2017 - Bielefelder Stimmbezirke\",cex.sub = 0.8,\n",
    "        col=c(\"steelblue3\"))\n",
    "grid (0,7, lty = 3, col = \"black\")"
   ]
  },
  {
   "cell_type": "markdown",
   "id": "b563081f",
   "metadata": {},
   "source": [
    "# Interpretation des Boxplots Wahlbeteiligung\n",
    "Der Boxplot stellt die Wahlbeteiligung (in Prozent) der *Bundestagswahl 2017* in den *Bielefelder Stimmbezirken* dar. Der durch die schwarze Linie gekennzeichnete Median in der Mitte der Box liegt bei ca. 53% d.h. 50% der Stimmbezirke weisen eine Wahlbeteiligung von unter 53% auf und 50% Stimmbezirke weisen eine Beteiligung von über 53% auf. Die Box wird durch das erste und das dritte Quartil begrenzt. Das erste Quartil liegt bei ca. 50,5% und das dritte Quartil bei ca. 56%. Hieraus lässt sich der Interquartilsabstand von ca. 5,5% ablesen. Dies bedeut, dass die mittleren 50% der Stimmbezirke eine Wahlbeteiligung von 50,5% bis 56% aufweisen. Weiter lässt sich die Aussage treffen, dass die obersten 25% der Stimmbezirke eine Wahlbeteiligung von über 56% haben. Außerdem kann erkannt werden, dass 25% der Stimmbezirke in Bielefeld eine Wahlbeteiligung von unter 50,5% aufweisen. Ab einer Wahlbeteiligung von weniger als 46% beginnen unterhalb des unteren Whiskers die Ausreißer, sie sind das anderthalbfache des IQRs von der Box entfernt.\n",
    "Die Spannweite beträgt rund 35%. Der obere Whisker endet bei 68% und nach unten ist das Minimum des Boxplots 33%."
   ]
  },
  {
   "cell_type": "markdown",
   "id": "b9827d18",
   "metadata": {},
   "source": [
    "# Mehrere Boxplots\n",
    "Wir können außerdem mehrere Boxplots in einer Grafik anzeigen. Hierzu erstellen wir einen Datensatz, der die Daten der Erststimmen der Parteien enthält, die in den Bundestag eingezogen sind. Anschließend erstellen wir mit diesem Datensatz eine Visualisierung mit Boxplots.\n"
   ]
  },
  {
   "cell_type": "code",
   "execution_count": null,
   "id": "2cc970b5",
   "metadata": {},
   "outputs": [],
   "source": [
    "#Datensatz mit den Parteien die in den Bundestag eingezogen sind erstellen\n",
    "data_Bund <- (data.frame(data_Wahl$CDU_Proz,data_Wahl$SPD_Proz, data_Wahl$AfD_Proz, data_Wahl$FDP_Proz, data_Wahl$DIE.LINKE_Proz,data_Wahl$GRÜNE_Proz))\n",
    "\n",
    "#Boxplot mit  mit den Parteien die in den Bundestag eingezogen sind\n",
    "#Grautoene\n",
    "boxplot(data_Bund, ylim= c(0, 50), boxwex=0.4, xaxs =\"i\", yaxs = \"i\",\n",
    "        xlab = \"Parteien im Bundestag\", ylab = \"Angabe in Prozent\",\n",
    "        main= \"Verteilung der Erststimmen - \\nParteien, die in den Bundestag eingezogen sind\",cex.main = 1.2,\n",
    "        sub = \"Datengrundlage: Ergebnis der Bundestagswahl 2017 - Bielefelder Stimmbezirke\",cex.sub = 0.8,\n",
    "        names = c(\"CDU\", \"SPD\", \"AfD\", \"FDP\", \"DIE.LINKE\", \"GRÜNE\"))\n",
    "grid (0,10, lty = 3, col = \"black\")"
   ]
  },
  {
   "cell_type": "markdown",
   "id": "1e343f14",
   "metadata": {},
   "source": [
    "Die Visualsierung ist in Grautönen gehalten und somit auch für Menschen mit *Farbfehlsichtigkeit* zugänglich. Gerade bei Visualisierungen bei denen es um politische Parteien geht werden aber auch oft die jeweiligen Parteifarben für die Visualisierung genutzt.\n",
    "Eine entsprechende Variante des Boxplots erstellen wir mit dem folgenden Skriptteil. Wir nutzen hier die Hexa-Farbcodes der Parteien."
   ]
  },
  {
   "cell_type": "code",
   "execution_count": null,
   "id": "05a3c3cc",
   "metadata": {},
   "outputs": [],
   "source": [
    "#Datensatz mit den Parteien, die in den Bundestag eingezogen sind erstellen\n",
    "data_Bund <- (data.frame(data_Wahl$CDU_Proz,data_Wahl$SPD_Proz, data_Wahl$AfD_Proz, data_Wahl$FDP_Proz, data_Wahl$DIE.LINKE_Proz,data_Wahl$GRÜNE_Proz))\n",
    "\n",
    "#Farbig - klassische Farben der Parteien\n",
    "par(bg = \"gray80\")\n",
    "boxplot(data_Bund, ylim= c(0, 50), boxwex=0.4, xaxs =\"i\", yaxs = \"i\",\n",
    "        xlab = \"Parteien im Bundestag\", ylab = \"Angabe in Prozent\",\n",
    "        main=\"Verteilung der Erststimmen - \\nParteien, die in den Bundestageingezogen sind\",cex.main = 1.2,\n",
    "        sub = \"Datengrundlage: Ergebnis der Bundestagswahl 2017 - Bielefelder Stimmbezirke\",cex.sub = 0.8,\n",
    "        names = c(\"CDU\", \"SPD\", \"AfD\", \"FDP\", \"DIE.LINKE\", \"GRÜNE\"),\n",
    "        col = c(\"#32302E\", \"#E3000F\", \"#0087CC\", \"#FFED00\", \"#DF0404\", \"#46962B\"))\n",
    "grid (0,10, lty = 3, col = \"black\")"
   ]
  },
  {
   "cell_type": "markdown",
   "id": "a11ca6cc",
   "metadata": {},
   "source": [
    "# Mehrere Boxplots in einer Grafik\n",
    "Ein breiter *Interquartilsbereich*, also eine hohe Box, zeigt an, dass die Streuung groß ist und sich die Stimmbezirke hinsichtlich der Erststimmen für die jeweils betrachtete Partei sehr unterscheiden. Ein kleiner IQR bedeutet hingegen, dass sich die Stimmbezirke hinsichtlich der Erststimmenverteilung recht ähnlich sind. Hier von ausgehend lässt sich festhalten, dass die Erststimmenverteilung der CDU die höchste Box hat deren IQR 9,4 Prozentpunkte beträgt (erstes Quartil:25,1% - drittes Quartil: 34,5%). Den kleinsten IQR der Erststimmen hat die Box der FDP mit  ca. 2,5 Prozentpunkten (erstes Quartil:5,5% - drittes Quartil: 8%). Die Wahlergebnisse der CDU unterscheiden sich also mehr in den Stimmbezirken als die Wahlergebnisse der FDP in den Stimmbezirken.\n",
    "Der Median der SPD liegt bei rund 34%, er ist damit am höchsten im Vergleich zu den anderen Parteien. Den niedrigsten Median hat im Vergleich die FDP der bei ca. 7,4% liegt. Die SPD ist die einzige Partei deren Boxplot Ausreißer nach unten aufweist, also Stimmbezirke die mit ihrem Wahlergebnis mehr als das Anderthalbfache des IQR abweichen. Der niedrigste Ausreißer liegt bei rund 20%. Im Vergleich der sogenannten *Volksparteien* (CDU,SPD) hat die *SPD* die weniger hohe Box und somit eine kleinere Streuung hinsichtlich des Wahlergebnisses der Erststimmen in den Stimmbezirken.\n",
    "Relativ ähnlich hinsichtlich der Streuung sind sich die *AfD* und die *Grünen*. Ihr Minimum liegt bei 2,5% (AfD) bzw. 2,4% (Grüne) und ihr oberer Whisker liegt bei rund 19%. Auch die IQRs sind relativ ähnlich. Das erstes Quartil der AfD liegt bei 8% und das dritte Quartil bei 11,25%. Bei den Grünen liegt das erstes Quartil bei rund 8,25% und das drittes Quartil ebenfalls bei ca. 11,25%. Einzig bei den Ausreißern nach oben unterscheiden sich die beiden Parteien. Hier weißt die AfD mit rund 26% den höchsten Ausreißer nach oben auf. \n",
    "Die Partei \"Die Linke\" besitzt die meisten Ausreißer nach oben. Fast gleich sind der Median der Linken und der Grünen. Bei der Linke liegt dieser bei 8,4% und bei den Grünen bei rund 8,7%. Die Grünen weisen im Vergleich zur Linken die höhere Streuung hinsichtlich der Verteilung des Wahlergebnisses der Stimmbezirke auf, da der Boxplot der Grünen samt Whiskern höher ist als das der Linken."
   ]
  },
  {
   "cell_type": "markdown",
   "id": "2663f3b2",
   "metadata": {},
   "source": [
    "# Violin Plots\n",
    "<img width=\"380\" align = \"right\" hspace=\"40\" src=\"Violinplot_Verteilungen.png\"/> \n",
    "\n",
    "<div style=\"text-align: left\" style=“line-height: 150%“>\n",
    "<p>\n",
    "<p> </p>    \n",
    "Ein <i>Violin-Plot</i> ähnelt einem Boxplot, allerdings mit der Ausnahme, dass zusätzlich die <i>Wahrscheinlichkeitsdichte</i> der Verteilung der Variablen angezeigt wird. Die Breite der <i>Violine</i> zeigt die Höhe dieser Wahrscheinlichkeit an, breitere Bereiche weisen hierbei eine höhere Wahrscheinlichkeit auf als niedrigere Bereiche. Im Gegensatz zu Boxplots haben Violinplots somit den Vorteil, dass sie die gesamte Verteilung der Daten zeigen und eine Aussage über die Art der Verteilung einer Variablen erlauben (z.B. <i>Normalverteilung, bivariate Verteilung, uniforme Verteilung</i>). Bezogen auf die Wahlbeteiligung bedeutet dies, dass die Breite der \"Violine\" anzeigt, wie wahrscheinlich eine bestimmte Wahlbeteiligungshöhe über für alle Bielefelder Stimmbezirke ist. \n",
    "    \n",
    "Abbildung rechts adaptiert nach https://datavizpyr.com/violinplot-vs-boxplot-when-violinplot-can-be-more-useful/    \n",
    "    \n",
    "\n",
    "Um *Violin Plots* in R plotten zu können, laden wir zunächst das Paket vioplot() und erstellen anschließend unseren erstes Violinplot für die Wahlbeteiligung der Bielefelder Stimmbezirke.\n",
    "\n",
    "<p>"
   ]
  },
  {
   "cell_type": "code",
   "execution_count": null,
   "id": "f597bca8",
   "metadata": {},
   "outputs": [],
   "source": [
    "#benoetigte Pakete laden\n",
    "library(vioplot)\n",
    "\n",
    "#Erstes Violin Plot\n",
    "vioplot(data_Wahl_ohne_Brief$Wahlbeteiligung)\n",
    "\n"
   ]
  },
  {
   "cell_type": "markdown",
   "id": "76ed66ee",
   "metadata": {},
   "source": [
    "# Violinplot Aufbau\n",
    "Der Vioplot ähnelt auch im Aufbau einem Boxplot.\n",
    "\n",
    "* **Box**\n",
    "Innerhalb der Box liegen die mittleren 50% der Werte der betrachteten Variable. Sie wird durch das erste und das dritte Quartil begrenzt. Unter dem erste Quartil liegen 25% der Werte der Verteilung und unter dem dritten Quartil (die obere Grenze der Box) liegen 75% der Verteilung.\n",
    "<p> </p> \n",
    "\n",
    "* **Median (hier als Punkt in der Box dargestellt)**\n",
    "Der Median der Variablen liegt innerhalb der Box und stellt die Grenze für das zweite Quartil wieder. Außerdem teilt der Median die die Daten. 50% der Daten liegen oberhalb des Medians und 50% liegen unterhalb des Medians. In der Box wird er mit einem Punkt dargestellt. \n",
    "<p> </p> \n",
    "* **Whisker** \n",
    "Die \"Whisker\"  setzen an den Grenzen der Box an. Ihre Länge wird von R, sofern wir das nicht verändern, automatisch  auf das anderthalbfache des Interquartilsabstandes (IQR) festgelegt (IQR*1,5). Der Interquartilsabstand wird berechnet indem der Wert des ersten Quartils vom Wert des dritten Quartils subtrahiert wird. Die Enden der \"Whisker\" bilden das Minimum (unterer \"Whisker) und das Maximum (oberer \"Whisker\").\n",
    "\n",
    "Mit Hilfe eines statistischen Verfahrens, der *Kerndichteschätzung*, wird der Violin Plot ergänzt. Dieses statistische Verfahren schätzt die Wahrscheinlichkeitsdichte der Variablen und zeigt die Verteilungsform der Daten in Form von breiter bzw. schmaler werdenden Abschnitten in der Grafik. So kann beispielsweise die Namensgebende *Violinenform* entstehen. "
   ]
  },
  {
   "cell_type": "markdown",
   "id": "6be35c12",
   "metadata": {},
   "source": [
    "# Veranschaulichung: Wahlbeteiligung mit Briefwahlbezirken \n",
    "\n",
    "Inhaltlich ist das folgende Visualisierungsbeispiel *nicht sinnvoll (!)*,  es verdeutlicht aber, wie ein Violinplot anzeigen kann, wie sich die Werte einer Verteilung verteilen, also ob diese beispielsweise um den Median herum angeordnet sind oder um andere Punkte der Verteilung. Wir betrachten hier die Wahlbeteiligung mit den Briefwahlbezirken (deren Wahlbeteiligung bei 0 Prozent liegt).\n",
    "\n",
    "Mit der Wahlbeteiligung von 0 Prozent in den Briefwahlbezirken haben wir einen Peak-Bereich um das Minimum der Verteilung als auch einen Peak-Bereich um den Median herum.\n",
    "\n",
    "*Nochmal der Hinweis, diese Darstellung dient nur der Veranschaulichung!*"
   ]
  },
  {
   "cell_type": "code",
   "execution_count": null,
   "id": "c3b66c4c",
   "metadata": {},
   "outputs": [],
   "source": [
    "# nur zur Veranschaulichung: Wahlbeteiligung mit Briefwahlbezirken \n",
    "vioplot (data_Wahl$Wahlbeteiligung, ylim = c(0,80))"
   ]
  },
  {
   "cell_type": "markdown",
   "id": "36aa5392",
   "metadata": {},
   "source": [
    "# Mehrere Violin Plots\n",
    "Wie auch bei den Boxplots lassen sich mehrere Violin Plots zusammen darstellen. Wir nutzen hierfür wieder unseren Datensatz mit den Parteien, die in den Bundestag eingezogen sind. "
   ]
  },
  {
   "cell_type": "code",
   "execution_count": null,
   "id": "606330c1",
   "metadata": {},
   "outputs": [],
   "source": [
    "#mehrere Vioplots mit den Parteien die in den Bundestag eingezogen sind\n",
    "par(bg = \"gray80\")\n",
    "vioplot(data_Bund, ylim= c(0, 50), xaxs =\"i\", yaxs = \"i\",\n",
    "         xlab = \"Parteien im Bundestag\", ylab = \"Angabe in Prozent\",\n",
    "         main=\"Verteilung der Erststimmen - \\nParteien, die in den Bundestageingezogen sind\",cex.main = 1.2,\n",
    "         sub = \"Datengrundlage: Ergebnis der Bundestagswahl 2017 - Bielefelder Stimmbezirke\",cex.sub = 0.8,\n",
    "         names = c(\"CDU\", \"SPD\", \"AfD\", \"FDP\", \"DIE.LINKE\", \"GRÜNE\"))\n",
    "grid (0,10, lty = 3, col = \"black\")"
   ]
  },
  {
   "cell_type": "markdown",
   "id": "64fd9eeb",
   "metadata": {},
   "source": [
    "# Mehrere Violin Plots\n",
    "\n",
    "Wie auch beim Vergleich der Boxplots kann bei den Violin Plots ein Vergleich hinsichtlich der Höhe der Boxen, also hinsichtlich der Streuungsunterschiede, hinsichtlich der Mediane und auch der Whisker vorgenommen werden. Der *Violin Plot* zeigt aber zusätzlich die Verteilungsform der Daten an d.h. die breiteren Bereiche des Violinen-Diagramms zeigen Werte an, die häufiger vorkommen und schmale Bereiche zeigen Werte an, die weniger häufig vorkommen. \n",
    "Wir können so erkennen, dass bei der Verteilung der Erststimmen der SPD die meisten Werte um den Median herum liegen, bei der CDU hingegen liegen die meisten Werte knapp über dem Median. Bei CDU und SPD können wir außerdem festhalten, dass die Wahrscheinlichkeitsdichte der Werte oberhalb und unterhalb des Medians relativ ähnlich ist. Die Verteilung der Erststimmen der anderen Parteien unterscheidet sich von der Verteilung der beiden *Volksparteien* - AfD, Die Linke und auch die Grünen laufen in ihren Verteilungen nach oben wesentlich spitzer zu und weisen nicht diese (angenährt) symetrische Verteilung auf. Das was bei den Boxplots durch die Ausreißer nach oben dargestellt wird, führt bei den Violin Plots zu den langen nach oben gezogenen Spitzen. Bei der FDP lassen sich außerdem Schwankungen in der Verteilung ausmachen. Bei rund 7,5% ist zu erkennen, dass die Wahrscheinlichkeitsdichte einen kleinen Peak hat, dann über 7,5% kurz wieder abnimmt um anschließend wieder zu steigen."
   ]
  }
 ],
 "metadata": {
  "hide_input": false,
  "kernelspec": {
   "display_name": "R",
   "language": "R",
   "name": "ir-datengeschichten"
  },
  "language_info": {
   "codemirror_mode": "r",
   "file_extension": ".r",
   "mimetype": "text/x-r-source",
   "name": "R",
   "pygments_lexer": "r",
   "version": "4.1.0"
  },
  "toc": {
   "base_numbering": 1,
   "nav_menu": {},
   "number_sections": true,
   "sideBar": true,
   "skip_h1_title": false,
   "title_cell": "Table of Contents",
   "title_sidebar": "Contents",
   "toc_cell": false,
   "toc_position": {
    "height": "calc(100% - 180px)",
    "left": "10px",
    "top": "150px",
    "width": "165px"
   },
   "toc_section_display": true,
   "toc_window_display": true
  }
 },
 "nbformat": 4,
 "nbformat_minor": 5
}
