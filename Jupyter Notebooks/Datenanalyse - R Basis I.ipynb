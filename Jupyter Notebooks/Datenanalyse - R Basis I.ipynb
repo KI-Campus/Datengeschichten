{
 "cells": [
  {
   "cell_type": "markdown",
   "id": "d57820f3",
   "metadata": {
    "deletable": false,
    "editable": false,
    "run_control": {
     "frozen": true
    }
   },
   "source": [
    "# Datenanalyse - R Basis \n",
    "   **Erwerbe R-Basiskompetenzen am Beispiel von regionalen Daten aus OWL**"
   ]
  },
  {
   "cell_type": "markdown",
   "id": "2fa4eec7",
   "metadata": {
    "deletable": false,
    "editable": false,
    "run_control": {
     "frozen": true
    }
   },
   "source": [
    "In diesem ersten Jupyter Notebook aus dem Kurs ***„Von der Datenanalyse zur Datengeschichte – Datenanalyseergebnisse adressat:innengerecht kommunizieren“*** wollen wir dir, anhand von offen regionalen Daten(-sätzen) der *Stadt Bielefeld* und aus der Region *Ostwestfalen-Lippe (OWL)*, zunächst einige Basiskenntnisse für die Datenanalyse in R vermitteln, die du später benötigen wirst.\n",
    "\n",
    "\n",
    "\n",
    "\n",
    "\n",
    "\n",
    "\n"
   ]
  },
  {
   "cell_type": "markdown",
   "id": "530c3686",
   "metadata": {
    "solution": "hidden",
    "solution_first": true
   },
   "source": [
    "## Wie können Daten in R eingegeben werden?"
   ]
  },
  {
   "cell_type": "markdown",
   "id": "5af4258c",
   "metadata": {
    "deletable": false,
    "editable": false,
    "run_control": {
     "frozen": true
    }
   },
   "source": [
    "<img align=\"right\" src=\"North_rhine_w_OWL(2).svg\" width=\"250\"/>\n",
    " \n",
    "Stell dir vor, wir möchten die Einwohner:innenzahlen der sechs größten Städte in Ostwestfalen in R eingeben/speichern. Hierzu muss für jede Stadt eine Variable definiert werden, der dann die Einwohner:innenzahl als Wert zugewiesen wird. Nehmen wir zunächst die Einwohner:innenzahl von Bielefeld: 334195 (*Stand 31.12.2019*).\n",
    "\n",
    "- **Bielefeld:** 334195\n",
    "- **Paderborn:** 151633\n",
    "- **Gütersloh:** 100861\n",
    "- **Minden:** 81716\n",
    "- **Detmold:** 74254\n",
    "- **Herford:** 66638"
   ]
  },
  {
   "cell_type": "markdown",
   "id": "ae2d0298",
   "metadata": {},
   "source": [
    "<div class=\"pull-right\">  \n",
    "<p style=\"font-size:8px;\">Von TUBS, \n",
    "  <a href=\"https://creativecommons.org/licenses/by-sa/3.0/\">CC BY-SA 3.0</a> \n",
    "  <a href=\"https://commons.wikimedia.org/w/index.php?curid=4915994\">Wikimedia</a>\n",
    "</p>\n",
    "</div>"
   ]
  },
  {
   "cell_type": "markdown",
   "id": "05aae95c",
   "metadata": {
    "deletable": false,
    "editable": false,
    "run_control": {
     "frozen": true
    }
   },
   "source": [
    "Hierfür verwenden wir den Zuweisungoperator `<-` (Pfeil nach links) um die Einwohner:innenzahl von Bielefeld der Variablen *Bi* zuzuweisen. Um zu kommentieren, was wir in *R* ausführen, können wir das *Rautesymbol* `#` verwenden. \n",
    "\n",
    "**Gut zu Wissen**: du könntest an dieser Stelle auch das Gleichheitszeichen `=` verwenden. Allerdings wird in R `<-` bevorzugt. Für die meisten Fälle macht es keinen Unterschied, ob du das Gleichheitszeichen oder den Links-Pfeil verwendest."
   ]
  },
  {
   "cell_type": "code",
   "execution_count": null,
   "id": "9e80e13a",
   "metadata": {
    "vscode": {
     "languageId": "r"
    }
   },
   "outputs": [],
   "source": [
    "Bi <- 334195 # Die Einwohner:innenzahl von Bielefeld Bi zuweisen\n",
    "\n",
    "Bi2 = 334195 # Die Einwohner:innenzahl von Bielefeld Bi2 zuweisen"
   ]
  },
  {
   "cell_type": "markdown",
   "id": "04e0378e",
   "metadata": {
    "deletable": false,
    "editable": false,
    "run_control": {
     "frozen": true
    }
   },
   "source": [
    "Wenn du nun den Namen der Variable eingibst, erhälst du die Einwohner:innenzahl als Ausgabe."
   ]
  },
  {
   "cell_type": "code",
   "execution_count": null,
   "id": "275791db",
   "metadata": {
    "scrolled": true,
    "solution": "hidden",
    "vscode": {
     "languageId": "r"
    }
   },
   "outputs": [],
   "source": [
    "Bi\n",
    "\n",
    "Bi2"
   ]
  },
  {
   "cell_type": "markdown",
   "id": "c7b15c3b",
   "metadata": {
    "deletable": false,
    "editable": false,
    "run_control": {
     "frozen": true
    }
   },
   "source": [
    "**Aufgabe 1**\n",
    "\n",
    "Jetzt probier du es  einmal: Definiere Variablen für die 5 restlichen obengenannten OWL-Städte und lass sie dir ausgeben! "
   ]
  },
  {
   "cell_type": "code",
   "execution_count": null,
   "id": "0f555d2f",
   "metadata": {
    "solution2": "hidden",
    "solution2_first": true,
    "vscode": {
     "languageId": "r"
    }
   },
   "outputs": [],
   "source": []
  },
  {
   "cell_type": "code",
   "execution_count": null,
   "id": "cec725cf",
   "metadata": {
    "solution": "shown",
    "solution2": "hidden",
    "solution_first": true,
    "vscode": {
     "languageId": "r"
    }
   },
   "outputs": [],
   "source": [
    "Dt <- 74254\n",
    "Gt <- 100861\n",
    "Hf <- 66638\n",
    "Mi <- 81716\n",
    "Pb <- 151633\n",
    "\n",
    "\n",
    "Dt; Gt; Hf; Mi; Pb #  Ausgabe zeigen für alle 5 Städte"
   ]
  },
  {
   "cell_type": "markdown",
   "id": "18fc9e5d",
   "metadata": {
    "deletable": false,
    "editable": false,
    "run_control": {
     "frozen": true
    }
   },
   "source": [
    "## Datentypen in R\n",
    "\n",
    "Um mit R zu arbeiten, ist es zunächst wichtig zu verstehen, welche unterschiedlichen *Datentypen* von R genutzt werden und wie sich diese unterscheiden. Wir werden dir hier einige ausgewählte, wichtige Datentypen vorstellen:\n",
    "\n",
    "**Einfache Datentypen**:\n",
    "\n",
    "* **Ganzzahl** (*integer*) => **Beispiel**: 3L, 500L, 20L\n",
    "\n",
    "* **Gleitkommazahl** (*numeric*) => **Beispiel**: 2.99, 3, 501.33333\n",
    "\n",
    "* **Zeichenkette, Worte** (*character*) => **Beispiel**: 'z', \"OWL\", \"209\" \n",
    "\n",
    "* **Wahr oder Falsch** (*logical*) => **Beispiel**: TRUE, FALSE\n",
    "\n"
   ]
  },
  {
   "cell_type": "markdown",
   "id": "87fb2edb",
   "metadata": {
    "deletable": false,
    "editable": false,
    "run_control": {
     "frozen": true
    }
   },
   "source": [
    "### Ganzzahl (*integer*)\n",
    "\n",
    "Hierbei handelt es sich, wie der Name schon vermuten lässt, um positive oder negative **ganze** Zahlen. Mit der Funktion `is.integer()` können wir überprüfen, ob eine Variable von R als Ganzzahl behandelt wird.\n",
    "\n",
    "Da es sich bei der Einwohner:innenzahl von Bielefeld um eine Ganzzahl handelt, können wir nun also überpüfen, ob unsere Variable `Bi` von R als Ganzzahl behandelt wird."
   ]
  },
  {
   "cell_type": "markdown",
   "id": "30ddddf6",
   "metadata": {
    "deletable": false,
    "editable": false,
    "run_control": {
     "frozen": true
    }
   },
   "source": [
    "**Gut zu Wissen**: R definiert jedoch auch eine Ganzzahl-Eingabe zunächst als Gleitkommazahl *numeric*. "
   ]
  },
  {
   "cell_type": "code",
   "execution_count": null,
   "id": "94cb54a1",
   "metadata": {
    "vscode": {
     "languageId": "r"
    }
   },
   "outputs": [],
   "source": [
    "# Überprüfen, ob unsere Variable Bi als Ganzzahl gespeichert ist\n",
    "\n",
    "is.integer(Bi)"
   ]
  },
  {
   "cell_type": "markdown",
   "id": "ab673007",
   "metadata": {
    "deletable": false,
    "editable": false,
    "run_control": {
     "frozen": true
    }
   },
   "source": [
    "Wir erhalten als Ausgabe `FALSE`, `Bi` ist also nicht als Ganzzahl gespeichert."
   ]
  },
  {
   "cell_type": "markdown",
   "id": "f95f7200",
   "metadata": {
    "deletable": false,
    "editable": false,
    "run_control": {
     "frozen": true
    }
   },
   "source": [
    "Wenn wir die Variable Bi tatsächlich als **integer** speichern möchten, dann müssen wir `L` für „Long“ hinter die Variable hängen:"
   ]
  },
  {
   "cell_type": "code",
   "execution_count": null,
   "id": "8df5cac4",
   "metadata": {
    "vscode": {
     "languageId": "r"
    }
   },
   "outputs": [],
   "source": [
    "Bi_int <- 334195L # Bi als integer\n",
    "\n",
    "is.integer(Bi_int)"
   ]
  },
  {
   "cell_type": "markdown",
   "id": "e21421db",
   "metadata": {
    "deletable": false,
    "editable": false,
    "run_control": {
     "frozen": true
    }
   },
   "source": [
    "### Gleitkommazahl (*numeric*)\n",
    "\n",
    "Hierbei handelt es sich, wie der Name schon vermuten lässt, um eine Kommazahl. Allerdings definiert R ohne weitere Angaben auch eine Ganzzahl zunächst als Gleitkommazahl. Das können wir\n",
    "mit der Funktion `is.numeric()` überprüfen:"
   ]
  },
  {
   "cell_type": "code",
   "execution_count": null,
   "id": "93940944",
   "metadata": {
    "vscode": {
     "languageId": "r"
    }
   },
   "outputs": [],
   "source": [
    "# Überprüfen, ob Bi eine Gleitkommazahl ist \n",
    "\n",
    "is.numeric(Bi)"
   ]
  },
  {
   "cell_type": "markdown",
   "id": "1cd4a5ee",
   "metadata": {
    "deletable": false,
    "editable": false,
    "run_control": {
     "frozen": true
    }
   },
   "source": [
    "Wir erhalten die Ausgabe `TRUE`, das heißt das Bi von *R* als Gleitkommazahl behandelt wird."
   ]
  },
  {
   "cell_type": "markdown",
   "id": "7f3d7307",
   "metadata": {
    "deletable": false,
    "editable": false,
    "run_control": {
     "frozen": true
    }
   },
   "source": [
    "### Zeichenkette, Worte (character)\n",
    "\n",
    "Dieser Datentyp ermöglicht es Text zu speichern. Einzelne Zeichen wie z.B. „z“ werden als *character* oder kurz *char* bezeichnet. Ketten von Zeichen wie Worte als *strings*."
   ]
  },
  {
   "cell_type": "markdown",
   "id": "bd340809",
   "metadata": {
    "deletable": false,
    "editable": false,
    "run_control": {
     "frozen": true
    }
   },
   "source": [
    "Wir möchten nun statt der Einwohner:innenzahl von Bielefeld als Zahl (334195), die Einwohner:innenzahl als Wort angeben: Dreihundertvierunddreißigtausendeinhundertfünfundneunzig. \n",
    "\n",
    "**Gut zu Wissen**: Um eine Variable in R als *character* zu definieren ist es wichtig, diese in Anführungstriche, *doppelt* oder *einfach*, zu setzen."
   ]
  },
  {
   "cell_type": "code",
   "execution_count": null,
   "id": "9fb882db",
   "metadata": {
    "vscode": {
     "languageId": "r"
    }
   },
   "outputs": [],
   "source": [
    "Bi_Wort <- \"Dreihundertvierunddreißigtausendeinhundertfünfundneunzig\"; \n",
    "\n",
    "Bi_Wort\n",
    "\n",
    "Bi_Wort2 <- 'Dreihundertvierunddreißigtausendeinhundertfünfundneunzig';\n",
    "\n",
    "Bi_Wort\n",
    "\n",
    "is.character(Bi_Wort) # überprüfen ob Character\n",
    "\n",
    "Bi_Wort2\n",
    "\n",
    "is.character(Bi_Wort2) # überprüfen ob Character"
   ]
  },
  {
   "cell_type": "markdown",
   "id": "f4a89d40",
   "metadata": {
    "deletable": false,
    "editable": false,
    "run_control": {
     "frozen": true
    }
   },
   "source": [
    "Wenn wir nun wissen möchten wie lang `Bi_Wort` ist, dann können wir das mit `nchar()` herausfinden:"
   ]
  },
  {
   "cell_type": "code",
   "execution_count": null,
   "id": "1b04f511",
   "metadata": {
    "vscode": {
     "languageId": "r"
    }
   },
   "outputs": [],
   "source": [
    "Anzahl_Char_Bi_Wort <- nchar(Bi_Wort) # nchar kann man sich die Anzahl der Buchstaben ausgeben lassen\n",
    "Anzahl_Char_Bi_Wort \n",
    "\n",
    "length(Bi_Wort)# überprüfen, ob Anzahl_Char_Bi_Wort der Länge von Bi_Wort entspricht"
   ]
  },
  {
   "cell_type": "markdown",
   "id": "3c80db93",
   "metadata": {},
   "source": [
    "**Gut zu Wissen**: Wie oben zu sehen, gibt `length(character)` nicht die Anzahl der einzelnen Zeichen an.\n",
    "Hierfür brauchen wir `nchar()`."
   ]
  },
  {
   "cell_type": "markdown",
   "id": "048d012d",
   "metadata": {},
   "source": [
    "**Aufgabe 2**: Speichere die Namen der 6 größten Städte in OWL in jeweils einer Variablen und lass dir den Inhalt der Variablen ausgeben:\n",
    "\n"
   ]
  },
  {
   "cell_type": "code",
   "execution_count": null,
   "id": "4ae88c0a",
   "metadata": {
    "solution2": "hidden",
    "solution2_first": true,
    "vscode": {
     "languageId": "r"
    }
   },
   "outputs": [],
   "source": []
  },
  {
   "cell_type": "code",
   "execution_count": null,
   "id": "336c60b7",
   "metadata": {
    "solution2": "hidden",
    "vscode": {
     "languageId": "r"
    }
   },
   "outputs": [],
   "source": [
    "Hf_Name <- \"Herford\"\n",
    "Bi_Name <- \"Bielefeld\"\n",
    "Pb_Name <- \"Paderborn\"\n",
    "Mi_Name <- \"Minden\"\n",
    "Gt_Name <- \"Güthersloh\"\n",
    "Dt_Name <- \"Detmold\"\n",
    "\n",
    "Hf_Name;Bi_Name;Pb_Name;Mi_Name;Gt_Name;Dt_Name"
   ]
  },
  {
   "cell_type": "markdown",
   "id": "305f2690",
   "metadata": {},
   "source": [
    "## Wichtige Objekttypen in R"
   ]
  },
  {
   "cell_type": "markdown",
   "id": "6bb8e7eb",
   "metadata": {},
   "source": [
    "*R* ist eine objekt-basierte Programmiersprache. Objekte können z.B. wie oben ausgeführt einzelne Werte (Variablen) oder auch eine Menge von Werten (Datensätze) enthalten. **Alles** in R ist ein Objekt.\n",
    "\n",
    "Wir möchten dir nun zwei wichtige Objekttypen in R darstellen:\n",
    "\n",
    "* Vektor\n",
    "* Dataframe („Datenrahmen“)\n"
   ]
  },
  {
   "cell_type": "markdown",
   "id": "85790381",
   "metadata": {},
   "source": [
    "### Vektoren"
   ]
  },
  {
   "cell_type": "markdown",
   "id": "4f52177f",
   "metadata": {
    "deletable": false,
    "editable": false,
    "run_control": {
     "frozen": true
    }
   },
   "source": [
    "Ein *Vektor* besteht aus einer Anzahl von *n* Elementen. Es gibt unterschiedliche Typen von Vektoren: \n",
    "\n",
    "* *numeric* (numerischer Vektor) => nur Zahlenwerte\n",
    "* *character* (Text-Vektor) => nur Buchstaben \n",
    "\n",
    "Um einen Vektor zu erstellen können wir die `c()`-Funktion nutzen: `c(Wert_1, Wert_2, …, Wert_n)`.\n",
    "\n",
    "**Gut zu Wissen**: Ein Vektor kann in R auch die Länge `n = 1` haben. Das heißt beispielsweise, dass auch die oben berechneten Variablen `Bi` und `Bi2` Vektoren sind. Ob dies auch wirklich stimmt, können wir mit `is.vector()` überprüfen.\n"
   ]
  },
  {
   "cell_type": "code",
   "execution_count": null,
   "id": "743f1457",
   "metadata": {
    "vscode": {
     "languageId": "r"
    }
   },
   "outputs": [],
   "source": [
    "is.vector(Bi) # überprüfen, ob die Variablen Bi und Bi2 Vektoren sind\n",
    "is.vector(Bi2)"
   ]
  },
  {
   "cell_type": "markdown",
   "id": "9c27971c",
   "metadata": {},
   "source": [
    "**Numerische Vektoren**\n",
    "\n",
    "Mit `c()` kannst du einen **Vektor** `n > 1` erstellen. Wenn du zum Beispiel einen numerischen Vektor `Einwohner_OWL` erstellen möchtest, der die Einwohner:innenzahlen aller sechs obengenannten OWl-Städte enthält, sähe dies so aus:"
   ]
  },
  {
   "cell_type": "code",
   "execution_count": null,
   "id": "51ebdf35",
   "metadata": {
    "vscode": {
     "languageId": "r"
    }
   },
   "outputs": [],
   "source": [
    "Einwohner_OWL <- c(Bi,Pb,Gt,Mi,Dt,Hf)\n",
    "\n",
    "print(Einwohner_OWL) # Vektor anzeigen"
   ]
  },
  {
   "cell_type": "markdown",
   "id": "99864085",
   "metadata": {
    "deletable": false,
    "editable": false,
    "run_control": {
     "frozen": true
    }
   },
   "source": [
    "Um auf Elemente eines Vektors zuzugreifen, verwendest du den Namen des Vektors mit dem Index des Vektorteils auf den du zugreifen möchtest in eckigen Klammern: `Vektorname[Index]`:"
   ]
  },
  {
   "cell_type": "code",
   "execution_count": null,
   "id": "be942e0d",
   "metadata": {
    "vscode": {
     "languageId": "r"
    }
   },
   "outputs": [],
   "source": [
    "Einwohner_OWL[1] # gibt das erste Element des Vektors an"
   ]
  },
  {
   "cell_type": "code",
   "execution_count": null,
   "id": "d9f84fad",
   "metadata": {
    "vscode": {
     "languageId": "r"
    }
   },
   "outputs": [],
   "source": [
    "Einwohner_OWL[6] # gibt das letzte 6. Element des Vektors an"
   ]
  },
  {
   "cell_type": "code",
   "execution_count": null,
   "id": "423dde86",
   "metadata": {
    "vscode": {
     "languageId": "r"
    }
   },
   "outputs": [],
   "source": [
    "Einwohner_OWL[2:5] # gibt das zweite bis fünfte Element des Vektors an"
   ]
  },
  {
   "cell_type": "code",
   "execution_count": null,
   "id": "afd47a78",
   "metadata": {
    "vscode": {
     "languageId": "r"
    }
   },
   "outputs": [],
   "source": [
    "Einwohner_OWL[c(2,5)] # gibt das zweite UND fünfte Element des Vektors an"
   ]
  },
  {
   "cell_type": "code",
   "execution_count": null,
   "id": "1a56effa",
   "metadata": {
    "vscode": {
     "languageId": "r"
    }
   },
   "outputs": [],
   "source": [
    "Einwohner_OWL[] # gibt den ganzen Vektor wieder"
   ]
  },
  {
   "cell_type": "code",
   "execution_count": null,
   "id": "1cba5daa",
   "metadata": {
    "vscode": {
     "languageId": "r"
    }
   },
   "outputs": [],
   "source": [
    "Einwohner_OWL [length(Einwohner_OWL)] # gibt das letzte Element des Vektors wieder"
   ]
  },
  {
   "cell_type": "markdown",
   "id": "1ff66352",
   "metadata": {
    "deletable": false,
    "editable": false,
    "run_control": {
     "frozen": true
    }
   },
   "source": [
    "Schau dir einmal an, was passiert, wenn wir als Index einen negativen Wert verwenden: `Vektorname[-Index]`:"
   ]
  },
  {
   "cell_type": "code",
   "execution_count": null,
   "id": "a1350a98",
   "metadata": {
    "vscode": {
     "languageId": "r"
    }
   },
   "outputs": [],
   "source": [
    "Einwohner_OWL2 <- Einwohner_OWL[-1]\n",
    "Einwohner_OWL2"
   ]
  },
  {
   "cell_type": "markdown",
   "id": "a53cdbb8",
   "metadata": {
    "deletable": false,
    "editable": false,
    "run_control": {
     "frozen": true
    }
   },
   "source": [
    "**Gut zu Wissen**: Mit einem negativen Index können wir das Element an der angebenen Position aus dem Vektor entfernen."
   ]
  },
  {
   "cell_type": "markdown",
   "id": "15732b76",
   "metadata": {
    "deletable": false,
    "editable": false,
    "run_control": {
     "frozen": true
    }
   },
   "source": [
    "**Text-Vektoren:**  \n",
    "\n",
    "Mit `c()` kannst du auch einen Text-Vektor `Staedte_OWL` erstellen, der die Namen der sechs obenangebenen OWl-Städte enthält. Auf die Elemente eines Textvektors kannst du nach den gleichen Prinzipien zugreifen, wie auf einen numerischen Vektor."
   ]
  },
  {
   "cell_type": "code",
   "execution_count": null,
   "id": "6702280e",
   "metadata": {
    "vscode": {
     "languageId": "r"
    }
   },
   "outputs": [],
   "source": [
    "Staedte_OWL <- c(Bi_Name,Pb_Name,Gt_Name,Mi_Name,Dt_Name,Hf_Name)\n",
    "\n",
    "print(Staedte_OWL) # Vektor anzeigen"
   ]
  },
  {
   "cell_type": "markdown",
   "id": "7025ce93",
   "metadata": {
    "deletable": false,
    "editable": false,
    "run_control": {
     "frozen": true
    }
   },
   "source": [
    "**Aufgabe 3** \n",
    "\n",
    "3a) Lass dir das letzte Element des Vektors `Staedte_OWL` ausgeben:"
   ]
  },
  {
   "cell_type": "code",
   "execution_count": null,
   "id": "dc217607",
   "metadata": {
    "solution2": "hidden",
    "solution2_first": true,
    "vscode": {
     "languageId": "r"
    }
   },
   "outputs": [],
   "source": []
  },
  {
   "cell_type": "code",
   "execution_count": null,
   "id": "5a344a34",
   "metadata": {
    "solution2": "hidden",
    "vscode": {
     "languageId": "r"
    }
   },
   "outputs": [],
   "source": [
    "Staedte_OWL[length(Staedte_OWL)]"
   ]
  },
  {
   "cell_type": "markdown",
   "id": "ca3c8360",
   "metadata": {},
   "source": [
    "3b) Lass dir die ersten drei Elemente des Vektors `Staedte_OWL` ausgeben:"
   ]
  },
  {
   "cell_type": "code",
   "execution_count": null,
   "id": "25692205",
   "metadata": {
    "solution2": "hidden",
    "solution2_first": true,
    "vscode": {
     "languageId": "r"
    }
   },
   "outputs": [],
   "source": []
  },
  {
   "cell_type": "code",
   "execution_count": null,
   "id": "36f32d18",
   "metadata": {
    "solution2": "hidden",
    "vscode": {
     "languageId": "r"
    }
   },
   "outputs": [],
   "source": [
    "Staedte_OWL[1:3]"
   ]
  },
  {
   "cell_type": "markdown",
   "id": "17874811",
   "metadata": {},
   "source": [
    "3c) Lass dir das 4. und 6. Element des Vektors `Staedte_OWL` ausgeben:"
   ]
  },
  {
   "cell_type": "code",
   "execution_count": null,
   "id": "3bbf8414",
   "metadata": {
    "solution2": "hidden",
    "solution2_first": true,
    "vscode": {
     "languageId": "r"
    }
   },
   "outputs": [],
   "source": []
  },
  {
   "cell_type": "code",
   "execution_count": null,
   "id": "b1cd0fee",
   "metadata": {
    "solution2": "hidden",
    "vscode": {
     "languageId": "r"
    }
   },
   "outputs": [],
   "source": [
    "Staedte_OWL[c(4,6)]"
   ]
  },
  {
   "cell_type": "markdown",
   "id": "0b6244c2",
   "metadata": {
    "deletable": false,
    "editable": false,
    "run_control": {
     "frozen": true
    }
   },
   "source": [
    "### Dataframes \n",
    "\n",
    "Die Besonderheit eines Dataframes oder „Datenrahmens“ ist es, dass anders als z. B. in einem Vektor innerhalb eines Dataframes auch unterschiedliche **Datentypen** gespeichert werden können (z. B. `numeric, character`): \n",
    "\n",
    "Mit `data.frame()` können einzelne Vektoren zu einem Dataframe zusammengefasst werden. Wichtig ist hier allerdings, dass die Vektoren die gleiche Länge haben."
   ]
  },
  {
   "cell_type": "code",
   "execution_count": null,
   "id": "214cc97a",
   "metadata": {
    "vscode": {
     "languageId": "r"
    }
   },
   "outputs": [],
   "source": [
    "Jahr <- 2000:2019 # Vektor Jahr von 2000 bis 2019 erstellen\n",
    "\n",
    "Jahr\n",
    "\n",
    "length(Jahr)# Länge Vektor Jahr ausgeben"
   ]
  },
  {
   "cell_type": "code",
   "execution_count": null,
   "id": "e7b64649",
   "metadata": {
    "vscode": {
     "languageId": "r"
    }
   },
   "outputs": [],
   "source": [
    "# Vektor mit Bielefelder Einwohner:innenzahlen von 2000 bis 2019 erstellen\n",
    "\n",
    "Einwohner_Bi_Verlauf <- c(321758,323373,324815,328452,328012, \n",
    "                          326925,325846,324912,323615,323084, \n",
    "                          323270,327199,328314,328864,329782, \n",
    "                          333090,333451,332552,333786,334195)\n",
    "Einwohner_Bi_Verlauf\n",
    "\n",
    "length(Einwohner_Bi_Verlauf) # Länge des Vektors ausgeben"
   ]
  },
  {
   "cell_type": "code",
   "execution_count": null,
   "id": "258dec8d",
   "metadata": {
    "vscode": {
     "languageId": "r"
    }
   },
   "outputs": [],
   "source": [
    "# Erstelle Text-Vektor\n",
    "\n",
    "Bi_Text <- rep(\"Bielefeld\",20)\n",
    "\n",
    "Bi_Text # Vektor Bi_Text anzeigen\n",
    "\n",
    "length(Bi_Text) # Länge Vektor Bi_Text anzeigen"
   ]
  },
  {
   "cell_type": "code",
   "execution_count": null,
   "id": "28bb2a3e",
   "metadata": {
    "vscode": {
     "languageId": "r"
    }
   },
   "outputs": [],
   "source": [
    "Einwohner_Bi_2000_2019 <- data.frame(Einwohner_Bi_Verlauf,Jahr, Bi_Text) # erstelle Data.Frame aus Vektoren\n",
    "\n",
    "View(Einwohner_Bi_2000_2019)"
   ]
  },
  {
   "cell_type": "markdown",
   "id": "7d4475a3",
   "metadata": {
    "deletable": false,
    "editable": false,
    "run_control": {
     "frozen": true
    }
   },
   "source": [
    "Schau dir `Einwohner_Bi_2000_2019` zunächst mit `str()` an:"
   ]
  },
  {
   "cell_type": "code",
   "execution_count": null,
   "id": "da4e291a",
   "metadata": {
    "vscode": {
     "languageId": "r"
    }
   },
   "outputs": [],
   "source": [
    "str(Einwohner_Bi_2000_2019) # zeigt die Struktur des Dataframes an"
   ]
  },
  {
   "cell_type": "markdown",
   "id": "4bf08be2",
   "metadata": {
    "deletable": false,
    "editable": false,
    "run_control": {
     "frozen": true
    }
   },
   "source": [
    "Wenn dich nur die Anzahl der **Reihen** und **Spalten** des Dataframes intessieren, kannst du dir diese\n",
    "mit `dim()` anzeigen lassen:"
   ]
  },
  {
   "cell_type": "code",
   "execution_count": null,
   "id": "a572ec87",
   "metadata": {
    "vscode": {
     "languageId": "r"
    }
   },
   "outputs": [],
   "source": [
    "dim(Einwohner_Bi_2000_2019) # zeigt die Dimension des Dataframes nach Reihe und Spalte an"
   ]
  },
  {
   "cell_type": "markdown",
   "id": "146e09e6",
   "metadata": {
    "deletable": false,
    "editable": false,
    "run_control": {
     "frozen": true
    }
   },
   "source": [
    "Wenn du dir nun für den Dataframe `Einwohner_Bi_2000_2019` z. B. das 3. Element der 2. Spalte ausgeben lassen möchtest, erreichst dies durch:"
   ]
  },
  {
   "cell_type": "code",
   "execution_count": null,
   "id": "ab46dee5",
   "metadata": {
    "vscode": {
     "languageId": "r"
    }
   },
   "outputs": [],
   "source": [
    "Einwohner_Bi_2000_2019[3,2] # Index Reihe, Index Spalte"
   ]
  },
  {
   "cell_type": "markdown",
   "id": "4388dd1f",
   "metadata": {
    "deletable": false,
    "editable": false,
    "run_control": {
     "frozen": true
    }
   },
   "source": [
    "Die ganze 3. Reihe des Dataframes kannst du dir so ausgeben lassen:"
   ]
  },
  {
   "cell_type": "code",
   "execution_count": null,
   "id": "729897a8",
   "metadata": {
    "vscode": {
     "languageId": "r"
    }
   },
   "outputs": [],
   "source": [
    "Einwohner_Bi_2000_2019[3,] # Index Reihe, Index Spalte"
   ]
  },
  {
   "cell_type": "markdown",
   "id": "43d63309",
   "metadata": {},
   "source": [
    "Die ganze 1. Spalte des Dataframes kannst du dir entsprechend so ausgeben lassen:"
   ]
  },
  {
   "cell_type": "code",
   "execution_count": null,
   "id": "d3efb984",
   "metadata": {
    "vscode": {
     "languageId": "r"
    }
   },
   "outputs": [],
   "source": [
    "Einwohner_Bi_2000_2019[,1] # Index Reihe, Index Spalte"
   ]
  },
  {
   "cell_type": "markdown",
   "id": "f6bff262",
   "metadata": {
    "deletable": false,
    "editable": false,
    "run_control": {
     "frozen": true
    }
   },
   "source": [
    "Es gibt allerdings noch eine andere Möglichkeit, auf die Spalten eines Dataframes zuzugreifen. Hierfür musst du das Dollarzeichen verwenden: `DataframeName$SpaltenName`."
   ]
  },
  {
   "cell_type": "code",
   "execution_count": null,
   "id": "4edacff2",
   "metadata": {
    "vscode": {
     "languageId": "r"
    }
   },
   "outputs": [],
   "source": [
    "# ruft die erste Spalte des Dataframes  Einwohner_Bi_2000_2019 auf \n",
    "\n",
    "Einwohner_Bi_2000_2019$Einwohner_Bi_Verlauf "
   ]
  },
  {
   "cell_type": "markdown",
   "id": "8dee6e8d",
   "metadata": {},
   "source": [
    "# Bevölkerungsdaten Stadt Bielefeld gesamt\n",
    " https://open-data.bielefeld.de/dataset/alters-und-geschlechtsstruktur-2018-2020"
   ]
  },
  {
   "cell_type": "code",
   "execution_count": null,
   "id": "216f0646",
   "metadata": {
    "vscode": {
     "languageId": "r"
    }
   },
   "outputs": [],
   "source": [
    "# Bevölkerungsdaten Bielfeld als Dataframe einlesen\n",
    "data_Bv_Bi <- read.csv(url(\"https://open-data.bielefeld.de/sites/default/files/Alters_und_Geschlechtsstruktur2018bis2020ges_0.csv\"), header = TRUE, sep = ';')"
   ]
  },
  {
   "cell_type": "code",
   "execution_count": null,
   "id": "ede1bfae",
   "metadata": {
    "vscode": {
     "languageId": "r"
    }
   },
   "outputs": [],
   "source": [
    "str(data_Bv_Bi) #Struktur des Dataframe anzeigen"
   ]
  },
  {
   "cell_type": "code",
   "execution_count": null,
   "id": "8d7fc6ef",
   "metadata": {
    "vscode": {
     "languageId": "r"
    }
   },
   "outputs": [],
   "source": [
    "View(data_Bv_Bi) # zeigt den gesamten Dataframe an"
   ]
  },
  {
   "cell_type": "markdown",
   "id": "e4cf35a1",
   "metadata": {},
   "source": [
    "**Aufgabe 4**:"
   ]
  },
  {
   "cell_type": "markdown",
   "id": "90bb75bb",
   "metadata": {},
   "source": [
    "4a) Zeige die ersten 10 Elemente der 5. Spalte des Dataframes `data_Bv_Bi` an:"
   ]
  },
  {
   "cell_type": "code",
   "execution_count": null,
   "id": "e78eee3e",
   "metadata": {
    "solution2": "hidden",
    "solution2_first": true,
    "vscode": {
     "languageId": "r"
    }
   },
   "outputs": [],
   "source": []
  },
  {
   "cell_type": "code",
   "execution_count": null,
   "id": "d21e23d9",
   "metadata": {
    "solution2": "hidden",
    "vscode": {
     "languageId": "r"
    }
   },
   "outputs": [],
   "source": [
    "data_Bv_Bi$Einwohner_innen.am.Ort.der.Hauptwohnung[1:10]"
   ]
  },
  {
   "cell_type": "markdown",
   "id": "38de085d",
   "metadata": {},
   "source": [
    "4b) Zeige die 4. Reihe des Dataframes `data_Bv_Bi` an:"
   ]
  },
  {
   "cell_type": "code",
   "execution_count": null,
   "id": "b46bab44",
   "metadata": {
    "solution2": "hidden",
    "solution2_first": true,
    "vscode": {
     "languageId": "r"
    }
   },
   "outputs": [],
   "source": []
  },
  {
   "cell_type": "code",
   "execution_count": null,
   "id": "f12834fa",
   "metadata": {
    "solution2": "hidden",
    "vscode": {
     "languageId": "r"
    }
   },
   "outputs": [],
   "source": [
    "data_Bv_Bi[4,]"
   ]
  },
  {
   "cell_type": "markdown",
   "id": "8a7385b8",
   "metadata": {},
   "source": [
    "4c) Lösch die zweite Spalte aus dem Dataframe `data_Bv_Bi` und erstelle dabei den neuen Dataframe `data_Bv_Bi_ohne_Spalte2`:"
   ]
  },
  {
   "cell_type": "code",
   "execution_count": null,
   "id": "f01eb8d7",
   "metadata": {
    "solution2": "hidden",
    "solution2_first": true,
    "vscode": {
     "languageId": "r"
    }
   },
   "outputs": [],
   "source": []
  },
  {
   "cell_type": "code",
   "execution_count": null,
   "id": "1cfdbb6e",
   "metadata": {
    "solution2": "hidden",
    "vscode": {
     "languageId": "r"
    }
   },
   "outputs": [],
   "source": [
    "data_Bv_Bi_ohne_Spalte2 <- data_Bv_Bi[,-2]\n",
    "\n",
    "View(data_Bv_Bi_ohne_Spalte2)"
   ]
  },
  {
   "cell_type": "markdown",
   "id": "f5c92ece",
   "metadata": {},
   "source": [
    "**Quellen und weiterführende Literatur:**\n",
    "\n",
    "**R**:\n",
    "* https://resbaz.github.io/2014-r-materials/lessons/01-intro_r/data-structures.html\n",
    "* https://databraineo.com/ki-training-resources/r-programmierung/datentypen-in-r-einfach-erklaert/\n",
    "* https://www.tutorialspoint.com/r/r_data_types.html\n",
    "* http://de.jberries.com/artikel/%C3%BCbersicht-%C3%BCber-datentypen-in-r-51\n",
    "\n",
    "**Stadt Bielefeld**:\n",
    "* https://de.wikipedia.org/wiki/Einwohnerentwicklung_von_Bielefeld\n",
    "* https://open-data.bielefeld.de/dataset/alters-und-geschlechtsstruktur-2018-2020"
   ]
  }
 ],
 "metadata": {
  "hide_input": false,
  "kernelspec": {
   "display_name": "R",
   "language": "R",
   "name": "ir"
  },
  "language_info": {
   "codemirror_mode": "r",
   "file_extension": ".r",
   "mimetype": "text/x-r-source",
   "name": "R",
   "pygments_lexer": "r",
   "version": "4.1.1"
  },
  "toc": {
   "base_numbering": 1,
   "nav_menu": {},
   "number_sections": true,
   "sideBar": true,
   "skip_h1_title": false,
   "title_cell": "Table of Contents",
   "title_sidebar": "Contents",
   "toc_cell": false,
   "toc_position": {
    "height": "calc(100% - 180px)",
    "left": "10px",
    "top": "150px",
    "width": "165px"
   },
   "toc_section_display": true,
   "toc_window_display": false
  }
 },
 "nbformat": 4,
 "nbformat_minor": 5
}
