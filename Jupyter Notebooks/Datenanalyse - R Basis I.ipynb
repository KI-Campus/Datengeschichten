{
 "cells": [
  {
   "cell_type": "markdown",
   "id": "d57820f3",
   "metadata": {
    "deletable": false,
    "editable": false,
    "run_control": {
     "frozen": true
    }
   },
   "source": [
    "# Datenanalyse - R Basis \n",
    "   **Erwerbe R-Basiskompetenzen am Beispiel von regionalen Daten aus OWL**"
   ]
  },
  {
   "cell_type": "markdown",
   "id": "2fa4eec7",
   "metadata": {
    "deletable": false,
    "editable": false,
    "run_control": {
     "frozen": true
    }
   },
   "source": [
    "In diesem ersten Jupyter Notebook aus dem Kurs ***„Von der Datenanalyse zur Datengeschichte - Datenanalyseergebnisse adressat:innengerecht kommunizieren“*** wollen wir Dir anhand von offen regionalen Daten(-sätzen) der *Stadt Bielefeld* und aus der Region *Ostwestfalen-Lippe (OWL)* zunächst einige Basiskenntnisse für die Datenanalyse in R vermitteln, die Du später benötigen wirst.\n",
    "\n",
    "\n",
    "\n",
    "\n",
    "\n",
    "\n",
    "\n"
   ]
  },
  {
   "cell_type": "markdown",
   "id": "530c3686",
   "metadata": {
    "solution": "hidden",
    "solution_first": true
   },
   "source": [
    "## Wie können Daten in R eingegeben werden?"
   ]
  },
  {
   "cell_type": "markdown",
   "id": "5af4258c",
   "metadata": {
    "deletable": false,
    "editable": false,
    "run_control": {
     "frozen": true
    }
   },
   "source": [
    "   \n",
    "<img  align = \"right\" src=\"North_rhine_w_OWL(2).svg\" width=\"250\"/> \n",
    "\n",
    "       \n",
    "    \n",
    "\n",
    "\n",
    "<div style=\"text-align: left\">    \n",
    "<p>Stell Dir vor, wir möchten die Einwohner:innenzahlen der sechs größten Städte in <i>Ostwestfalen</i> in R eingeben/ speichern. Hierzu muss für jede Stadt eine Variable definiert werden, der dann die Einwohner:innenzahl als Wert zugewiesen wird. Nehmen wir zunächst die Einwohner:innenzahl von Bielefeld 334195 (<i>Stand 31.12. 2019</i>).</p> \n",
    "    \n",
    "<ul>\n",
    "  <li><b>Bielefeld</b> 334195</li>\n",
    "  <li><b>Paderborn</b> 151633</li>\n",
    "  <li><b>Gütersloh</b> 100861</li>\n",
    "  <li><b>Minden</b> 81716</li>      \n",
    "  <li><b>Detmold</b> 74254</li>\n",
    "  <li><b>Herford</b> 66638</li>\n",
    "</ul>   \n",
    "    \n",
    "</div>  \n",
    "\n"
   ]
  },
  {
   "cell_type": "markdown",
   "id": "ae2d0298",
   "metadata": {
    "deletable": false,
    "editable": false,
    "run_control": {
     "frozen": true
    }
   },
   "source": [
    "<div class=\"pull-right\">  \n",
    "<p style=\"font-size:6px;\"> Von TUBS - Based upon template:<br>, \n",
    "   <a href=\"https://creativecommons.org/licenses/by-sa/3.0/\"> CC BY-SA 3.0</a> \n",
    "    <a href=\"https://commons.wikimedia.org/w/index.php?curid=4915994\"> Wikimedia</a> \n",
    "    </p>\n",
    "</div>   \n"
   ]
  },
  {
   "cell_type": "markdown",
   "id": "05aae95c",
   "metadata": {
    "deletable": false,
    "editable": false,
    "run_control": {
     "frozen": true
    }
   },
   "source": [
    "Hierfür verwenden wir den Zuweisungoperator \"<-\" (Pfeil nach links) um die Einwohner:innenzahl von Bielefeld der Variablen *Bi* zuzuweisen. Um zu kommentieren, was wir in *R* ausführen, können wir das *Rautesymbol #* verwenden. \n",
    "\n",
    "**Gut zu Wissen**: Du könntest an dieser Stelle auch das Gleichheitszeichen \"=\" verwenden. Allerdings wird in R der \"<-\" bevorzugt. Für die meisten Fälle macht es keinen Unterschied, ob Du das Gleichheitszeichen oder den Links-Pfeil verwendest."
   ]
  },
  {
   "cell_type": "code",
   "execution_count": 1,
   "id": "9e80e13a",
   "metadata": {},
   "outputs": [],
   "source": [
    "\n",
    "Bi <- 334195 # Die Einwohner:innenzahl von Bielefeld Bi zuweisen\n",
    "\n",
    "Bi2 = 334195 # Die Einwohner:innenzahl von Bielefeld Bi2 zuweisen"
   ]
  },
  {
   "cell_type": "markdown",
   "id": "04e0378e",
   "metadata": {
    "deletable": false,
    "editable": false,
    "run_control": {
     "frozen": true
    }
   },
   "source": [
    "Wenn Du nun den Namen der Variable eingibst, erhälst Du die Einwohner:innenzahl als Ausgabe."
   ]
  },
  {
   "cell_type": "code",
   "execution_count": 2,
   "id": "275791db",
   "metadata": {
    "scrolled": true,
    "solution": "hidden"
   },
   "outputs": [
    {
     "data": {
      "text/html": [
       "334195"
      ],
      "text/latex": [
       "334195"
      ],
      "text/markdown": [
       "334195"
      ],
      "text/plain": [
       "[1] 334195"
      ]
     },
     "metadata": {},
     "output_type": "display_data"
    },
    {
     "data": {
      "text/html": [
       "334195"
      ],
      "text/latex": [
       "334195"
      ],
      "text/markdown": [
       "334195"
      ],
      "text/plain": [
       "[1] 334195"
      ]
     },
     "metadata": {},
     "output_type": "display_data"
    }
   ],
   "source": [
    "Bi\n",
    "\n",
    "Bi2"
   ]
  },
  {
   "cell_type": "markdown",
   "id": "c7b15c3b",
   "metadata": {
    "deletable": false,
    "editable": false,
    "run_control": {
     "frozen": true
    }
   },
   "source": [
    "**Aufgabe 1**\n",
    "\n",
    "Jetzt probier Du es  einmal: Definiere Variablen für die 5 restlichen obengenannten OWL-Städte und lass sie Dir ausgeben! "
   ]
  },
  {
   "cell_type": "code",
   "execution_count": null,
   "id": "0f555d2f",
   "metadata": {
    "solution2": "hidden",
    "solution2_first": true
   },
   "outputs": [],
   "source": []
  },
  {
   "cell_type": "code",
   "execution_count": 3,
   "id": "cec725cf",
   "metadata": {
    "solution": "shown",
    "solution2": "hidden",
    "solution_first": true
   },
   "outputs": [
    {
     "data": {
      "text/html": [
       "74254"
      ],
      "text/latex": [
       "74254"
      ],
      "text/markdown": [
       "74254"
      ],
      "text/plain": [
       "[1] 74254"
      ]
     },
     "metadata": {},
     "output_type": "display_data"
    },
    {
     "data": {
      "text/html": [
       "100861"
      ],
      "text/latex": [
       "100861"
      ],
      "text/markdown": [
       "100861"
      ],
      "text/plain": [
       "[1] 100861"
      ]
     },
     "metadata": {},
     "output_type": "display_data"
    },
    {
     "data": {
      "text/html": [
       "66638"
      ],
      "text/latex": [
       "66638"
      ],
      "text/markdown": [
       "66638"
      ],
      "text/plain": [
       "[1] 66638"
      ]
     },
     "metadata": {},
     "output_type": "display_data"
    },
    {
     "data": {
      "text/html": [
       "81716"
      ],
      "text/latex": [
       "81716"
      ],
      "text/markdown": [
       "81716"
      ],
      "text/plain": [
       "[1] 81716"
      ]
     },
     "metadata": {},
     "output_type": "display_data"
    },
    {
     "data": {
      "text/html": [
       "151633"
      ],
      "text/latex": [
       "151633"
      ],
      "text/markdown": [
       "151633"
      ],
      "text/plain": [
       "[1] 151633"
      ]
     },
     "metadata": {},
     "output_type": "display_data"
    }
   ],
   "source": [
    "Dt <- 74254\n",
    "Gt <- 100861\n",
    "Hf <- 66638\n",
    "Mi <- 81716\n",
    "Pb <- 151633\n",
    "\n",
    "\n",
    "Dt; Gt; Hf; Mi; Pb #  Ausgabe zeigen für alle 5 Städte"
   ]
  },
  {
   "cell_type": "markdown",
   "id": "18fc9e5d",
   "metadata": {
    "deletable": false,
    "editable": false,
    "run_control": {
     "frozen": true
    }
   },
   "source": [
    "## Datentypen in R\n",
    "\n",
    "Um mit R zuarbeiten ist es zunächst wichtig zuverstehen, welche unterschiedlichen *Datentypen* von R genutzt werden und wie sich diese unterscheiden. Wir werden Dir hier einige ausgewählte, wichtige Datentypen vorstellen:\n",
    "\n",
    "**Einfache Datentypen**:\n",
    "\n",
    "* **Ganzzahl** (*integer*) => **Beispiel**: 3L, 500L, 20L\n",
    "\n",
    "* **Gleitkommazahl** (*numeric*) => **Beispiel**: 2.99, 3, 501.33333\n",
    "\n",
    "* **Zeichenkette, Worte** (*character*) => **Beispiel**: 'z', \"OWL\",\"209\" \n",
    "\n",
    "* **Wahr oder Falsch** (*logical*) => **Beispiel**: TRUE, FALSE\n",
    "\n"
   ]
  },
  {
   "cell_type": "markdown",
   "id": "87fb2edb",
   "metadata": {
    "deletable": false,
    "editable": false,
    "run_control": {
     "frozen": true
    }
   },
   "source": [
    "### Ganzzahl (*integer*)\n",
    "\n",
    "Hiebei handelt es sich wie der Name schon vermuten lässt, um positive oder negative **ganze** Zahlen. Mit der Funktion **is.integer()** können wir überprüfen, ob eine Variable von R als Ganzzahl behandelt wird.\n",
    "\n",
    "Da es sich bei der Einwohner:innenzahl von Bielefeld um eine Ganzzahl handelt, können wir nun also überpüfen, ob unsere Variable Bi von R als Ganzzahl behandelt wird.\n",
    "\n",
    "\n",
    "\n",
    "\n"
   ]
  },
  {
   "cell_type": "markdown",
   "id": "30ddddf6",
   "metadata": {
    "deletable": false,
    "editable": false,
    "run_control": {
     "frozen": true
    }
   },
   "source": [
    "**Gut zu Wissen**: R definiert jedoch auch eine Ganzzahl-Eingabe zunächst als Gleitkommazahl *numeric*. "
   ]
  },
  {
   "cell_type": "code",
   "execution_count": 4,
   "id": "94cb54a1",
   "metadata": {},
   "outputs": [
    {
     "data": {
      "text/html": [
       "FALSE"
      ],
      "text/latex": [
       "FALSE"
      ],
      "text/markdown": [
       "FALSE"
      ],
      "text/plain": [
       "[1] FALSE"
      ]
     },
     "metadata": {},
     "output_type": "display_data"
    }
   ],
   "source": [
    "# Überprüfen, ob unsere Variable Bi als Ganzzahl gespeichert ist\n",
    "\n",
    "is.integer(Bi)"
   ]
  },
  {
   "cell_type": "markdown",
   "id": "ab673007",
   "metadata": {
    "deletable": false,
    "editable": false,
    "run_control": {
     "frozen": true
    }
   },
   "source": [
    "Wir erhalten als Ausgabe **FALSE**, Bi ist also nicht als Ganzzahl gespeichert."
   ]
  },
  {
   "cell_type": "markdown",
   "id": "f95f7200",
   "metadata": {
    "deletable": false,
    "editable": false,
    "run_control": {
     "frozen": true
    }
   },
   "source": [
    "Wenn wir die Variable Bi tatsächlich als **integer** speichern möchten, dann müssen wir **L** für Long hinter die Variable hängen:"
   ]
  },
  {
   "cell_type": "code",
   "execution_count": 5,
   "id": "8df5cac4",
   "metadata": {},
   "outputs": [
    {
     "data": {
      "text/html": [
       "TRUE"
      ],
      "text/latex": [
       "TRUE"
      ],
      "text/markdown": [
       "TRUE"
      ],
      "text/plain": [
       "[1] TRUE"
      ]
     },
     "metadata": {},
     "output_type": "display_data"
    }
   ],
   "source": [
    "Bi_int <-  334195L # Bi als integer\n",
    "\n",
    "is.integer(Bi_int)"
   ]
  },
  {
   "cell_type": "markdown",
   "id": "e21421db",
   "metadata": {
    "deletable": false,
    "editable": false,
    "run_control": {
     "frozen": true
    }
   },
   "source": [
    "### Gleitkommazahl (*numeric*)\n",
    "\n",
    "Hierbei handelt es sich, wie der Name schon vermuten lässt, um eine Kommazahl. Allerdings definiert R ohne weitere Angaben auch eine Ganzzahl zunächst als Gleitkommazahl. Das können wir\n",
    "mit der Funktion **is.numeric()** überprüfen:"
   ]
  },
  {
   "cell_type": "code",
   "execution_count": 6,
   "id": "93940944",
   "metadata": {},
   "outputs": [
    {
     "data": {
      "text/html": [
       "TRUE"
      ],
      "text/latex": [
       "TRUE"
      ],
      "text/markdown": [
       "TRUE"
      ],
      "text/plain": [
       "[1] TRUE"
      ]
     },
     "metadata": {},
     "output_type": "display_data"
    }
   ],
   "source": [
    "# Überprüfen, ob Bi eine Gleitkommazahl ist \n",
    "\n",
    "is.numeric(Bi)"
   ]
  },
  {
   "cell_type": "markdown",
   "id": "1cd4a5ee",
   "metadata": {
    "deletable": false,
    "editable": false,
    "run_control": {
     "frozen": true
    }
   },
   "source": [
    "Wir erhalten die Ausgabe **TRUE**, das heißt das Bi von *R* als Gleitkommazahl behandelt wird."
   ]
  },
  {
   "cell_type": "markdown",
   "id": "7f3d7307",
   "metadata": {
    "deletable": false,
    "editable": false,
    "run_control": {
     "frozen": true
    }
   },
   "source": [
    "### Zeichenkette, Worte (character)\n",
    "\n",
    "Dieser Datentyp ermöglicht es Text zu speichern. Einzelne Zeichen wie z.B. **z** werden als **character** oder kurz **char** bezeichnet. Ketten von Zeichen wie Worte als **strings**."
   ]
  },
  {
   "cell_type": "markdown",
   "id": "bd340809",
   "metadata": {
    "deletable": false,
    "editable": false,
    "run_control": {
     "frozen": true
    }
   },
   "source": [
    "Wir möchten nun statt der Zahl Einwohner:innenzahl von Bielefeld \"334195\", die Einwohner:innenzahl als Wort angeben: Dreihundertvierunddreißigtausendeinhundertfünfundneunzig. \n",
    "\n",
    "**Gut zu Wissen**: Um eine Variable in R als *character* zu definieren ist es wichtig, diese in Anführungstriche, *doppelt* oder *einfach* zu setzten."
   ]
  },
  {
   "cell_type": "code",
   "execution_count": 7,
   "id": "9fb882db",
   "metadata": {},
   "outputs": [
    {
     "data": {
      "text/html": [
       "'Dreihundertvierunddreißigtausendeinhundertfünfundneunzig'"
      ],
      "text/latex": [
       "'Dreihundertvierunddreißigtausendeinhundertfünfundneunzig'"
      ],
      "text/markdown": [
       "'Dreihundertvierunddreißigtausendeinhundertfünfundneunzig'"
      ],
      "text/plain": [
       "[1] \"Dreihundertvierunddreißigtausendeinhundertfünfundneunzig\""
      ]
     },
     "metadata": {},
     "output_type": "display_data"
    },
    {
     "data": {
      "text/html": [
       "'Dreihundertvierunddreißigtausendeinhundertfünfundneunzig'"
      ],
      "text/latex": [
       "'Dreihundertvierunddreißigtausendeinhundertfünfundneunzig'"
      ],
      "text/markdown": [
       "'Dreihundertvierunddreißigtausendeinhundertfünfundneunzig'"
      ],
      "text/plain": [
       "[1] \"Dreihundertvierunddreißigtausendeinhundertfünfundneunzig\""
      ]
     },
     "metadata": {},
     "output_type": "display_data"
    },
    {
     "data": {
      "text/html": [
       "TRUE"
      ],
      "text/latex": [
       "TRUE"
      ],
      "text/markdown": [
       "TRUE"
      ],
      "text/plain": [
       "[1] TRUE"
      ]
     },
     "metadata": {},
     "output_type": "display_data"
    },
    {
     "data": {
      "text/html": [
       "'Dreihundertvierunddreißigtausendeinhundertfünfundneunzig'"
      ],
      "text/latex": [
       "'Dreihundertvierunddreißigtausendeinhundertfünfundneunzig'"
      ],
      "text/markdown": [
       "'Dreihundertvierunddreißigtausendeinhundertfünfundneunzig'"
      ],
      "text/plain": [
       "[1] \"Dreihundertvierunddreißigtausendeinhundertfünfundneunzig\""
      ]
     },
     "metadata": {},
     "output_type": "display_data"
    },
    {
     "data": {
      "text/html": [
       "TRUE"
      ],
      "text/latex": [
       "TRUE"
      ],
      "text/markdown": [
       "TRUE"
      ],
      "text/plain": [
       "[1] TRUE"
      ]
     },
     "metadata": {},
     "output_type": "display_data"
    }
   ],
   "source": [
    "Bi_Wort <- \"Dreihundertvierunddreißigtausendeinhundertfünfundneunzig\"; \n",
    "\n",
    "Bi_Wort\n",
    "\n",
    "Bi_Wort2 <- 'Dreihundertvierunddreißigtausendeinhundertfünfundneunzig';\n",
    "\n",
    "Bi_Wort\n",
    "\n",
    "is.character(Bi_Wort) # überprüfen ob Character\n",
    "\n",
    "Bi_Wort2\n",
    "\n",
    "is.character(Bi_Wort2) # überprüfen ob Character"
   ]
  },
  {
   "cell_type": "markdown",
   "id": "f4a89d40",
   "metadata": {
    "deletable": false,
    "editable": false,
    "run_control": {
     "frozen": true
    }
   },
   "source": [
    "Wenn wir nun wissen möchten wie lang Bi_Wort ist, dann können wir das mit **nchar()** herausfinden:"
   ]
  },
  {
   "cell_type": "code",
   "execution_count": 8,
   "id": "1b04f511",
   "metadata": {},
   "outputs": [
    {
     "data": {
      "text/html": [
       "56"
      ],
      "text/latex": [
       "56"
      ],
      "text/markdown": [
       "56"
      ],
      "text/plain": [
       "[1] 56"
      ]
     },
     "metadata": {},
     "output_type": "display_data"
    },
    {
     "data": {
      "text/html": [
       "1"
      ],
      "text/latex": [
       "1"
      ],
      "text/markdown": [
       "1"
      ],
      "text/plain": [
       "[1] 1"
      ]
     },
     "metadata": {},
     "output_type": "display_data"
    }
   ],
   "source": [
    "Anzahl_Char_Bi_Wort <- nchar(Bi_Wort) # nchar kann man sich die Anzahl der Buchstaben ausgeben lassen\n",
    "Anzahl_Char_Bi_Wort \n",
    "\n",
    "length(Bi_Wort)# überprüfen, ob Anzahl_Char_Bi_Wort der Länge von Bi_Wort entspricht"
   ]
  },
  {
   "cell_type": "markdown",
   "id": "3c80db93",
   "metadata": {},
   "source": [
    "**Gut zu Wissen**: Wie oben zu sehen, gibt **length(character)**, nicht die Anzahl der einzelnen Zeichen an.\n",
    "Hierfür brauchen wir **nchar()**."
   ]
  },
  {
   "cell_type": "markdown",
   "id": "048d012d",
   "metadata": {},
   "source": [
    "**Aufgabe 2**: Speichere die Namen der 6 größten Städte in OWL in jeweils einer Variablen und lass Dir den Inhalt der Variablen ausgeben:\n",
    "\n"
   ]
  },
  {
   "cell_type": "code",
   "execution_count": null,
   "id": "4ae88c0a",
   "metadata": {
    "solution2": "hidden",
    "solution2_first": true
   },
   "outputs": [],
   "source": []
  },
  {
   "cell_type": "code",
   "execution_count": 9,
   "id": "336c60b7",
   "metadata": {
    "solution2": "hidden"
   },
   "outputs": [
    {
     "data": {
      "text/html": [
       "'Herford'"
      ],
      "text/latex": [
       "'Herford'"
      ],
      "text/markdown": [
       "'Herford'"
      ],
      "text/plain": [
       "[1] \"Herford\""
      ]
     },
     "metadata": {},
     "output_type": "display_data"
    },
    {
     "data": {
      "text/html": [
       "'Bielefeld'"
      ],
      "text/latex": [
       "'Bielefeld'"
      ],
      "text/markdown": [
       "'Bielefeld'"
      ],
      "text/plain": [
       "[1] \"Bielefeld\""
      ]
     },
     "metadata": {},
     "output_type": "display_data"
    },
    {
     "data": {
      "text/html": [
       "'Paderborn'"
      ],
      "text/latex": [
       "'Paderborn'"
      ],
      "text/markdown": [
       "'Paderborn'"
      ],
      "text/plain": [
       "[1] \"Paderborn\""
      ]
     },
     "metadata": {},
     "output_type": "display_data"
    },
    {
     "data": {
      "text/html": [
       "'Minden'"
      ],
      "text/latex": [
       "'Minden'"
      ],
      "text/markdown": [
       "'Minden'"
      ],
      "text/plain": [
       "[1] \"Minden\""
      ]
     },
     "metadata": {},
     "output_type": "display_data"
    },
    {
     "data": {
      "text/html": [
       "'Güthersloh'"
      ],
      "text/latex": [
       "'Güthersloh'"
      ],
      "text/markdown": [
       "'Güthersloh'"
      ],
      "text/plain": [
       "[1] \"Güthersloh\""
      ]
     },
     "metadata": {},
     "output_type": "display_data"
    },
    {
     "data": {
      "text/html": [
       "'Detmold'"
      ],
      "text/latex": [
       "'Detmold'"
      ],
      "text/markdown": [
       "'Detmold'"
      ],
      "text/plain": [
       "[1] \"Detmold\""
      ]
     },
     "metadata": {},
     "output_type": "display_data"
    }
   ],
   "source": [
    "Hf_Name <- \"Herford\"\n",
    "Bi_Name <- \"Bielefeld\"\n",
    "Pb_Name <- \"Paderborn\"\n",
    "Mi_Name <- \"Minden\"\n",
    "Gt_Name <- \"Güthersloh\"\n",
    "Dt_Name <- \"Detmold\"\n",
    "\n",
    "\n",
    "Hf_Name;Bi_Name;Pb_Name;Mi_Name;Gt_Name;Dt_Name\n"
   ]
  },
  {
   "cell_type": "markdown",
   "id": "305f2690",
   "metadata": {},
   "source": [
    "## Wichtige Objekttypen in R"
   ]
  },
  {
   "cell_type": "markdown",
   "id": "6bb8e7eb",
   "metadata": {},
   "source": [
    "*R* ist eine objekt-basierte Programmiersprache. Objekte können z.B. wie oben ausgeführt einzelne Werte (Variablen) oder auch eine Menge von Werten (Datensätze) enthalten. **Alles** in R ist ein Objekt.\n",
    "\n",
    "Wir möchten Dir nun zwei wichtige Objekttypen in R darstellen:\n",
    "\n",
    "* Vektor\n",
    "* Dataframe (\"Datenrahmen\")\n"
   ]
  },
  {
   "cell_type": "markdown",
   "id": "85790381",
   "metadata": {},
   "source": [
    "### Vektoren"
   ]
  },
  {
   "cell_type": "markdown",
   "id": "4f52177f",
   "metadata": {
    "deletable": false,
    "editable": false,
    "run_control": {
     "frozen": true
    }
   },
   "source": [
    "Ein *Vektor* besteht aus einer Anzahl von *n* Elementen. Es gibt unterschiedliche Typen von Vektoren: \n",
    "\n",
    "* *numeric* (numerischer Vektor) => nur Zahlenwerte\n",
    "* *character* (Text-Vektor) => nur Buchstaben \n",
    "\n",
    "Um einen Vektor zu erstellen können wir die **c()-Funkion** nutzen, **c**(Wert1, Wert2, ..., Wertn).\n",
    "\n",
    "**Gut zu Wissen**: Ein Vektor kann in R auch die Länge **n = 1** haben. Das heißt beispielsweise, dass auch die oben berechneten Variablen *Bi* und *Bi2* Vektoren sind. Ob dies auch wirklich stimmt, können wir mit **is.vector()** überprüfen.\n"
   ]
  },
  {
   "cell_type": "code",
   "execution_count": 10,
   "id": "743f1457",
   "metadata": {},
   "outputs": [
    {
     "data": {
      "text/html": [
       "TRUE"
      ],
      "text/latex": [
       "TRUE"
      ],
      "text/markdown": [
       "TRUE"
      ],
      "text/plain": [
       "[1] TRUE"
      ]
     },
     "metadata": {},
     "output_type": "display_data"
    },
    {
     "data": {
      "text/html": [
       "TRUE"
      ],
      "text/latex": [
       "TRUE"
      ],
      "text/markdown": [
       "TRUE"
      ],
      "text/plain": [
       "[1] TRUE"
      ]
     },
     "metadata": {},
     "output_type": "display_data"
    }
   ],
   "source": [
    "is.vector(Bi) # überprüfen, ob die Variablen Bi und Bi2 Vektoren sind\n",
    "is.vector(Bi2)"
   ]
  },
  {
   "cell_type": "markdown",
   "id": "3762322f",
   "metadata": {
    "deletable": false,
    "editable": false,
    "run_control": {
     "frozen": true
    }
   },
   "source": [
    "**Numerische Vektoren**\n",
    "\n",
    "Mit **c()** kannst Du einen **Vektor n >  1** erstellen. Wenn Du zum Beispiel einen numerischen Vektor **Einwohner_OWL** erstellen möchtest, der die Einwohner:innenzahlen aller sechs obengenannten OWl-Städte enthält, sähe dies so aus:"
   ]
  },
  {
   "cell_type": "code",
   "execution_count": 11,
   "id": "51ebdf35",
   "metadata": {},
   "outputs": [
    {
     "name": "stdout",
     "output_type": "stream",
     "text": [
      "[1] 334195 151633 100861  81716  74254  66638\n"
     ]
    }
   ],
   "source": [
    "Einwohner_OWL <- c(Bi,Pb,Gt,Mi,Dt,Hf)\n",
    "\n",
    "print(Einwohner_OWL) # Vektor anzeigen"
   ]
  },
  {
   "cell_type": "markdown",
   "id": "99864085",
   "metadata": {
    "deletable": false,
    "editable": false,
    "run_control": {
     "frozen": true
    }
   },
   "source": [
    "Um auf Elemente eines Vektors zuzugreifen, verwendest Du den Namen des Vektors mit dem Index des Vektorteils auf den Du zugreifen möchtest in eckigen Klammern: **Vektorname [Index]**:"
   ]
  },
  {
   "cell_type": "code",
   "execution_count": 12,
   "id": "be942e0d",
   "metadata": {},
   "outputs": [
    {
     "data": {
      "text/html": [
       "334195"
      ],
      "text/latex": [
       "334195"
      ],
      "text/markdown": [
       "334195"
      ],
      "text/plain": [
       "[1] 334195"
      ]
     },
     "metadata": {},
     "output_type": "display_data"
    }
   ],
   "source": [
    "Einwohner_OWL[1] # gibt das erste Element des Vektors an"
   ]
  },
  {
   "cell_type": "code",
   "execution_count": 13,
   "id": "d9f84fad",
   "metadata": {},
   "outputs": [
    {
     "data": {
      "text/html": [
       "66638"
      ],
      "text/latex": [
       "66638"
      ],
      "text/markdown": [
       "66638"
      ],
      "text/plain": [
       "[1] 66638"
      ]
     },
     "metadata": {},
     "output_type": "display_data"
    }
   ],
   "source": [
    "Einwohner_OWL[6] # gibt das letzte 6. Element des Vektors an"
   ]
  },
  {
   "cell_type": "code",
   "execution_count": 14,
   "id": "423dde86",
   "metadata": {},
   "outputs": [
    {
     "data": {
      "text/html": [
       "<style>\n",
       ".list-inline {list-style: none; margin:0; padding: 0}\n",
       ".list-inline>li {display: inline-block}\n",
       ".list-inline>li:not(:last-child)::after {content: \"\\00b7\"; padding: 0 .5ex}\n",
       "</style>\n",
       "<ol class=list-inline><li>151633</li><li>100861</li><li>81716</li><li>74254</li></ol>\n"
      ],
      "text/latex": [
       "\\begin{enumerate*}\n",
       "\\item 151633\n",
       "\\item 100861\n",
       "\\item 81716\n",
       "\\item 74254\n",
       "\\end{enumerate*}\n"
      ],
      "text/markdown": [
       "1. 151633\n",
       "2. 100861\n",
       "3. 81716\n",
       "4. 74254\n",
       "\n",
       "\n"
      ],
      "text/plain": [
       "[1] 151633 100861  81716  74254"
      ]
     },
     "metadata": {},
     "output_type": "display_data"
    }
   ],
   "source": [
    "Einwohner_OWL[2:5] # gibt das zweite bis fünfte Element des Vektors an"
   ]
  },
  {
   "cell_type": "code",
   "execution_count": 15,
   "id": "afd47a78",
   "metadata": {},
   "outputs": [
    {
     "data": {
      "text/html": [
       "<style>\n",
       ".list-inline {list-style: none; margin:0; padding: 0}\n",
       ".list-inline>li {display: inline-block}\n",
       ".list-inline>li:not(:last-child)::after {content: \"\\00b7\"; padding: 0 .5ex}\n",
       "</style>\n",
       "<ol class=list-inline><li>151633</li><li>74254</li></ol>\n"
      ],
      "text/latex": [
       "\\begin{enumerate*}\n",
       "\\item 151633\n",
       "\\item 74254\n",
       "\\end{enumerate*}\n"
      ],
      "text/markdown": [
       "1. 151633\n",
       "2. 74254\n",
       "\n",
       "\n"
      ],
      "text/plain": [
       "[1] 151633  74254"
      ]
     },
     "metadata": {},
     "output_type": "display_data"
    }
   ],
   "source": [
    "Einwohner_OWL[c(2,5)] # gibt das zweite UND fünfte Element des Vektors an"
   ]
  },
  {
   "cell_type": "code",
   "execution_count": 16,
   "id": "1a56effa",
   "metadata": {},
   "outputs": [
    {
     "data": {
      "text/html": [
       "<style>\n",
       ".list-inline {list-style: none; margin:0; padding: 0}\n",
       ".list-inline>li {display: inline-block}\n",
       ".list-inline>li:not(:last-child)::after {content: \"\\00b7\"; padding: 0 .5ex}\n",
       "</style>\n",
       "<ol class=list-inline><li>334195</li><li>151633</li><li>100861</li><li>81716</li><li>74254</li><li>66638</li></ol>\n"
      ],
      "text/latex": [
       "\\begin{enumerate*}\n",
       "\\item 334195\n",
       "\\item 151633\n",
       "\\item 100861\n",
       "\\item 81716\n",
       "\\item 74254\n",
       "\\item 66638\n",
       "\\end{enumerate*}\n"
      ],
      "text/markdown": [
       "1. 334195\n",
       "2. 151633\n",
       "3. 100861\n",
       "4. 81716\n",
       "5. 74254\n",
       "6. 66638\n",
       "\n",
       "\n"
      ],
      "text/plain": [
       "[1] 334195 151633 100861  81716  74254  66638"
      ]
     },
     "metadata": {},
     "output_type": "display_data"
    }
   ],
   "source": [
    "Einwohner_OWL[] # gibt den ganzen Vektor wieder"
   ]
  },
  {
   "cell_type": "code",
   "execution_count": 17,
   "id": "1cba5daa",
   "metadata": {},
   "outputs": [
    {
     "data": {
      "text/html": [
       "66638"
      ],
      "text/latex": [
       "66638"
      ],
      "text/markdown": [
       "66638"
      ],
      "text/plain": [
       "[1] 66638"
      ]
     },
     "metadata": {},
     "output_type": "display_data"
    }
   ],
   "source": [
    "Einwohner_OWL [length(Einwohner_OWL)] # gibt das letzte Element des Vektors wieder"
   ]
  },
  {
   "cell_type": "markdown",
   "id": "1ff66352",
   "metadata": {
    "deletable": false,
    "editable": false,
    "run_control": {
     "frozen": true
    }
   },
   "source": [
    "Schau Dir einmal an, was passiert, wenn wir als Index einen negativen Wert verwenden: **Vektorname [-Index]**:"
   ]
  },
  {
   "cell_type": "code",
   "execution_count": 18,
   "id": "a1350a98",
   "metadata": {},
   "outputs": [
    {
     "data": {
      "text/html": [
       "<style>\n",
       ".list-inline {list-style: none; margin:0; padding: 0}\n",
       ".list-inline>li {display: inline-block}\n",
       ".list-inline>li:not(:last-child)::after {content: \"\\00b7\"; padding: 0 .5ex}\n",
       "</style>\n",
       "<ol class=list-inline><li>151633</li><li>100861</li><li>81716</li><li>74254</li><li>66638</li></ol>\n"
      ],
      "text/latex": [
       "\\begin{enumerate*}\n",
       "\\item 151633\n",
       "\\item 100861\n",
       "\\item 81716\n",
       "\\item 74254\n",
       "\\item 66638\n",
       "\\end{enumerate*}\n"
      ],
      "text/markdown": [
       "1. 151633\n",
       "2. 100861\n",
       "3. 81716\n",
       "4. 74254\n",
       "5. 66638\n",
       "\n",
       "\n"
      ],
      "text/plain": [
       "[1] 151633 100861  81716  74254  66638"
      ]
     },
     "metadata": {},
     "output_type": "display_data"
    }
   ],
   "source": [
    "Einwohner_OWL2 <- Einwohner_OWL[-1]\n",
    "Einwohner_OWL2"
   ]
  },
  {
   "cell_type": "markdown",
   "id": "a53cdbb8",
   "metadata": {
    "deletable": false,
    "editable": false,
    "run_control": {
     "frozen": true
    }
   },
   "source": [
    "**Gut zu Wissen**: Mit einem negativen Index können wir das Element an der angebenen Position aus dem Vektor entfernen."
   ]
  },
  {
   "cell_type": "markdown",
   "id": "15732b76",
   "metadata": {
    "deletable": false,
    "editable": false,
    "run_control": {
     "frozen": true
    }
   },
   "source": [
    "**Text-Vektoren:**  \n",
    "\n",
    "Mit **c()** kannst du auch einen Text-Vektor **Staedte_OWL** erstellen, der die Namen der sechs obenangebenen OWl-Städte enthält. Auf die Elemente eines Textvektors kannst Du nach den gleichen Prinzipien zugreifen, wie auf einen numerischen Vektor."
   ]
  },
  {
   "cell_type": "code",
   "execution_count": 19,
   "id": "6702280e",
   "metadata": {},
   "outputs": [
    {
     "name": "stdout",
     "output_type": "stream",
     "text": [
      "[1] \"Bielefeld\"  \"Paderborn\"  \"Güthersloh\" \"Minden\"     \"Detmold\"   \n",
      "[6] \"Herford\"   \n"
     ]
    }
   ],
   "source": [
    "Staedte_OWL <- c(Bi_Name,Pb_Name,Gt_Name,Mi_Name,Dt_Name,Hf_Name)\n",
    "\n",
    "print(Staedte_OWL) # Vektor anzeigen"
   ]
  },
  {
   "cell_type": "markdown",
   "id": "7025ce93",
   "metadata": {
    "deletable": false,
    "editable": false,
    "run_control": {
     "frozen": true
    }
   },
   "source": [
    "**Aufgabe 3** \n",
    "\n",
    "3a) Lass Dir das letzte Element des Vektors **Staedte_OWL** ausgeben:"
   ]
  },
  {
   "cell_type": "code",
   "execution_count": null,
   "id": "dc217607",
   "metadata": {
    "solution2": "hidden",
    "solution2_first": true
   },
   "outputs": [],
   "source": []
  },
  {
   "cell_type": "code",
   "execution_count": 20,
   "id": "5a344a34",
   "metadata": {
    "solution2": "hidden"
   },
   "outputs": [
    {
     "data": {
      "text/html": [
       "'Herford'"
      ],
      "text/latex": [
       "'Herford'"
      ],
      "text/markdown": [
       "'Herford'"
      ],
      "text/plain": [
       "[1] \"Herford\""
      ]
     },
     "metadata": {},
     "output_type": "display_data"
    }
   ],
   "source": [
    "Staedte_OWL[length(Staedte_OWL)]"
   ]
  },
  {
   "cell_type": "markdown",
   "id": "ca3c8360",
   "metadata": {},
   "source": [
    "3b) Lass Dir die ersten drei Elemente des Vektors Staedte_OWL ausgeben:"
   ]
  },
  {
   "cell_type": "code",
   "execution_count": null,
   "id": "25692205",
   "metadata": {
    "solution2": "hidden",
    "solution2_first": true
   },
   "outputs": [],
   "source": []
  },
  {
   "cell_type": "code",
   "execution_count": 21,
   "id": "36f32d18",
   "metadata": {
    "solution2": "hidden"
   },
   "outputs": [
    {
     "data": {
      "text/html": [
       "<style>\n",
       ".list-inline {list-style: none; margin:0; padding: 0}\n",
       ".list-inline>li {display: inline-block}\n",
       ".list-inline>li:not(:last-child)::after {content: \"\\00b7\"; padding: 0 .5ex}\n",
       "</style>\n",
       "<ol class=list-inline><li>'Bielefeld'</li><li>'Paderborn'</li><li>'Güthersloh'</li></ol>\n"
      ],
      "text/latex": [
       "\\begin{enumerate*}\n",
       "\\item 'Bielefeld'\n",
       "\\item 'Paderborn'\n",
       "\\item 'Güthersloh'\n",
       "\\end{enumerate*}\n"
      ],
      "text/markdown": [
       "1. 'Bielefeld'\n",
       "2. 'Paderborn'\n",
       "3. 'Güthersloh'\n",
       "\n",
       "\n"
      ],
      "text/plain": [
       "[1] \"Bielefeld\"  \"Paderborn\"  \"Güthersloh\""
      ]
     },
     "metadata": {},
     "output_type": "display_data"
    }
   ],
   "source": [
    "Staedte_OWL[1:3]"
   ]
  },
  {
   "cell_type": "markdown",
   "id": "17874811",
   "metadata": {},
   "source": [
    "3c) Lass Dir das 4. und 6. Element des Vektors **Staedte_OWL** ausgeben:"
   ]
  },
  {
   "cell_type": "code",
   "execution_count": null,
   "id": "3bbf8414",
   "metadata": {
    "solution2": "hidden",
    "solution2_first": true
   },
   "outputs": [],
   "source": []
  },
  {
   "cell_type": "code",
   "execution_count": 22,
   "id": "b1cd0fee",
   "metadata": {
    "solution2": "hidden"
   },
   "outputs": [
    {
     "data": {
      "text/html": [
       "<style>\n",
       ".list-inline {list-style: none; margin:0; padding: 0}\n",
       ".list-inline>li {display: inline-block}\n",
       ".list-inline>li:not(:last-child)::after {content: \"\\00b7\"; padding: 0 .5ex}\n",
       "</style>\n",
       "<ol class=list-inline><li>'Minden'</li><li>'Herford'</li></ol>\n"
      ],
      "text/latex": [
       "\\begin{enumerate*}\n",
       "\\item 'Minden'\n",
       "\\item 'Herford'\n",
       "\\end{enumerate*}\n"
      ],
      "text/markdown": [
       "1. 'Minden'\n",
       "2. 'Herford'\n",
       "\n",
       "\n"
      ],
      "text/plain": [
       "[1] \"Minden\"  \"Herford\""
      ]
     },
     "metadata": {},
     "output_type": "display_data"
    }
   ],
   "source": [
    "Staedte_OWL[c(4,6)]"
   ]
  },
  {
   "cell_type": "markdown",
   "id": "0b6244c2",
   "metadata": {
    "deletable": false,
    "editable": false,
    "run_control": {
     "frozen": true
    }
   },
   "source": [
    "### Dataframes \n",
    "\n",
    "Die Besonderheit eines Dataframes oder \"Datenrahmens\" ist es, dass anders als z.B. in einem Vektor innehalb eines Dataframes auch unterschiedliche **Datentypen** gespeichert werden können (z.B. **numeric, character**): \n",
    "\n",
    "Mit **data.frame()** können einzelne Vektoren zu einem Dataframe zusammengefasst werden. Wichtig ist hier allerdings, dass die Vektoren die gleiche Länge haben."
   ]
  },
  {
   "cell_type": "code",
   "execution_count": 23,
   "id": "214cc97a",
   "metadata": {},
   "outputs": [
    {
     "data": {
      "text/html": [
       "<style>\n",
       ".list-inline {list-style: none; margin:0; padding: 0}\n",
       ".list-inline>li {display: inline-block}\n",
       ".list-inline>li:not(:last-child)::after {content: \"\\00b7\"; padding: 0 .5ex}\n",
       "</style>\n",
       "<ol class=list-inline><li>2000</li><li>2001</li><li>2002</li><li>2003</li><li>2004</li><li>2005</li><li>2006</li><li>2007</li><li>2008</li><li>2009</li><li>2010</li><li>2011</li><li>2012</li><li>2013</li><li>2014</li><li>2015</li><li>2016</li><li>2017</li><li>2018</li><li>2019</li></ol>\n"
      ],
      "text/latex": [
       "\\begin{enumerate*}\n",
       "\\item 2000\n",
       "\\item 2001\n",
       "\\item 2002\n",
       "\\item 2003\n",
       "\\item 2004\n",
       "\\item 2005\n",
       "\\item 2006\n",
       "\\item 2007\n",
       "\\item 2008\n",
       "\\item 2009\n",
       "\\item 2010\n",
       "\\item 2011\n",
       "\\item 2012\n",
       "\\item 2013\n",
       "\\item 2014\n",
       "\\item 2015\n",
       "\\item 2016\n",
       "\\item 2017\n",
       "\\item 2018\n",
       "\\item 2019\n",
       "\\end{enumerate*}\n"
      ],
      "text/markdown": [
       "1. 2000\n",
       "2. 2001\n",
       "3. 2002\n",
       "4. 2003\n",
       "5. 2004\n",
       "6. 2005\n",
       "7. 2006\n",
       "8. 2007\n",
       "9. 2008\n",
       "10. 2009\n",
       "11. 2010\n",
       "12. 2011\n",
       "13. 2012\n",
       "14. 2013\n",
       "15. 2014\n",
       "16. 2015\n",
       "17. 2016\n",
       "18. 2017\n",
       "19. 2018\n",
       "20. 2019\n",
       "\n",
       "\n"
      ],
      "text/plain": [
       " [1] 2000 2001 2002 2003 2004 2005 2006 2007 2008 2009 2010 2011 2012 2013 2014\n",
       "[16] 2015 2016 2017 2018 2019"
      ]
     },
     "metadata": {},
     "output_type": "display_data"
    },
    {
     "data": {
      "text/html": [
       "20"
      ],
      "text/latex": [
       "20"
      ],
      "text/markdown": [
       "20"
      ],
      "text/plain": [
       "[1] 20"
      ]
     },
     "metadata": {},
     "output_type": "display_data"
    }
   ],
   "source": [
    "Jahr <- 2000:2019 # Vektor Jahr von 2000 bis 2019 erstellen\n",
    "\n",
    "Jahr\n",
    "\n",
    "length(Jahr)# Länge Vektor Jahr ausgeben"
   ]
  },
  {
   "cell_type": "code",
   "execution_count": 24,
   "id": "e7b64649",
   "metadata": {},
   "outputs": [
    {
     "data": {
      "text/html": [
       "<style>\n",
       ".list-inline {list-style: none; margin:0; padding: 0}\n",
       ".list-inline>li {display: inline-block}\n",
       ".list-inline>li:not(:last-child)::after {content: \"\\00b7\"; padding: 0 .5ex}\n",
       "</style>\n",
       "<ol class=list-inline><li>321758</li><li>323373</li><li>324815</li><li>328452</li><li>328012</li><li>326925</li><li>325846</li><li>324912</li><li>323615</li><li>323084</li><li>323270</li><li>327199</li><li>328314</li><li>328864</li><li>329782</li><li>333090</li><li>333451</li><li>332552</li><li>333786</li><li>334195</li></ol>\n"
      ],
      "text/latex": [
       "\\begin{enumerate*}\n",
       "\\item 321758\n",
       "\\item 323373\n",
       "\\item 324815\n",
       "\\item 328452\n",
       "\\item 328012\n",
       "\\item 326925\n",
       "\\item 325846\n",
       "\\item 324912\n",
       "\\item 323615\n",
       "\\item 323084\n",
       "\\item 323270\n",
       "\\item 327199\n",
       "\\item 328314\n",
       "\\item 328864\n",
       "\\item 329782\n",
       "\\item 333090\n",
       "\\item 333451\n",
       "\\item 332552\n",
       "\\item 333786\n",
       "\\item 334195\n",
       "\\end{enumerate*}\n"
      ],
      "text/markdown": [
       "1. 321758\n",
       "2. 323373\n",
       "3. 324815\n",
       "4. 328452\n",
       "5. 328012\n",
       "6. 326925\n",
       "7. 325846\n",
       "8. 324912\n",
       "9. 323615\n",
       "10. 323084\n",
       "11. 323270\n",
       "12. 327199\n",
       "13. 328314\n",
       "14. 328864\n",
       "15. 329782\n",
       "16. 333090\n",
       "17. 333451\n",
       "18. 332552\n",
       "19. 333786\n",
       "20. 334195\n",
       "\n",
       "\n"
      ],
      "text/plain": [
       " [1] 321758 323373 324815 328452 328012 326925 325846 324912 323615 323084\n",
       "[11] 323270 327199 328314 328864 329782 333090 333451 332552 333786 334195"
      ]
     },
     "metadata": {},
     "output_type": "display_data"
    },
    {
     "data": {
      "text/html": [
       "20"
      ],
      "text/latex": [
       "20"
      ],
      "text/markdown": [
       "20"
      ],
      "text/plain": [
       "[1] 20"
      ]
     },
     "metadata": {},
     "output_type": "display_data"
    }
   ],
   "source": [
    "# Vektor mit Bielfelder Einwohner:innenzahlen von 2000 bis 2019 erstellen\n",
    "\n",
    "Einwohner_Bi_Verlauf <- c(321758,323373,324815,328452,328012, \n",
    "                          326925,325846, 324912, 323615,323084, \n",
    "                          323270,327199,328314,328864, 329782, \n",
    "                          333090, 333451,332552,333786,334195)\n",
    "Einwohner_Bi_Verlauf\n",
    "\n",
    "length(Einwohner_Bi_Verlauf) # Länge des Vektors ausgeben"
   ]
  },
  {
   "cell_type": "code",
   "execution_count": 25,
   "id": "258dec8d",
   "metadata": {},
   "outputs": [
    {
     "data": {
      "text/html": [
       "<style>\n",
       ".list-inline {list-style: none; margin:0; padding: 0}\n",
       ".list-inline>li {display: inline-block}\n",
       ".list-inline>li:not(:last-child)::after {content: \"\\00b7\"; padding: 0 .5ex}\n",
       "</style>\n",
       "<ol class=list-inline><li>'Bielefeld'</li><li>'Bielefeld'</li><li>'Bielefeld'</li><li>'Bielefeld'</li><li>'Bielefeld'</li><li>'Bielefeld'</li><li>'Bielefeld'</li><li>'Bielefeld'</li><li>'Bielefeld'</li><li>'Bielefeld'</li><li>'Bielefeld'</li><li>'Bielefeld'</li><li>'Bielefeld'</li><li>'Bielefeld'</li><li>'Bielefeld'</li><li>'Bielefeld'</li><li>'Bielefeld'</li><li>'Bielefeld'</li><li>'Bielefeld'</li><li>'Bielefeld'</li></ol>\n"
      ],
      "text/latex": [
       "\\begin{enumerate*}\n",
       "\\item 'Bielefeld'\n",
       "\\item 'Bielefeld'\n",
       "\\item 'Bielefeld'\n",
       "\\item 'Bielefeld'\n",
       "\\item 'Bielefeld'\n",
       "\\item 'Bielefeld'\n",
       "\\item 'Bielefeld'\n",
       "\\item 'Bielefeld'\n",
       "\\item 'Bielefeld'\n",
       "\\item 'Bielefeld'\n",
       "\\item 'Bielefeld'\n",
       "\\item 'Bielefeld'\n",
       "\\item 'Bielefeld'\n",
       "\\item 'Bielefeld'\n",
       "\\item 'Bielefeld'\n",
       "\\item 'Bielefeld'\n",
       "\\item 'Bielefeld'\n",
       "\\item 'Bielefeld'\n",
       "\\item 'Bielefeld'\n",
       "\\item 'Bielefeld'\n",
       "\\end{enumerate*}\n"
      ],
      "text/markdown": [
       "1. 'Bielefeld'\n",
       "2. 'Bielefeld'\n",
       "3. 'Bielefeld'\n",
       "4. 'Bielefeld'\n",
       "5. 'Bielefeld'\n",
       "6. 'Bielefeld'\n",
       "7. 'Bielefeld'\n",
       "8. 'Bielefeld'\n",
       "9. 'Bielefeld'\n",
       "10. 'Bielefeld'\n",
       "11. 'Bielefeld'\n",
       "12. 'Bielefeld'\n",
       "13. 'Bielefeld'\n",
       "14. 'Bielefeld'\n",
       "15. 'Bielefeld'\n",
       "16. 'Bielefeld'\n",
       "17. 'Bielefeld'\n",
       "18. 'Bielefeld'\n",
       "19. 'Bielefeld'\n",
       "20. 'Bielefeld'\n",
       "\n",
       "\n"
      ],
      "text/plain": [
       " [1] \"Bielefeld\" \"Bielefeld\" \"Bielefeld\" \"Bielefeld\" \"Bielefeld\" \"Bielefeld\"\n",
       " [7] \"Bielefeld\" \"Bielefeld\" \"Bielefeld\" \"Bielefeld\" \"Bielefeld\" \"Bielefeld\"\n",
       "[13] \"Bielefeld\" \"Bielefeld\" \"Bielefeld\" \"Bielefeld\" \"Bielefeld\" \"Bielefeld\"\n",
       "[19] \"Bielefeld\" \"Bielefeld\""
      ]
     },
     "metadata": {},
     "output_type": "display_data"
    },
    {
     "data": {
      "text/html": [
       "20"
      ],
      "text/latex": [
       "20"
      ],
      "text/markdown": [
       "20"
      ],
      "text/plain": [
       "[1] 20"
      ]
     },
     "metadata": {},
     "output_type": "display_data"
    }
   ],
   "source": [
    "# Erstelle Text-Vektor\n",
    "\n",
    "Bi_Text <- rep(\"Bielefeld\",20)\n",
    "\n",
    "Bi_Text # Vektor Bi_Text anzeigen\n",
    "\n",
    "length(Bi_Text) # Länge Vektor Bi_Text anzeigen"
   ]
  },
  {
   "cell_type": "code",
   "execution_count": 26,
   "id": "28bb2a3e",
   "metadata": {},
   "outputs": [
    {
     "data": {
      "text/html": [
       "<table class=\"dataframe\">\n",
       "<caption>A data.frame: 20 × 3</caption>\n",
       "<thead>\n",
       "\t<tr><th scope=col>Einwohner_Bi_Verlauf</th><th scope=col>Jahr</th><th scope=col>Bi_Text</th></tr>\n",
       "\t<tr><th scope=col>&lt;dbl&gt;</th><th scope=col>&lt;int&gt;</th><th scope=col>&lt;chr&gt;</th></tr>\n",
       "</thead>\n",
       "<tbody>\n",
       "\t<tr><td>321758</td><td>2000</td><td>Bielefeld</td></tr>\n",
       "\t<tr><td>323373</td><td>2001</td><td>Bielefeld</td></tr>\n",
       "\t<tr><td>324815</td><td>2002</td><td>Bielefeld</td></tr>\n",
       "\t<tr><td>328452</td><td>2003</td><td>Bielefeld</td></tr>\n",
       "\t<tr><td>328012</td><td>2004</td><td>Bielefeld</td></tr>\n",
       "\t<tr><td>326925</td><td>2005</td><td>Bielefeld</td></tr>\n",
       "\t<tr><td>325846</td><td>2006</td><td>Bielefeld</td></tr>\n",
       "\t<tr><td>324912</td><td>2007</td><td>Bielefeld</td></tr>\n",
       "\t<tr><td>323615</td><td>2008</td><td>Bielefeld</td></tr>\n",
       "\t<tr><td>323084</td><td>2009</td><td>Bielefeld</td></tr>\n",
       "\t<tr><td>323270</td><td>2010</td><td>Bielefeld</td></tr>\n",
       "\t<tr><td>327199</td><td>2011</td><td>Bielefeld</td></tr>\n",
       "\t<tr><td>328314</td><td>2012</td><td>Bielefeld</td></tr>\n",
       "\t<tr><td>328864</td><td>2013</td><td>Bielefeld</td></tr>\n",
       "\t<tr><td>329782</td><td>2014</td><td>Bielefeld</td></tr>\n",
       "\t<tr><td>333090</td><td>2015</td><td>Bielefeld</td></tr>\n",
       "\t<tr><td>333451</td><td>2016</td><td>Bielefeld</td></tr>\n",
       "\t<tr><td>332552</td><td>2017</td><td>Bielefeld</td></tr>\n",
       "\t<tr><td>333786</td><td>2018</td><td>Bielefeld</td></tr>\n",
       "\t<tr><td>334195</td><td>2019</td><td>Bielefeld</td></tr>\n",
       "</tbody>\n",
       "</table>\n"
      ],
      "text/latex": [
       "A data.frame: 20 × 3\n",
       "\\begin{tabular}{lll}\n",
       " Einwohner\\_Bi\\_Verlauf & Jahr & Bi\\_Text\\\\\n",
       " <dbl> & <int> & <chr>\\\\\n",
       "\\hline\n",
       "\t 321758 & 2000 & Bielefeld\\\\\n",
       "\t 323373 & 2001 & Bielefeld\\\\\n",
       "\t 324815 & 2002 & Bielefeld\\\\\n",
       "\t 328452 & 2003 & Bielefeld\\\\\n",
       "\t 328012 & 2004 & Bielefeld\\\\\n",
       "\t 326925 & 2005 & Bielefeld\\\\\n",
       "\t 325846 & 2006 & Bielefeld\\\\\n",
       "\t 324912 & 2007 & Bielefeld\\\\\n",
       "\t 323615 & 2008 & Bielefeld\\\\\n",
       "\t 323084 & 2009 & Bielefeld\\\\\n",
       "\t 323270 & 2010 & Bielefeld\\\\\n",
       "\t 327199 & 2011 & Bielefeld\\\\\n",
       "\t 328314 & 2012 & Bielefeld\\\\\n",
       "\t 328864 & 2013 & Bielefeld\\\\\n",
       "\t 329782 & 2014 & Bielefeld\\\\\n",
       "\t 333090 & 2015 & Bielefeld\\\\\n",
       "\t 333451 & 2016 & Bielefeld\\\\\n",
       "\t 332552 & 2017 & Bielefeld\\\\\n",
       "\t 333786 & 2018 & Bielefeld\\\\\n",
       "\t 334195 & 2019 & Bielefeld\\\\\n",
       "\\end{tabular}\n"
      ],
      "text/markdown": [
       "\n",
       "A data.frame: 20 × 3\n",
       "\n",
       "| Einwohner_Bi_Verlauf &lt;dbl&gt; | Jahr &lt;int&gt; | Bi_Text &lt;chr&gt; |\n",
       "|---|---|---|\n",
       "| 321758 | 2000 | Bielefeld |\n",
       "| 323373 | 2001 | Bielefeld |\n",
       "| 324815 | 2002 | Bielefeld |\n",
       "| 328452 | 2003 | Bielefeld |\n",
       "| 328012 | 2004 | Bielefeld |\n",
       "| 326925 | 2005 | Bielefeld |\n",
       "| 325846 | 2006 | Bielefeld |\n",
       "| 324912 | 2007 | Bielefeld |\n",
       "| 323615 | 2008 | Bielefeld |\n",
       "| 323084 | 2009 | Bielefeld |\n",
       "| 323270 | 2010 | Bielefeld |\n",
       "| 327199 | 2011 | Bielefeld |\n",
       "| 328314 | 2012 | Bielefeld |\n",
       "| 328864 | 2013 | Bielefeld |\n",
       "| 329782 | 2014 | Bielefeld |\n",
       "| 333090 | 2015 | Bielefeld |\n",
       "| 333451 | 2016 | Bielefeld |\n",
       "| 332552 | 2017 | Bielefeld |\n",
       "| 333786 | 2018 | Bielefeld |\n",
       "| 334195 | 2019 | Bielefeld |\n",
       "\n"
      ],
      "text/plain": [
       "   Einwohner_Bi_Verlauf Jahr Bi_Text  \n",
       "1  321758               2000 Bielefeld\n",
       "2  323373               2001 Bielefeld\n",
       "3  324815               2002 Bielefeld\n",
       "4  328452               2003 Bielefeld\n",
       "5  328012               2004 Bielefeld\n",
       "6  326925               2005 Bielefeld\n",
       "7  325846               2006 Bielefeld\n",
       "8  324912               2007 Bielefeld\n",
       "9  323615               2008 Bielefeld\n",
       "10 323084               2009 Bielefeld\n",
       "11 323270               2010 Bielefeld\n",
       "12 327199               2011 Bielefeld\n",
       "13 328314               2012 Bielefeld\n",
       "14 328864               2013 Bielefeld\n",
       "15 329782               2014 Bielefeld\n",
       "16 333090               2015 Bielefeld\n",
       "17 333451               2016 Bielefeld\n",
       "18 332552               2017 Bielefeld\n",
       "19 333786               2018 Bielefeld\n",
       "20 334195               2019 Bielefeld"
      ]
     },
     "metadata": {},
     "output_type": "display_data"
    }
   ],
   "source": [
    "Einwohner_Bi_2000_2019 <- data.frame(Einwohner_Bi_Verlauf,Jahr, Bi_Text) # erstelle Data.Frame aus Vektoren\n",
    "\n",
    "View(Einwohner_Bi_2000_2019)"
   ]
  },
  {
   "cell_type": "markdown",
   "id": "7d4475a3",
   "metadata": {
    "deletable": false,
    "editable": false,
    "run_control": {
     "frozen": true
    }
   },
   "source": [
    "Schau Dir **Einwohner_Bi_2000_2019** zunächst mit **str()** an:"
   ]
  },
  {
   "cell_type": "code",
   "execution_count": 27,
   "id": "da4e291a",
   "metadata": {},
   "outputs": [
    {
     "name": "stdout",
     "output_type": "stream",
     "text": [
      "'data.frame':\t20 obs. of  3 variables:\n",
      " $ Einwohner_Bi_Verlauf: num  321758 323373 324815 328452 328012 ...\n",
      " $ Jahr                : int  2000 2001 2002 2003 2004 2005 2006 2007 2008 2009 ...\n",
      " $ Bi_Text             : chr  \"Bielefeld\" \"Bielefeld\" \"Bielefeld\" \"Bielefeld\" ...\n"
     ]
    }
   ],
   "source": [
    "str(Einwohner_Bi_2000_2019) # zeigt die Struktur des Dataframes an"
   ]
  },
  {
   "cell_type": "markdown",
   "id": "4bf08be2",
   "metadata": {
    "deletable": false,
    "editable": false,
    "run_control": {
     "frozen": true
    }
   },
   "source": [
    "Wenn Dich nur die Anzahl der **Reihen** und **Spalten** des Dataframes intessieren, kannst Du Dir diese\n",
    "mit **dim()** anzeigen lassen:"
   ]
  },
  {
   "cell_type": "code",
   "execution_count": 28,
   "id": "a572ec87",
   "metadata": {},
   "outputs": [
    {
     "data": {
      "text/html": [
       "<style>\n",
       ".list-inline {list-style: none; margin:0; padding: 0}\n",
       ".list-inline>li {display: inline-block}\n",
       ".list-inline>li:not(:last-child)::after {content: \"\\00b7\"; padding: 0 .5ex}\n",
       "</style>\n",
       "<ol class=list-inline><li>20</li><li>3</li></ol>\n"
      ],
      "text/latex": [
       "\\begin{enumerate*}\n",
       "\\item 20\n",
       "\\item 3\n",
       "\\end{enumerate*}\n"
      ],
      "text/markdown": [
       "1. 20\n",
       "2. 3\n",
       "\n",
       "\n"
      ],
      "text/plain": [
       "[1] 20  3"
      ]
     },
     "metadata": {},
     "output_type": "display_data"
    }
   ],
   "source": [
    "dim(Einwohner_Bi_2000_2019) # zeigt die Dimension des Dataframes nach Reihe und Spalte an"
   ]
  },
  {
   "cell_type": "markdown",
   "id": "146e09e6",
   "metadata": {
    "deletable": false,
    "editable": false,
    "run_control": {
     "frozen": true
    }
   },
   "source": [
    "Wenn Du Dir nun für den Dataframe **Einwohner_Bi_2000_2019** z.B. das 3. Element der 2. Spalte ausgeben lassen möchtest, erreichst dies durch:"
   ]
  },
  {
   "cell_type": "code",
   "execution_count": 29,
   "id": "ab46dee5",
   "metadata": {},
   "outputs": [
    {
     "data": {
      "text/html": [
       "2002"
      ],
      "text/latex": [
       "2002"
      ],
      "text/markdown": [
       "2002"
      ],
      "text/plain": [
       "[1] 2002"
      ]
     },
     "metadata": {},
     "output_type": "display_data"
    }
   ],
   "source": [
    "Einwohner_Bi_2000_2019[3,2] # Index Reihe, Index Spalte\n"
   ]
  },
  {
   "cell_type": "markdown",
   "id": "4388dd1f",
   "metadata": {
    "deletable": false,
    "editable": false,
    "run_control": {
     "frozen": true
    }
   },
   "source": [
    "Die ganze 3. Reihe des Dataframes kannst Du Dir so ausgeben lassen:"
   ]
  },
  {
   "cell_type": "code",
   "execution_count": 30,
   "id": "729897a8",
   "metadata": {},
   "outputs": [
    {
     "data": {
      "text/html": [
       "<table class=\"dataframe\">\n",
       "<caption>A data.frame: 1 × 3</caption>\n",
       "<thead>\n",
       "\t<tr><th></th><th scope=col>Einwohner_Bi_Verlauf</th><th scope=col>Jahr</th><th scope=col>Bi_Text</th></tr>\n",
       "\t<tr><th></th><th scope=col>&lt;dbl&gt;</th><th scope=col>&lt;int&gt;</th><th scope=col>&lt;chr&gt;</th></tr>\n",
       "</thead>\n",
       "<tbody>\n",
       "\t<tr><th scope=row>3</th><td>324815</td><td>2002</td><td>Bielefeld</td></tr>\n",
       "</tbody>\n",
       "</table>\n"
      ],
      "text/latex": [
       "A data.frame: 1 × 3\n",
       "\\begin{tabular}{r|lll}\n",
       "  & Einwohner\\_Bi\\_Verlauf & Jahr & Bi\\_Text\\\\\n",
       "  & <dbl> & <int> & <chr>\\\\\n",
       "\\hline\n",
       "\t3 & 324815 & 2002 & Bielefeld\\\\\n",
       "\\end{tabular}\n"
      ],
      "text/markdown": [
       "\n",
       "A data.frame: 1 × 3\n",
       "\n",
       "| <!--/--> | Einwohner_Bi_Verlauf &lt;dbl&gt; | Jahr &lt;int&gt; | Bi_Text &lt;chr&gt; |\n",
       "|---|---|---|---|\n",
       "| 3 | 324815 | 2002 | Bielefeld |\n",
       "\n"
      ],
      "text/plain": [
       "  Einwohner_Bi_Verlauf Jahr Bi_Text  \n",
       "3 324815               2002 Bielefeld"
      ]
     },
     "metadata": {},
     "output_type": "display_data"
    }
   ],
   "source": [
    "Einwohner_Bi_2000_2019[3,] # Index Reihe, Index Spalte"
   ]
  },
  {
   "cell_type": "markdown",
   "id": "43d63309",
   "metadata": {},
   "source": [
    "Die ganze 1. Spalte des Dataframes kannst Du Dir entsprechend so ausgeben lassen:"
   ]
  },
  {
   "cell_type": "code",
   "execution_count": 31,
   "id": "d3efb984",
   "metadata": {},
   "outputs": [
    {
     "data": {
      "text/html": [
       "<style>\n",
       ".list-inline {list-style: none; margin:0; padding: 0}\n",
       ".list-inline>li {display: inline-block}\n",
       ".list-inline>li:not(:last-child)::after {content: \"\\00b7\"; padding: 0 .5ex}\n",
       "</style>\n",
       "<ol class=list-inline><li>321758</li><li>323373</li><li>324815</li><li>328452</li><li>328012</li><li>326925</li><li>325846</li><li>324912</li><li>323615</li><li>323084</li><li>323270</li><li>327199</li><li>328314</li><li>328864</li><li>329782</li><li>333090</li><li>333451</li><li>332552</li><li>333786</li><li>334195</li></ol>\n"
      ],
      "text/latex": [
       "\\begin{enumerate*}\n",
       "\\item 321758\n",
       "\\item 323373\n",
       "\\item 324815\n",
       "\\item 328452\n",
       "\\item 328012\n",
       "\\item 326925\n",
       "\\item 325846\n",
       "\\item 324912\n",
       "\\item 323615\n",
       "\\item 323084\n",
       "\\item 323270\n",
       "\\item 327199\n",
       "\\item 328314\n",
       "\\item 328864\n",
       "\\item 329782\n",
       "\\item 333090\n",
       "\\item 333451\n",
       "\\item 332552\n",
       "\\item 333786\n",
       "\\item 334195\n",
       "\\end{enumerate*}\n"
      ],
      "text/markdown": [
       "1. 321758\n",
       "2. 323373\n",
       "3. 324815\n",
       "4. 328452\n",
       "5. 328012\n",
       "6. 326925\n",
       "7. 325846\n",
       "8. 324912\n",
       "9. 323615\n",
       "10. 323084\n",
       "11. 323270\n",
       "12. 327199\n",
       "13. 328314\n",
       "14. 328864\n",
       "15. 329782\n",
       "16. 333090\n",
       "17. 333451\n",
       "18. 332552\n",
       "19. 333786\n",
       "20. 334195\n",
       "\n",
       "\n"
      ],
      "text/plain": [
       " [1] 321758 323373 324815 328452 328012 326925 325846 324912 323615 323084\n",
       "[11] 323270 327199 328314 328864 329782 333090 333451 332552 333786 334195"
      ]
     },
     "metadata": {},
     "output_type": "display_data"
    }
   ],
   "source": [
    "Einwohner_Bi_2000_2019[,1] # Index Reihe, Index Spalte"
   ]
  },
  {
   "cell_type": "markdown",
   "id": "f6bff262",
   "metadata": {
    "deletable": false,
    "editable": false,
    "run_control": {
     "frozen": true
    }
   },
   "source": [
    "Es gibt allerdings noch eine andere Möglichkeit auf die Spalten eines Dataframes zuzugreifen, hierfür musst Du das \"Dollarzeichen\" verwenden, **DataframeName\\$SpaltenName**:"
   ]
  },
  {
   "cell_type": "code",
   "execution_count": 32,
   "id": "4edacff2",
   "metadata": {},
   "outputs": [
    {
     "data": {
      "text/html": [
       "<style>\n",
       ".list-inline {list-style: none; margin:0; padding: 0}\n",
       ".list-inline>li {display: inline-block}\n",
       ".list-inline>li:not(:last-child)::after {content: \"\\00b7\"; padding: 0 .5ex}\n",
       "</style>\n",
       "<ol class=list-inline><li>321758</li><li>323373</li><li>324815</li><li>328452</li><li>328012</li><li>326925</li><li>325846</li><li>324912</li><li>323615</li><li>323084</li><li>323270</li><li>327199</li><li>328314</li><li>328864</li><li>329782</li><li>333090</li><li>333451</li><li>332552</li><li>333786</li><li>334195</li></ol>\n"
      ],
      "text/latex": [
       "\\begin{enumerate*}\n",
       "\\item 321758\n",
       "\\item 323373\n",
       "\\item 324815\n",
       "\\item 328452\n",
       "\\item 328012\n",
       "\\item 326925\n",
       "\\item 325846\n",
       "\\item 324912\n",
       "\\item 323615\n",
       "\\item 323084\n",
       "\\item 323270\n",
       "\\item 327199\n",
       "\\item 328314\n",
       "\\item 328864\n",
       "\\item 329782\n",
       "\\item 333090\n",
       "\\item 333451\n",
       "\\item 332552\n",
       "\\item 333786\n",
       "\\item 334195\n",
       "\\end{enumerate*}\n"
      ],
      "text/markdown": [
       "1. 321758\n",
       "2. 323373\n",
       "3. 324815\n",
       "4. 328452\n",
       "5. 328012\n",
       "6. 326925\n",
       "7. 325846\n",
       "8. 324912\n",
       "9. 323615\n",
       "10. 323084\n",
       "11. 323270\n",
       "12. 327199\n",
       "13. 328314\n",
       "14. 328864\n",
       "15. 329782\n",
       "16. 333090\n",
       "17. 333451\n",
       "18. 332552\n",
       "19. 333786\n",
       "20. 334195\n",
       "\n",
       "\n"
      ],
      "text/plain": [
       " [1] 321758 323373 324815 328452 328012 326925 325846 324912 323615 323084\n",
       "[11] 323270 327199 328314 328864 329782 333090 333451 332552 333786 334195"
      ]
     },
     "metadata": {},
     "output_type": "display_data"
    }
   ],
   "source": [
    "# ruft die erste Spalte des Dataframes  Einwohner_Bi_2000_2019 auf \n",
    "\n",
    "Einwohner_Bi_2000_2019$Einwohner_Bi_Verlauf "
   ]
  },
  {
   "cell_type": "markdown",
   "id": "8dee6e8d",
   "metadata": {},
   "source": [
    "# Bevölkerungsdaten Stadt Bielefeld gesamt\n",
    " https://open-data.bielefeld.de/dataset/alters-und-geschlechtsstruktur-2018-2020"
   ]
  },
  {
   "cell_type": "code",
   "execution_count": 33,
   "id": "216f0646",
   "metadata": {},
   "outputs": [],
   "source": [
    "# Bevölkerungsdaten Bielfeld als Dataframe einlesen\n",
    "data_Bv_Bi <- read.csv(url(\"https://open-data.bielefeld.de/sites/default/files/Alters_und_Geschlechtsstruktur2018bis2020ges_0.csv\"), header = TRUE, sep = ';')\n",
    "\n"
   ]
  },
  {
   "cell_type": "code",
   "execution_count": 34,
   "id": "ede1bfae",
   "metadata": {},
   "outputs": [
    {
     "name": "stdout",
     "output_type": "stream",
     "text": [
      "'data.frame':\t546 obs. of  5 variables:\n",
      " $ Jahr                                   : int  2020 2020 2020 2020 2020 2020 2020 2020 2020 2020 ...\n",
      " $ Bielefeld                              : chr  \"Bielefeld insgesamt\" \"Bielefeld insgesamt\" \"Bielefeld insgesamt\" \"Bielefeld insgesamt\" ...\n",
      " $ Geschlecht                             : chr  \"maennlich\" \"maennlich\" \"maennlich\" \"maennlich\" ...\n",
      " $ Altersstufe                            : chr  \"0\" \"1\" \"2\" \"3\" ...\n",
      " $ Einwohner_innen.am.Ort.der.Hauptwohnung: int  1661 1764 1695 1700 1647 1649 1605 1598 1542 1618 ...\n"
     ]
    }
   ],
   "source": [
    "str(data_Bv_Bi) #Struktur des Dataframe anzeigen"
   ]
  },
  {
   "cell_type": "code",
   "execution_count": 35,
   "id": "8d7fc6ef",
   "metadata": {},
   "outputs": [
    {
     "data": {
      "text/html": [
       "<table class=\"dataframe\">\n",
       "<caption>A data.frame: 546 × 5</caption>\n",
       "<thead>\n",
       "\t<tr><th scope=col>Jahr</th><th scope=col>Bielefeld</th><th scope=col>Geschlecht</th><th scope=col>Altersstufe</th><th scope=col>Einwohner_innen.am.Ort.der.Hauptwohnung</th></tr>\n",
       "\t<tr><th scope=col>&lt;int&gt;</th><th scope=col>&lt;chr&gt;</th><th scope=col>&lt;chr&gt;</th><th scope=col>&lt;chr&gt;</th><th scope=col>&lt;int&gt;</th></tr>\n",
       "</thead>\n",
       "<tbody>\n",
       "\t<tr><td>2020</td><td>Bielefeld insgesamt</td><td>maennlich</td><td>0 </td><td>1661</td></tr>\n",
       "\t<tr><td>2020</td><td>Bielefeld insgesamt</td><td>maennlich</td><td>1 </td><td>1764</td></tr>\n",
       "\t<tr><td>2020</td><td>Bielefeld insgesamt</td><td>maennlich</td><td>2 </td><td>1695</td></tr>\n",
       "\t<tr><td>2020</td><td>Bielefeld insgesamt</td><td>maennlich</td><td>3 </td><td>1700</td></tr>\n",
       "\t<tr><td>2020</td><td>Bielefeld insgesamt</td><td>maennlich</td><td>4 </td><td>1647</td></tr>\n",
       "\t<tr><td>2020</td><td>Bielefeld insgesamt</td><td>maennlich</td><td>5 </td><td>1649</td></tr>\n",
       "\t<tr><td>2020</td><td>Bielefeld insgesamt</td><td>maennlich</td><td>6 </td><td>1605</td></tr>\n",
       "\t<tr><td>2020</td><td>Bielefeld insgesamt</td><td>maennlich</td><td>7 </td><td>1598</td></tr>\n",
       "\t<tr><td>2020</td><td>Bielefeld insgesamt</td><td>maennlich</td><td>8 </td><td>1542</td></tr>\n",
       "\t<tr><td>2020</td><td>Bielefeld insgesamt</td><td>maennlich</td><td>9 </td><td>1618</td></tr>\n",
       "\t<tr><td>2020</td><td>Bielefeld insgesamt</td><td>maennlich</td><td>10</td><td>1633</td></tr>\n",
       "\t<tr><td>2020</td><td>Bielefeld insgesamt</td><td>maennlich</td><td>11</td><td>1525</td></tr>\n",
       "\t<tr><td>2020</td><td>Bielefeld insgesamt</td><td>maennlich</td><td>12</td><td>1649</td></tr>\n",
       "\t<tr><td>2020</td><td>Bielefeld insgesamt</td><td>maennlich</td><td>13</td><td>1621</td></tr>\n",
       "\t<tr><td>2020</td><td>Bielefeld insgesamt</td><td>maennlich</td><td>14</td><td>1639</td></tr>\n",
       "\t<tr><td>2020</td><td>Bielefeld insgesamt</td><td>maennlich</td><td>15</td><td>1635</td></tr>\n",
       "\t<tr><td>2020</td><td>Bielefeld insgesamt</td><td>maennlich</td><td>16</td><td>1713</td></tr>\n",
       "\t<tr><td>2020</td><td>Bielefeld insgesamt</td><td>maennlich</td><td>17</td><td>1660</td></tr>\n",
       "\t<tr><td>2020</td><td>Bielefeld insgesamt</td><td>maennlich</td><td>18</td><td>1788</td></tr>\n",
       "\t<tr><td>2020</td><td>Bielefeld insgesamt</td><td>maennlich</td><td>19</td><td>1785</td></tr>\n",
       "\t<tr><td>2020</td><td>Bielefeld insgesamt</td><td>maennlich</td><td>20</td><td>2069</td></tr>\n",
       "\t<tr><td>2020</td><td>Bielefeld insgesamt</td><td>maennlich</td><td>21</td><td>2074</td></tr>\n",
       "\t<tr><td>2020</td><td>Bielefeld insgesamt</td><td>maennlich</td><td>22</td><td>2243</td></tr>\n",
       "\t<tr><td>2020</td><td>Bielefeld insgesamt</td><td>maennlich</td><td>23</td><td>2497</td></tr>\n",
       "\t<tr><td>2020</td><td>Bielefeld insgesamt</td><td>maennlich</td><td>24</td><td>2497</td></tr>\n",
       "\t<tr><td>2020</td><td>Bielefeld insgesamt</td><td>maennlich</td><td>25</td><td>2408</td></tr>\n",
       "\t<tr><td>2020</td><td>Bielefeld insgesamt</td><td>maennlich</td><td>26</td><td>2533</td></tr>\n",
       "\t<tr><td>2020</td><td>Bielefeld insgesamt</td><td>maennlich</td><td>27</td><td>2597</td></tr>\n",
       "\t<tr><td>2020</td><td>Bielefeld insgesamt</td><td>maennlich</td><td>28</td><td>2591</td></tr>\n",
       "\t<tr><td>2020</td><td>Bielefeld insgesamt</td><td>maennlich</td><td>29</td><td>2655</td></tr>\n",
       "\t<tr><td>...</td><td>...</td><td>...</td><td>...</td><td>...</td></tr>\n",
       "\t<tr><td>2018</td><td>Bielefeld insgesamt</td><td>weiblich</td><td>61           </td><td>2121</td></tr>\n",
       "\t<tr><td>2018</td><td>Bielefeld insgesamt</td><td>weiblich</td><td>62           </td><td>2091</td></tr>\n",
       "\t<tr><td>2018</td><td>Bielefeld insgesamt</td><td>weiblich</td><td>63           </td><td>2060</td></tr>\n",
       "\t<tr><td>2018</td><td>Bielefeld insgesamt</td><td>weiblich</td><td>64           </td><td>2020</td></tr>\n",
       "\t<tr><td>2018</td><td>Bielefeld insgesamt</td><td>weiblich</td><td>65           </td><td>1853</td></tr>\n",
       "\t<tr><td>2018</td><td>Bielefeld insgesamt</td><td>weiblich</td><td>66           </td><td>1805</td></tr>\n",
       "\t<tr><td>2018</td><td>Bielefeld insgesamt</td><td>weiblich</td><td>67           </td><td>1734</td></tr>\n",
       "\t<tr><td>2018</td><td>Bielefeld insgesamt</td><td>weiblich</td><td>68           </td><td>1785</td></tr>\n",
       "\t<tr><td>2018</td><td>Bielefeld insgesamt</td><td>weiblich</td><td>69           </td><td>1763</td></tr>\n",
       "\t<tr><td>2018</td><td>Bielefeld insgesamt</td><td>weiblich</td><td>70           </td><td>1582</td></tr>\n",
       "\t<tr><td>2018</td><td>Bielefeld insgesamt</td><td>weiblich</td><td>71           </td><td>1461</td></tr>\n",
       "\t<tr><td>2018</td><td>Bielefeld insgesamt</td><td>weiblich</td><td>72           </td><td>1291</td></tr>\n",
       "\t<tr><td>2018</td><td>Bielefeld insgesamt</td><td>weiblich</td><td>73           </td><td>1210</td></tr>\n",
       "\t<tr><td>2018</td><td>Bielefeld insgesamt</td><td>weiblich</td><td>74           </td><td>1470</td></tr>\n",
       "\t<tr><td>2018</td><td>Bielefeld insgesamt</td><td>weiblich</td><td>75           </td><td>1448</td></tr>\n",
       "\t<tr><td>2018</td><td>Bielefeld insgesamt</td><td>weiblich</td><td>76           </td><td>1391</td></tr>\n",
       "\t<tr><td>2018</td><td>Bielefeld insgesamt</td><td>weiblich</td><td>77           </td><td>1756</td></tr>\n",
       "\t<tr><td>2018</td><td>Bielefeld insgesamt</td><td>weiblich</td><td>78           </td><td>1888</td></tr>\n",
       "\t<tr><td>2018</td><td>Bielefeld insgesamt</td><td>weiblich</td><td>79           </td><td>1915</td></tr>\n",
       "\t<tr><td>2018</td><td>Bielefeld insgesamt</td><td>weiblich</td><td>80           </td><td>1654</td></tr>\n",
       "\t<tr><td>2018</td><td>Bielefeld insgesamt</td><td>weiblich</td><td>81           </td><td>1633</td></tr>\n",
       "\t<tr><td>2018</td><td>Bielefeld insgesamt</td><td>weiblich</td><td>82           </td><td>1451</td></tr>\n",
       "\t<tr><td>2018</td><td>Bielefeld insgesamt</td><td>weiblich</td><td>83           </td><td>1379</td></tr>\n",
       "\t<tr><td>2018</td><td>Bielefeld insgesamt</td><td>weiblich</td><td>84           </td><td>1250</td></tr>\n",
       "\t<tr><td>2018</td><td>Bielefeld insgesamt</td><td>weiblich</td><td>85           </td><td> 928</td></tr>\n",
       "\t<tr><td>2018</td><td>Bielefeld insgesamt</td><td>weiblich</td><td>86           </td><td> 847</td></tr>\n",
       "\t<tr><td>2018</td><td>Bielefeld insgesamt</td><td>weiblich</td><td>87           </td><td> 827</td></tr>\n",
       "\t<tr><td>2018</td><td>Bielefeld insgesamt</td><td>weiblich</td><td>88           </td><td> 802</td></tr>\n",
       "\t<tr><td>2018</td><td>Bielefeld insgesamt</td><td>weiblich</td><td>89           </td><td> 680</td></tr>\n",
       "\t<tr><td>2018</td><td>Bielefeld insgesamt</td><td>weiblich</td><td>90_und_aelter</td><td>2660</td></tr>\n",
       "</tbody>\n",
       "</table>\n"
      ],
      "text/latex": [
       "A data.frame: 546 × 5\n",
       "\\begin{tabular}{lllll}\n",
       " Jahr & Bielefeld & Geschlecht & Altersstufe & Einwohner\\_innen.am.Ort.der.Hauptwohnung\\\\\n",
       " <int> & <chr> & <chr> & <chr> & <int>\\\\\n",
       "\\hline\n",
       "\t 2020 & Bielefeld insgesamt & maennlich & 0  & 1661\\\\\n",
       "\t 2020 & Bielefeld insgesamt & maennlich & 1  & 1764\\\\\n",
       "\t 2020 & Bielefeld insgesamt & maennlich & 2  & 1695\\\\\n",
       "\t 2020 & Bielefeld insgesamt & maennlich & 3  & 1700\\\\\n",
       "\t 2020 & Bielefeld insgesamt & maennlich & 4  & 1647\\\\\n",
       "\t 2020 & Bielefeld insgesamt & maennlich & 5  & 1649\\\\\n",
       "\t 2020 & Bielefeld insgesamt & maennlich & 6  & 1605\\\\\n",
       "\t 2020 & Bielefeld insgesamt & maennlich & 7  & 1598\\\\\n",
       "\t 2020 & Bielefeld insgesamt & maennlich & 8  & 1542\\\\\n",
       "\t 2020 & Bielefeld insgesamt & maennlich & 9  & 1618\\\\\n",
       "\t 2020 & Bielefeld insgesamt & maennlich & 10 & 1633\\\\\n",
       "\t 2020 & Bielefeld insgesamt & maennlich & 11 & 1525\\\\\n",
       "\t 2020 & Bielefeld insgesamt & maennlich & 12 & 1649\\\\\n",
       "\t 2020 & Bielefeld insgesamt & maennlich & 13 & 1621\\\\\n",
       "\t 2020 & Bielefeld insgesamt & maennlich & 14 & 1639\\\\\n",
       "\t 2020 & Bielefeld insgesamt & maennlich & 15 & 1635\\\\\n",
       "\t 2020 & Bielefeld insgesamt & maennlich & 16 & 1713\\\\\n",
       "\t 2020 & Bielefeld insgesamt & maennlich & 17 & 1660\\\\\n",
       "\t 2020 & Bielefeld insgesamt & maennlich & 18 & 1788\\\\\n",
       "\t 2020 & Bielefeld insgesamt & maennlich & 19 & 1785\\\\\n",
       "\t 2020 & Bielefeld insgesamt & maennlich & 20 & 2069\\\\\n",
       "\t 2020 & Bielefeld insgesamt & maennlich & 21 & 2074\\\\\n",
       "\t 2020 & Bielefeld insgesamt & maennlich & 22 & 2243\\\\\n",
       "\t 2020 & Bielefeld insgesamt & maennlich & 23 & 2497\\\\\n",
       "\t 2020 & Bielefeld insgesamt & maennlich & 24 & 2497\\\\\n",
       "\t 2020 & Bielefeld insgesamt & maennlich & 25 & 2408\\\\\n",
       "\t 2020 & Bielefeld insgesamt & maennlich & 26 & 2533\\\\\n",
       "\t 2020 & Bielefeld insgesamt & maennlich & 27 & 2597\\\\\n",
       "\t 2020 & Bielefeld insgesamt & maennlich & 28 & 2591\\\\\n",
       "\t 2020 & Bielefeld insgesamt & maennlich & 29 & 2655\\\\\n",
       "\t ... & ... & ... & ... & ...\\\\\n",
       "\t 2018 & Bielefeld insgesamt & weiblich & 61            & 2121\\\\\n",
       "\t 2018 & Bielefeld insgesamt & weiblich & 62            & 2091\\\\\n",
       "\t 2018 & Bielefeld insgesamt & weiblich & 63            & 2060\\\\\n",
       "\t 2018 & Bielefeld insgesamt & weiblich & 64            & 2020\\\\\n",
       "\t 2018 & Bielefeld insgesamt & weiblich & 65            & 1853\\\\\n",
       "\t 2018 & Bielefeld insgesamt & weiblich & 66            & 1805\\\\\n",
       "\t 2018 & Bielefeld insgesamt & weiblich & 67            & 1734\\\\\n",
       "\t 2018 & Bielefeld insgesamt & weiblich & 68            & 1785\\\\\n",
       "\t 2018 & Bielefeld insgesamt & weiblich & 69            & 1763\\\\\n",
       "\t 2018 & Bielefeld insgesamt & weiblich & 70            & 1582\\\\\n",
       "\t 2018 & Bielefeld insgesamt & weiblich & 71            & 1461\\\\\n",
       "\t 2018 & Bielefeld insgesamt & weiblich & 72            & 1291\\\\\n",
       "\t 2018 & Bielefeld insgesamt & weiblich & 73            & 1210\\\\\n",
       "\t 2018 & Bielefeld insgesamt & weiblich & 74            & 1470\\\\\n",
       "\t 2018 & Bielefeld insgesamt & weiblich & 75            & 1448\\\\\n",
       "\t 2018 & Bielefeld insgesamt & weiblich & 76            & 1391\\\\\n",
       "\t 2018 & Bielefeld insgesamt & weiblich & 77            & 1756\\\\\n",
       "\t 2018 & Bielefeld insgesamt & weiblich & 78            & 1888\\\\\n",
       "\t 2018 & Bielefeld insgesamt & weiblich & 79            & 1915\\\\\n",
       "\t 2018 & Bielefeld insgesamt & weiblich & 80            & 1654\\\\\n",
       "\t 2018 & Bielefeld insgesamt & weiblich & 81            & 1633\\\\\n",
       "\t 2018 & Bielefeld insgesamt & weiblich & 82            & 1451\\\\\n",
       "\t 2018 & Bielefeld insgesamt & weiblich & 83            & 1379\\\\\n",
       "\t 2018 & Bielefeld insgesamt & weiblich & 84            & 1250\\\\\n",
       "\t 2018 & Bielefeld insgesamt & weiblich & 85            &  928\\\\\n",
       "\t 2018 & Bielefeld insgesamt & weiblich & 86            &  847\\\\\n",
       "\t 2018 & Bielefeld insgesamt & weiblich & 87            &  827\\\\\n",
       "\t 2018 & Bielefeld insgesamt & weiblich & 88            &  802\\\\\n",
       "\t 2018 & Bielefeld insgesamt & weiblich & 89            &  680\\\\\n",
       "\t 2018 & Bielefeld insgesamt & weiblich & 90\\_und\\_aelter & 2660\\\\\n",
       "\\end{tabular}\n"
      ],
      "text/markdown": [
       "\n",
       "A data.frame: 546 × 5\n",
       "\n",
       "| Jahr &lt;int&gt; | Bielefeld &lt;chr&gt; | Geschlecht &lt;chr&gt; | Altersstufe &lt;chr&gt; | Einwohner_innen.am.Ort.der.Hauptwohnung &lt;int&gt; |\n",
       "|---|---|---|---|---|\n",
       "| 2020 | Bielefeld insgesamt | maennlich | 0  | 1661 |\n",
       "| 2020 | Bielefeld insgesamt | maennlich | 1  | 1764 |\n",
       "| 2020 | Bielefeld insgesamt | maennlich | 2  | 1695 |\n",
       "| 2020 | Bielefeld insgesamt | maennlich | 3  | 1700 |\n",
       "| 2020 | Bielefeld insgesamt | maennlich | 4  | 1647 |\n",
       "| 2020 | Bielefeld insgesamt | maennlich | 5  | 1649 |\n",
       "| 2020 | Bielefeld insgesamt | maennlich | 6  | 1605 |\n",
       "| 2020 | Bielefeld insgesamt | maennlich | 7  | 1598 |\n",
       "| 2020 | Bielefeld insgesamt | maennlich | 8  | 1542 |\n",
       "| 2020 | Bielefeld insgesamt | maennlich | 9  | 1618 |\n",
       "| 2020 | Bielefeld insgesamt | maennlich | 10 | 1633 |\n",
       "| 2020 | Bielefeld insgesamt | maennlich | 11 | 1525 |\n",
       "| 2020 | Bielefeld insgesamt | maennlich | 12 | 1649 |\n",
       "| 2020 | Bielefeld insgesamt | maennlich | 13 | 1621 |\n",
       "| 2020 | Bielefeld insgesamt | maennlich | 14 | 1639 |\n",
       "| 2020 | Bielefeld insgesamt | maennlich | 15 | 1635 |\n",
       "| 2020 | Bielefeld insgesamt | maennlich | 16 | 1713 |\n",
       "| 2020 | Bielefeld insgesamt | maennlich | 17 | 1660 |\n",
       "| 2020 | Bielefeld insgesamt | maennlich | 18 | 1788 |\n",
       "| 2020 | Bielefeld insgesamt | maennlich | 19 | 1785 |\n",
       "| 2020 | Bielefeld insgesamt | maennlich | 20 | 2069 |\n",
       "| 2020 | Bielefeld insgesamt | maennlich | 21 | 2074 |\n",
       "| 2020 | Bielefeld insgesamt | maennlich | 22 | 2243 |\n",
       "| 2020 | Bielefeld insgesamt | maennlich | 23 | 2497 |\n",
       "| 2020 | Bielefeld insgesamt | maennlich | 24 | 2497 |\n",
       "| 2020 | Bielefeld insgesamt | maennlich | 25 | 2408 |\n",
       "| 2020 | Bielefeld insgesamt | maennlich | 26 | 2533 |\n",
       "| 2020 | Bielefeld insgesamt | maennlich | 27 | 2597 |\n",
       "| 2020 | Bielefeld insgesamt | maennlich | 28 | 2591 |\n",
       "| 2020 | Bielefeld insgesamt | maennlich | 29 | 2655 |\n",
       "| ... | ... | ... | ... | ... |\n",
       "| 2018 | Bielefeld insgesamt | weiblich | 61            | 2121 |\n",
       "| 2018 | Bielefeld insgesamt | weiblich | 62            | 2091 |\n",
       "| 2018 | Bielefeld insgesamt | weiblich | 63            | 2060 |\n",
       "| 2018 | Bielefeld insgesamt | weiblich | 64            | 2020 |\n",
       "| 2018 | Bielefeld insgesamt | weiblich | 65            | 1853 |\n",
       "| 2018 | Bielefeld insgesamt | weiblich | 66            | 1805 |\n",
       "| 2018 | Bielefeld insgesamt | weiblich | 67            | 1734 |\n",
       "| 2018 | Bielefeld insgesamt | weiblich | 68            | 1785 |\n",
       "| 2018 | Bielefeld insgesamt | weiblich | 69            | 1763 |\n",
       "| 2018 | Bielefeld insgesamt | weiblich | 70            | 1582 |\n",
       "| 2018 | Bielefeld insgesamt | weiblich | 71            | 1461 |\n",
       "| 2018 | Bielefeld insgesamt | weiblich | 72            | 1291 |\n",
       "| 2018 | Bielefeld insgesamt | weiblich | 73            | 1210 |\n",
       "| 2018 | Bielefeld insgesamt | weiblich | 74            | 1470 |\n",
       "| 2018 | Bielefeld insgesamt | weiblich | 75            | 1448 |\n",
       "| 2018 | Bielefeld insgesamt | weiblich | 76            | 1391 |\n",
       "| 2018 | Bielefeld insgesamt | weiblich | 77            | 1756 |\n",
       "| 2018 | Bielefeld insgesamt | weiblich | 78            | 1888 |\n",
       "| 2018 | Bielefeld insgesamt | weiblich | 79            | 1915 |\n",
       "| 2018 | Bielefeld insgesamt | weiblich | 80            | 1654 |\n",
       "| 2018 | Bielefeld insgesamt | weiblich | 81            | 1633 |\n",
       "| 2018 | Bielefeld insgesamt | weiblich | 82            | 1451 |\n",
       "| 2018 | Bielefeld insgesamt | weiblich | 83            | 1379 |\n",
       "| 2018 | Bielefeld insgesamt | weiblich | 84            | 1250 |\n",
       "| 2018 | Bielefeld insgesamt | weiblich | 85            |  928 |\n",
       "| 2018 | Bielefeld insgesamt | weiblich | 86            |  847 |\n",
       "| 2018 | Bielefeld insgesamt | weiblich | 87            |  827 |\n",
       "| 2018 | Bielefeld insgesamt | weiblich | 88            |  802 |\n",
       "| 2018 | Bielefeld insgesamt | weiblich | 89            |  680 |\n",
       "| 2018 | Bielefeld insgesamt | weiblich | 90_und_aelter | 2660 |\n",
       "\n"
      ],
      "text/plain": [
       "    Jahr Bielefeld           Geschlecht Altersstufe  \n",
       "1   2020 Bielefeld insgesamt maennlich  0            \n",
       "2   2020 Bielefeld insgesamt maennlich  1            \n",
       "3   2020 Bielefeld insgesamt maennlich  2            \n",
       "4   2020 Bielefeld insgesamt maennlich  3            \n",
       "5   2020 Bielefeld insgesamt maennlich  4            \n",
       "6   2020 Bielefeld insgesamt maennlich  5            \n",
       "7   2020 Bielefeld insgesamt maennlich  6            \n",
       "8   2020 Bielefeld insgesamt maennlich  7            \n",
       "9   2020 Bielefeld insgesamt maennlich  8            \n",
       "10  2020 Bielefeld insgesamt maennlich  9            \n",
       "11  2020 Bielefeld insgesamt maennlich  10           \n",
       "12  2020 Bielefeld insgesamt maennlich  11           \n",
       "13  2020 Bielefeld insgesamt maennlich  12           \n",
       "14  2020 Bielefeld insgesamt maennlich  13           \n",
       "15  2020 Bielefeld insgesamt maennlich  14           \n",
       "16  2020 Bielefeld insgesamt maennlich  15           \n",
       "17  2020 Bielefeld insgesamt maennlich  16           \n",
       "18  2020 Bielefeld insgesamt maennlich  17           \n",
       "19  2020 Bielefeld insgesamt maennlich  18           \n",
       "20  2020 Bielefeld insgesamt maennlich  19           \n",
       "21  2020 Bielefeld insgesamt maennlich  20           \n",
       "22  2020 Bielefeld insgesamt maennlich  21           \n",
       "23  2020 Bielefeld insgesamt maennlich  22           \n",
       "24  2020 Bielefeld insgesamt maennlich  23           \n",
       "25  2020 Bielefeld insgesamt maennlich  24           \n",
       "26  2020 Bielefeld insgesamt maennlich  25           \n",
       "27  2020 Bielefeld insgesamt maennlich  26           \n",
       "28  2020 Bielefeld insgesamt maennlich  27           \n",
       "29  2020 Bielefeld insgesamt maennlich  28           \n",
       "30  2020 Bielefeld insgesamt maennlich  29           \n",
       "... ...  ...                 ...        ...          \n",
       "517 2018 Bielefeld insgesamt weiblich   61           \n",
       "518 2018 Bielefeld insgesamt weiblich   62           \n",
       "519 2018 Bielefeld insgesamt weiblich   63           \n",
       "520 2018 Bielefeld insgesamt weiblich   64           \n",
       "521 2018 Bielefeld insgesamt weiblich   65           \n",
       "522 2018 Bielefeld insgesamt weiblich   66           \n",
       "523 2018 Bielefeld insgesamt weiblich   67           \n",
       "524 2018 Bielefeld insgesamt weiblich   68           \n",
       "525 2018 Bielefeld insgesamt weiblich   69           \n",
       "526 2018 Bielefeld insgesamt weiblich   70           \n",
       "527 2018 Bielefeld insgesamt weiblich   71           \n",
       "528 2018 Bielefeld insgesamt weiblich   72           \n",
       "529 2018 Bielefeld insgesamt weiblich   73           \n",
       "530 2018 Bielefeld insgesamt weiblich   74           \n",
       "531 2018 Bielefeld insgesamt weiblich   75           \n",
       "532 2018 Bielefeld insgesamt weiblich   76           \n",
       "533 2018 Bielefeld insgesamt weiblich   77           \n",
       "534 2018 Bielefeld insgesamt weiblich   78           \n",
       "535 2018 Bielefeld insgesamt weiblich   79           \n",
       "536 2018 Bielefeld insgesamt weiblich   80           \n",
       "537 2018 Bielefeld insgesamt weiblich   81           \n",
       "538 2018 Bielefeld insgesamt weiblich   82           \n",
       "539 2018 Bielefeld insgesamt weiblich   83           \n",
       "540 2018 Bielefeld insgesamt weiblich   84           \n",
       "541 2018 Bielefeld insgesamt weiblich   85           \n",
       "542 2018 Bielefeld insgesamt weiblich   86           \n",
       "543 2018 Bielefeld insgesamt weiblich   87           \n",
       "544 2018 Bielefeld insgesamt weiblich   88           \n",
       "545 2018 Bielefeld insgesamt weiblich   89           \n",
       "546 2018 Bielefeld insgesamt weiblich   90_und_aelter\n",
       "    Einwohner_innen.am.Ort.der.Hauptwohnung\n",
       "1   1661                                   \n",
       "2   1764                                   \n",
       "3   1695                                   \n",
       "4   1700                                   \n",
       "5   1647                                   \n",
       "6   1649                                   \n",
       "7   1605                                   \n",
       "8   1598                                   \n",
       "9   1542                                   \n",
       "10  1618                                   \n",
       "11  1633                                   \n",
       "12  1525                                   \n",
       "13  1649                                   \n",
       "14  1621                                   \n",
       "15  1639                                   \n",
       "16  1635                                   \n",
       "17  1713                                   \n",
       "18  1660                                   \n",
       "19  1788                                   \n",
       "20  1785                                   \n",
       "21  2069                                   \n",
       "22  2074                                   \n",
       "23  2243                                   \n",
       "24  2497                                   \n",
       "25  2497                                   \n",
       "26  2408                                   \n",
       "27  2533                                   \n",
       "28  2597                                   \n",
       "29  2591                                   \n",
       "30  2655                                   \n",
       "... ...                                    \n",
       "517 2121                                   \n",
       "518 2091                                   \n",
       "519 2060                                   \n",
       "520 2020                                   \n",
       "521 1853                                   \n",
       "522 1805                                   \n",
       "523 1734                                   \n",
       "524 1785                                   \n",
       "525 1763                                   \n",
       "526 1582                                   \n",
       "527 1461                                   \n",
       "528 1291                                   \n",
       "529 1210                                   \n",
       "530 1470                                   \n",
       "531 1448                                   \n",
       "532 1391                                   \n",
       "533 1756                                   \n",
       "534 1888                                   \n",
       "535 1915                                   \n",
       "536 1654                                   \n",
       "537 1633                                   \n",
       "538 1451                                   \n",
       "539 1379                                   \n",
       "540 1250                                   \n",
       "541  928                                   \n",
       "542  847                                   \n",
       "543  827                                   \n",
       "544  802                                   \n",
       "545  680                                   \n",
       "546 2660                                   "
      ]
     },
     "metadata": {},
     "output_type": "display_data"
    }
   ],
   "source": [
    "View(data_Bv_Bi) # zeigt den gesamten Dataframe an"
   ]
  },
  {
   "cell_type": "markdown",
   "id": "e4cf35a1",
   "metadata": {},
   "source": [
    "**Aufgabe 4**:"
   ]
  },
  {
   "cell_type": "markdown",
   "id": "90bb75bb",
   "metadata": {},
   "source": [
    "4a) Zeige die ersten 10 Elemente der 5. Spalte des **Dataframes data_Bv_Bi** an:"
   ]
  },
  {
   "cell_type": "code",
   "execution_count": null,
   "id": "e78eee3e",
   "metadata": {
    "solution2": "hidden",
    "solution2_first": true
   },
   "outputs": [],
   "source": []
  },
  {
   "cell_type": "code",
   "execution_count": 36,
   "id": "d21e23d9",
   "metadata": {
    "solution2": "hidden"
   },
   "outputs": [
    {
     "data": {
      "text/html": [
       "<style>\n",
       ".list-inline {list-style: none; margin:0; padding: 0}\n",
       ".list-inline>li {display: inline-block}\n",
       ".list-inline>li:not(:last-child)::after {content: \"\\00b7\"; padding: 0 .5ex}\n",
       "</style>\n",
       "<ol class=list-inline><li>1661</li><li>1764</li><li>1695</li><li>1700</li><li>1647</li><li>1649</li><li>1605</li><li>1598</li><li>1542</li><li>1618</li></ol>\n"
      ],
      "text/latex": [
       "\\begin{enumerate*}\n",
       "\\item 1661\n",
       "\\item 1764\n",
       "\\item 1695\n",
       "\\item 1700\n",
       "\\item 1647\n",
       "\\item 1649\n",
       "\\item 1605\n",
       "\\item 1598\n",
       "\\item 1542\n",
       "\\item 1618\n",
       "\\end{enumerate*}\n"
      ],
      "text/markdown": [
       "1. 1661\n",
       "2. 1764\n",
       "3. 1695\n",
       "4. 1700\n",
       "5. 1647\n",
       "6. 1649\n",
       "7. 1605\n",
       "8. 1598\n",
       "9. 1542\n",
       "10. 1618\n",
       "\n",
       "\n"
      ],
      "text/plain": [
       " [1] 1661 1764 1695 1700 1647 1649 1605 1598 1542 1618"
      ]
     },
     "metadata": {},
     "output_type": "display_data"
    }
   ],
   "source": [
    "data_Bv_Bi$Einwohner_innen.am.Ort.der.Hauptwohnung[1:10]"
   ]
  },
  {
   "cell_type": "markdown",
   "id": "38de085d",
   "metadata": {},
   "source": [
    "4b) Zeige die 4. Reihe des **Dataframes data_Bv_Bi** an:"
   ]
  },
  {
   "cell_type": "code",
   "execution_count": null,
   "id": "b46bab44",
   "metadata": {
    "solution2": "hidden",
    "solution2_first": true
   },
   "outputs": [],
   "source": []
  },
  {
   "cell_type": "code",
   "execution_count": 37,
   "id": "f12834fa",
   "metadata": {
    "solution2": "hidden"
   },
   "outputs": [
    {
     "data": {
      "text/html": [
       "<table class=\"dataframe\">\n",
       "<caption>A data.frame: 1 × 5</caption>\n",
       "<thead>\n",
       "\t<tr><th></th><th scope=col>Jahr</th><th scope=col>Bielefeld</th><th scope=col>Geschlecht</th><th scope=col>Altersstufe</th><th scope=col>Einwohner_innen.am.Ort.der.Hauptwohnung</th></tr>\n",
       "\t<tr><th></th><th scope=col>&lt;int&gt;</th><th scope=col>&lt;chr&gt;</th><th scope=col>&lt;chr&gt;</th><th scope=col>&lt;chr&gt;</th><th scope=col>&lt;int&gt;</th></tr>\n",
       "</thead>\n",
       "<tbody>\n",
       "\t<tr><th scope=row>4</th><td>2020</td><td>Bielefeld insgesamt</td><td>maennlich</td><td>3</td><td>1700</td></tr>\n",
       "</tbody>\n",
       "</table>\n"
      ],
      "text/latex": [
       "A data.frame: 1 × 5\n",
       "\\begin{tabular}{r|lllll}\n",
       "  & Jahr & Bielefeld & Geschlecht & Altersstufe & Einwohner\\_innen.am.Ort.der.Hauptwohnung\\\\\n",
       "  & <int> & <chr> & <chr> & <chr> & <int>\\\\\n",
       "\\hline\n",
       "\t4 & 2020 & Bielefeld insgesamt & maennlich & 3 & 1700\\\\\n",
       "\\end{tabular}\n"
      ],
      "text/markdown": [
       "\n",
       "A data.frame: 1 × 5\n",
       "\n",
       "| <!--/--> | Jahr &lt;int&gt; | Bielefeld &lt;chr&gt; | Geschlecht &lt;chr&gt; | Altersstufe &lt;chr&gt; | Einwohner_innen.am.Ort.der.Hauptwohnung &lt;int&gt; |\n",
       "|---|---|---|---|---|---|\n",
       "| 4 | 2020 | Bielefeld insgesamt | maennlich | 3 | 1700 |\n",
       "\n"
      ],
      "text/plain": [
       "  Jahr Bielefeld           Geschlecht Altersstufe\n",
       "4 2020 Bielefeld insgesamt maennlich  3          \n",
       "  Einwohner_innen.am.Ort.der.Hauptwohnung\n",
       "4 1700                                   "
      ]
     },
     "metadata": {},
     "output_type": "display_data"
    }
   ],
   "source": [
    "data_Bv_Bi[4,]"
   ]
  },
  {
   "cell_type": "markdown",
   "id": "8a7385b8",
   "metadata": {},
   "source": [
    "4c) Lösch die zweite Spalte aus dem **Dataframe data_Bv_Bi** und erstelle dabei den neuen Dataframe **data_Bv_Bi_ohne_Spalte2**:"
   ]
  },
  {
   "cell_type": "code",
   "execution_count": null,
   "id": "f01eb8d7",
   "metadata": {
    "solution2": "hidden",
    "solution2_first": true
   },
   "outputs": [],
   "source": []
  },
  {
   "cell_type": "code",
   "execution_count": 38,
   "id": "1cfdbb6e",
   "metadata": {
    "solution2": "hidden"
   },
   "outputs": [
    {
     "data": {
      "text/html": [
       "<table class=\"dataframe\">\n",
       "<caption>A data.frame: 546 × 4</caption>\n",
       "<thead>\n",
       "\t<tr><th scope=col>Jahr</th><th scope=col>Geschlecht</th><th scope=col>Altersstufe</th><th scope=col>Einwohner_innen.am.Ort.der.Hauptwohnung</th></tr>\n",
       "\t<tr><th scope=col>&lt;int&gt;</th><th scope=col>&lt;chr&gt;</th><th scope=col>&lt;chr&gt;</th><th scope=col>&lt;int&gt;</th></tr>\n",
       "</thead>\n",
       "<tbody>\n",
       "\t<tr><td>2020</td><td>maennlich</td><td>0 </td><td>1661</td></tr>\n",
       "\t<tr><td>2020</td><td>maennlich</td><td>1 </td><td>1764</td></tr>\n",
       "\t<tr><td>2020</td><td>maennlich</td><td>2 </td><td>1695</td></tr>\n",
       "\t<tr><td>2020</td><td>maennlich</td><td>3 </td><td>1700</td></tr>\n",
       "\t<tr><td>2020</td><td>maennlich</td><td>4 </td><td>1647</td></tr>\n",
       "\t<tr><td>2020</td><td>maennlich</td><td>5 </td><td>1649</td></tr>\n",
       "\t<tr><td>2020</td><td>maennlich</td><td>6 </td><td>1605</td></tr>\n",
       "\t<tr><td>2020</td><td>maennlich</td><td>7 </td><td>1598</td></tr>\n",
       "\t<tr><td>2020</td><td>maennlich</td><td>8 </td><td>1542</td></tr>\n",
       "\t<tr><td>2020</td><td>maennlich</td><td>9 </td><td>1618</td></tr>\n",
       "\t<tr><td>2020</td><td>maennlich</td><td>10</td><td>1633</td></tr>\n",
       "\t<tr><td>2020</td><td>maennlich</td><td>11</td><td>1525</td></tr>\n",
       "\t<tr><td>2020</td><td>maennlich</td><td>12</td><td>1649</td></tr>\n",
       "\t<tr><td>2020</td><td>maennlich</td><td>13</td><td>1621</td></tr>\n",
       "\t<tr><td>2020</td><td>maennlich</td><td>14</td><td>1639</td></tr>\n",
       "\t<tr><td>2020</td><td>maennlich</td><td>15</td><td>1635</td></tr>\n",
       "\t<tr><td>2020</td><td>maennlich</td><td>16</td><td>1713</td></tr>\n",
       "\t<tr><td>2020</td><td>maennlich</td><td>17</td><td>1660</td></tr>\n",
       "\t<tr><td>2020</td><td>maennlich</td><td>18</td><td>1788</td></tr>\n",
       "\t<tr><td>2020</td><td>maennlich</td><td>19</td><td>1785</td></tr>\n",
       "\t<tr><td>2020</td><td>maennlich</td><td>20</td><td>2069</td></tr>\n",
       "\t<tr><td>2020</td><td>maennlich</td><td>21</td><td>2074</td></tr>\n",
       "\t<tr><td>2020</td><td>maennlich</td><td>22</td><td>2243</td></tr>\n",
       "\t<tr><td>2020</td><td>maennlich</td><td>23</td><td>2497</td></tr>\n",
       "\t<tr><td>2020</td><td>maennlich</td><td>24</td><td>2497</td></tr>\n",
       "\t<tr><td>2020</td><td>maennlich</td><td>25</td><td>2408</td></tr>\n",
       "\t<tr><td>2020</td><td>maennlich</td><td>26</td><td>2533</td></tr>\n",
       "\t<tr><td>2020</td><td>maennlich</td><td>27</td><td>2597</td></tr>\n",
       "\t<tr><td>2020</td><td>maennlich</td><td>28</td><td>2591</td></tr>\n",
       "\t<tr><td>2020</td><td>maennlich</td><td>29</td><td>2655</td></tr>\n",
       "\t<tr><td>...</td><td>...</td><td>...</td><td>...</td></tr>\n",
       "\t<tr><td>2018</td><td>weiblich</td><td>61           </td><td>2121</td></tr>\n",
       "\t<tr><td>2018</td><td>weiblich</td><td>62           </td><td>2091</td></tr>\n",
       "\t<tr><td>2018</td><td>weiblich</td><td>63           </td><td>2060</td></tr>\n",
       "\t<tr><td>2018</td><td>weiblich</td><td>64           </td><td>2020</td></tr>\n",
       "\t<tr><td>2018</td><td>weiblich</td><td>65           </td><td>1853</td></tr>\n",
       "\t<tr><td>2018</td><td>weiblich</td><td>66           </td><td>1805</td></tr>\n",
       "\t<tr><td>2018</td><td>weiblich</td><td>67           </td><td>1734</td></tr>\n",
       "\t<tr><td>2018</td><td>weiblich</td><td>68           </td><td>1785</td></tr>\n",
       "\t<tr><td>2018</td><td>weiblich</td><td>69           </td><td>1763</td></tr>\n",
       "\t<tr><td>2018</td><td>weiblich</td><td>70           </td><td>1582</td></tr>\n",
       "\t<tr><td>2018</td><td>weiblich</td><td>71           </td><td>1461</td></tr>\n",
       "\t<tr><td>2018</td><td>weiblich</td><td>72           </td><td>1291</td></tr>\n",
       "\t<tr><td>2018</td><td>weiblich</td><td>73           </td><td>1210</td></tr>\n",
       "\t<tr><td>2018</td><td>weiblich</td><td>74           </td><td>1470</td></tr>\n",
       "\t<tr><td>2018</td><td>weiblich</td><td>75           </td><td>1448</td></tr>\n",
       "\t<tr><td>2018</td><td>weiblich</td><td>76           </td><td>1391</td></tr>\n",
       "\t<tr><td>2018</td><td>weiblich</td><td>77           </td><td>1756</td></tr>\n",
       "\t<tr><td>2018</td><td>weiblich</td><td>78           </td><td>1888</td></tr>\n",
       "\t<tr><td>2018</td><td>weiblich</td><td>79           </td><td>1915</td></tr>\n",
       "\t<tr><td>2018</td><td>weiblich</td><td>80           </td><td>1654</td></tr>\n",
       "\t<tr><td>2018</td><td>weiblich</td><td>81           </td><td>1633</td></tr>\n",
       "\t<tr><td>2018</td><td>weiblich</td><td>82           </td><td>1451</td></tr>\n",
       "\t<tr><td>2018</td><td>weiblich</td><td>83           </td><td>1379</td></tr>\n",
       "\t<tr><td>2018</td><td>weiblich</td><td>84           </td><td>1250</td></tr>\n",
       "\t<tr><td>2018</td><td>weiblich</td><td>85           </td><td> 928</td></tr>\n",
       "\t<tr><td>2018</td><td>weiblich</td><td>86           </td><td> 847</td></tr>\n",
       "\t<tr><td>2018</td><td>weiblich</td><td>87           </td><td> 827</td></tr>\n",
       "\t<tr><td>2018</td><td>weiblich</td><td>88           </td><td> 802</td></tr>\n",
       "\t<tr><td>2018</td><td>weiblich</td><td>89           </td><td> 680</td></tr>\n",
       "\t<tr><td>2018</td><td>weiblich</td><td>90_und_aelter</td><td>2660</td></tr>\n",
       "</tbody>\n",
       "</table>\n"
      ],
      "text/latex": [
       "A data.frame: 546 × 4\n",
       "\\begin{tabular}{llll}\n",
       " Jahr & Geschlecht & Altersstufe & Einwohner\\_innen.am.Ort.der.Hauptwohnung\\\\\n",
       " <int> & <chr> & <chr> & <int>\\\\\n",
       "\\hline\n",
       "\t 2020 & maennlich & 0  & 1661\\\\\n",
       "\t 2020 & maennlich & 1  & 1764\\\\\n",
       "\t 2020 & maennlich & 2  & 1695\\\\\n",
       "\t 2020 & maennlich & 3  & 1700\\\\\n",
       "\t 2020 & maennlich & 4  & 1647\\\\\n",
       "\t 2020 & maennlich & 5  & 1649\\\\\n",
       "\t 2020 & maennlich & 6  & 1605\\\\\n",
       "\t 2020 & maennlich & 7  & 1598\\\\\n",
       "\t 2020 & maennlich & 8  & 1542\\\\\n",
       "\t 2020 & maennlich & 9  & 1618\\\\\n",
       "\t 2020 & maennlich & 10 & 1633\\\\\n",
       "\t 2020 & maennlich & 11 & 1525\\\\\n",
       "\t 2020 & maennlich & 12 & 1649\\\\\n",
       "\t 2020 & maennlich & 13 & 1621\\\\\n",
       "\t 2020 & maennlich & 14 & 1639\\\\\n",
       "\t 2020 & maennlich & 15 & 1635\\\\\n",
       "\t 2020 & maennlich & 16 & 1713\\\\\n",
       "\t 2020 & maennlich & 17 & 1660\\\\\n",
       "\t 2020 & maennlich & 18 & 1788\\\\\n",
       "\t 2020 & maennlich & 19 & 1785\\\\\n",
       "\t 2020 & maennlich & 20 & 2069\\\\\n",
       "\t 2020 & maennlich & 21 & 2074\\\\\n",
       "\t 2020 & maennlich & 22 & 2243\\\\\n",
       "\t 2020 & maennlich & 23 & 2497\\\\\n",
       "\t 2020 & maennlich & 24 & 2497\\\\\n",
       "\t 2020 & maennlich & 25 & 2408\\\\\n",
       "\t 2020 & maennlich & 26 & 2533\\\\\n",
       "\t 2020 & maennlich & 27 & 2597\\\\\n",
       "\t 2020 & maennlich & 28 & 2591\\\\\n",
       "\t 2020 & maennlich & 29 & 2655\\\\\n",
       "\t ... & ... & ... & ...\\\\\n",
       "\t 2018 & weiblich & 61            & 2121\\\\\n",
       "\t 2018 & weiblich & 62            & 2091\\\\\n",
       "\t 2018 & weiblich & 63            & 2060\\\\\n",
       "\t 2018 & weiblich & 64            & 2020\\\\\n",
       "\t 2018 & weiblich & 65            & 1853\\\\\n",
       "\t 2018 & weiblich & 66            & 1805\\\\\n",
       "\t 2018 & weiblich & 67            & 1734\\\\\n",
       "\t 2018 & weiblich & 68            & 1785\\\\\n",
       "\t 2018 & weiblich & 69            & 1763\\\\\n",
       "\t 2018 & weiblich & 70            & 1582\\\\\n",
       "\t 2018 & weiblich & 71            & 1461\\\\\n",
       "\t 2018 & weiblich & 72            & 1291\\\\\n",
       "\t 2018 & weiblich & 73            & 1210\\\\\n",
       "\t 2018 & weiblich & 74            & 1470\\\\\n",
       "\t 2018 & weiblich & 75            & 1448\\\\\n",
       "\t 2018 & weiblich & 76            & 1391\\\\\n",
       "\t 2018 & weiblich & 77            & 1756\\\\\n",
       "\t 2018 & weiblich & 78            & 1888\\\\\n",
       "\t 2018 & weiblich & 79            & 1915\\\\\n",
       "\t 2018 & weiblich & 80            & 1654\\\\\n",
       "\t 2018 & weiblich & 81            & 1633\\\\\n",
       "\t 2018 & weiblich & 82            & 1451\\\\\n",
       "\t 2018 & weiblich & 83            & 1379\\\\\n",
       "\t 2018 & weiblich & 84            & 1250\\\\\n",
       "\t 2018 & weiblich & 85            &  928\\\\\n",
       "\t 2018 & weiblich & 86            &  847\\\\\n",
       "\t 2018 & weiblich & 87            &  827\\\\\n",
       "\t 2018 & weiblich & 88            &  802\\\\\n",
       "\t 2018 & weiblich & 89            &  680\\\\\n",
       "\t 2018 & weiblich & 90\\_und\\_aelter & 2660\\\\\n",
       "\\end{tabular}\n"
      ],
      "text/markdown": [
       "\n",
       "A data.frame: 546 × 4\n",
       "\n",
       "| Jahr &lt;int&gt; | Geschlecht &lt;chr&gt; | Altersstufe &lt;chr&gt; | Einwohner_innen.am.Ort.der.Hauptwohnung &lt;int&gt; |\n",
       "|---|---|---|---|\n",
       "| 2020 | maennlich | 0  | 1661 |\n",
       "| 2020 | maennlich | 1  | 1764 |\n",
       "| 2020 | maennlich | 2  | 1695 |\n",
       "| 2020 | maennlich | 3  | 1700 |\n",
       "| 2020 | maennlich | 4  | 1647 |\n",
       "| 2020 | maennlich | 5  | 1649 |\n",
       "| 2020 | maennlich | 6  | 1605 |\n",
       "| 2020 | maennlich | 7  | 1598 |\n",
       "| 2020 | maennlich | 8  | 1542 |\n",
       "| 2020 | maennlich | 9  | 1618 |\n",
       "| 2020 | maennlich | 10 | 1633 |\n",
       "| 2020 | maennlich | 11 | 1525 |\n",
       "| 2020 | maennlich | 12 | 1649 |\n",
       "| 2020 | maennlich | 13 | 1621 |\n",
       "| 2020 | maennlich | 14 | 1639 |\n",
       "| 2020 | maennlich | 15 | 1635 |\n",
       "| 2020 | maennlich | 16 | 1713 |\n",
       "| 2020 | maennlich | 17 | 1660 |\n",
       "| 2020 | maennlich | 18 | 1788 |\n",
       "| 2020 | maennlich | 19 | 1785 |\n",
       "| 2020 | maennlich | 20 | 2069 |\n",
       "| 2020 | maennlich | 21 | 2074 |\n",
       "| 2020 | maennlich | 22 | 2243 |\n",
       "| 2020 | maennlich | 23 | 2497 |\n",
       "| 2020 | maennlich | 24 | 2497 |\n",
       "| 2020 | maennlich | 25 | 2408 |\n",
       "| 2020 | maennlich | 26 | 2533 |\n",
       "| 2020 | maennlich | 27 | 2597 |\n",
       "| 2020 | maennlich | 28 | 2591 |\n",
       "| 2020 | maennlich | 29 | 2655 |\n",
       "| ... | ... | ... | ... |\n",
       "| 2018 | weiblich | 61            | 2121 |\n",
       "| 2018 | weiblich | 62            | 2091 |\n",
       "| 2018 | weiblich | 63            | 2060 |\n",
       "| 2018 | weiblich | 64            | 2020 |\n",
       "| 2018 | weiblich | 65            | 1853 |\n",
       "| 2018 | weiblich | 66            | 1805 |\n",
       "| 2018 | weiblich | 67            | 1734 |\n",
       "| 2018 | weiblich | 68            | 1785 |\n",
       "| 2018 | weiblich | 69            | 1763 |\n",
       "| 2018 | weiblich | 70            | 1582 |\n",
       "| 2018 | weiblich | 71            | 1461 |\n",
       "| 2018 | weiblich | 72            | 1291 |\n",
       "| 2018 | weiblich | 73            | 1210 |\n",
       "| 2018 | weiblich | 74            | 1470 |\n",
       "| 2018 | weiblich | 75            | 1448 |\n",
       "| 2018 | weiblich | 76            | 1391 |\n",
       "| 2018 | weiblich | 77            | 1756 |\n",
       "| 2018 | weiblich | 78            | 1888 |\n",
       "| 2018 | weiblich | 79            | 1915 |\n",
       "| 2018 | weiblich | 80            | 1654 |\n",
       "| 2018 | weiblich | 81            | 1633 |\n",
       "| 2018 | weiblich | 82            | 1451 |\n",
       "| 2018 | weiblich | 83            | 1379 |\n",
       "| 2018 | weiblich | 84            | 1250 |\n",
       "| 2018 | weiblich | 85            |  928 |\n",
       "| 2018 | weiblich | 86            |  847 |\n",
       "| 2018 | weiblich | 87            |  827 |\n",
       "| 2018 | weiblich | 88            |  802 |\n",
       "| 2018 | weiblich | 89            |  680 |\n",
       "| 2018 | weiblich | 90_und_aelter | 2660 |\n",
       "\n"
      ],
      "text/plain": [
       "    Jahr Geschlecht Altersstufe   Einwohner_innen.am.Ort.der.Hauptwohnung\n",
       "1   2020 maennlich  0             1661                                   \n",
       "2   2020 maennlich  1             1764                                   \n",
       "3   2020 maennlich  2             1695                                   \n",
       "4   2020 maennlich  3             1700                                   \n",
       "5   2020 maennlich  4             1647                                   \n",
       "6   2020 maennlich  5             1649                                   \n",
       "7   2020 maennlich  6             1605                                   \n",
       "8   2020 maennlich  7             1598                                   \n",
       "9   2020 maennlich  8             1542                                   \n",
       "10  2020 maennlich  9             1618                                   \n",
       "11  2020 maennlich  10            1633                                   \n",
       "12  2020 maennlich  11            1525                                   \n",
       "13  2020 maennlich  12            1649                                   \n",
       "14  2020 maennlich  13            1621                                   \n",
       "15  2020 maennlich  14            1639                                   \n",
       "16  2020 maennlich  15            1635                                   \n",
       "17  2020 maennlich  16            1713                                   \n",
       "18  2020 maennlich  17            1660                                   \n",
       "19  2020 maennlich  18            1788                                   \n",
       "20  2020 maennlich  19            1785                                   \n",
       "21  2020 maennlich  20            2069                                   \n",
       "22  2020 maennlich  21            2074                                   \n",
       "23  2020 maennlich  22            2243                                   \n",
       "24  2020 maennlich  23            2497                                   \n",
       "25  2020 maennlich  24            2497                                   \n",
       "26  2020 maennlich  25            2408                                   \n",
       "27  2020 maennlich  26            2533                                   \n",
       "28  2020 maennlich  27            2597                                   \n",
       "29  2020 maennlich  28            2591                                   \n",
       "30  2020 maennlich  29            2655                                   \n",
       "... ...  ...        ...           ...                                    \n",
       "517 2018 weiblich   61            2121                                   \n",
       "518 2018 weiblich   62            2091                                   \n",
       "519 2018 weiblich   63            2060                                   \n",
       "520 2018 weiblich   64            2020                                   \n",
       "521 2018 weiblich   65            1853                                   \n",
       "522 2018 weiblich   66            1805                                   \n",
       "523 2018 weiblich   67            1734                                   \n",
       "524 2018 weiblich   68            1785                                   \n",
       "525 2018 weiblich   69            1763                                   \n",
       "526 2018 weiblich   70            1582                                   \n",
       "527 2018 weiblich   71            1461                                   \n",
       "528 2018 weiblich   72            1291                                   \n",
       "529 2018 weiblich   73            1210                                   \n",
       "530 2018 weiblich   74            1470                                   \n",
       "531 2018 weiblich   75            1448                                   \n",
       "532 2018 weiblich   76            1391                                   \n",
       "533 2018 weiblich   77            1756                                   \n",
       "534 2018 weiblich   78            1888                                   \n",
       "535 2018 weiblich   79            1915                                   \n",
       "536 2018 weiblich   80            1654                                   \n",
       "537 2018 weiblich   81            1633                                   \n",
       "538 2018 weiblich   82            1451                                   \n",
       "539 2018 weiblich   83            1379                                   \n",
       "540 2018 weiblich   84            1250                                   \n",
       "541 2018 weiblich   85             928                                   \n",
       "542 2018 weiblich   86             847                                   \n",
       "543 2018 weiblich   87             827                                   \n",
       "544 2018 weiblich   88             802                                   \n",
       "545 2018 weiblich   89             680                                   \n",
       "546 2018 weiblich   90_und_aelter 2660                                   "
      ]
     },
     "metadata": {},
     "output_type": "display_data"
    }
   ],
   "source": [
    "data_Bv_Bi_ohne_Spalte2 <- data_Bv_Bi[,-2]\n",
    "\n",
    "View(data_Bv_Bi_ohne_Spalte2)"
   ]
  },
  {
   "cell_type": "markdown",
   "id": "2e892426",
   "metadata": {},
   "source": [
    "**Quellen und weiterführende Literatur:**"
   ]
  },
  {
   "cell_type": "markdown",
   "id": "f5c92ece",
   "metadata": {},
   "source": [
    "**R**:\n",
    "* https://resbaz.github.io/2014-r-materials/lessons/01-intro_r/data-structures.html\n",
    "* https://databraineo.com/ki-training-resources/r-programmierung/datentypen-in-r-einfach-erklaert/\n",
    "* https://www.tutorialspoint.com/r/r_data_types.html\n",
    "* http://de.jberries.com/artikel/%C3%BCbersicht-%C3%BCber-datentypen-in-r-51\n",
    "\n",
    "\n",
    "**Stadt Bielefeld**:\n",
    "* https://de.wikipedia.org/wiki/Einwohnerentwicklung_von_Bielefeld\n",
    "* https://open-data.bielefeld.de/dataset/alters-und-geschlechtsstruktur-2018-2020"
   ]
  }
 ],
 "metadata": {
  "hide_input": false,
  "kernelspec": {
   "display_name": "R",
   "language": "R",
   "name": "ir"
  },
  "language_info": {
   "codemirror_mode": "r",
   "file_extension": ".r",
   "mimetype": "text/x-r-source",
   "name": "R",
   "pygments_lexer": "r",
   "version": "4.1.0"
  },
  "toc": {
   "base_numbering": 1,
   "nav_menu": {},
   "number_sections": true,
   "sideBar": true,
   "skip_h1_title": false,
   "title_cell": "Table of Contents",
   "title_sidebar": "Contents",
   "toc_cell": false,
   "toc_position": {
    "height": "calc(100% - 180px)",
    "left": "10px",
    "top": "150px",
    "width": "165px"
   },
   "toc_section_display": true,
   "toc_window_display": false
  }
 },
 "nbformat": 4,
 "nbformat_minor": 5
}
