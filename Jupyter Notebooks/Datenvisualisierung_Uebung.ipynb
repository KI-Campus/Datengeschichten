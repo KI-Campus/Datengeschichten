{
 "cells": [
  {
   "cell_type": "markdown",
   "id": "3b273080",
   "metadata": {},
   "source": [
    "# Lollipopplots - Übung \n",
    "\n",
    "Schön, dass du wieder dabei bist! In diesem Notebook werden wir Daten zur *Altersstruktur in Bielefeld*, die wir schon in dem Notebook zu *Barplots (Vertiefung)* ausführlich analysiert haben, als *Lollipopplot* darstellen. Zunächst lesen wir die Daten also, wie im vorherigen Notebook, ein und bereiten sie erstmal genauso auf, allerdings müssen wir am Ende ein paar Punkte verändern da wir die *Lollipopplots* mit `ggplot` erzeugen. "
   ]
  },
  {
   "cell_type": "code",
   "execution_count": null,
   "id": "cf575f45",
   "metadata": {
    "scrolled": false
   },
   "outputs": [],
   "source": [
    "# benoetigte Pakete laden\n",
    "library(\"tidyverse\")\n",
    "library(\"car\")\n",
    "        \n",
    "        \n",
    "# CSV-Datei einlesen\n",
    "data_csv <- read.csv2(\"Alters_und_Geschlechtsstruktur2018bis2020ges_0_Stadt_Bi_CC_BY_4.0.csv\", na=\"NA\", header = TRUE,stringsAsFactors = FALSE, encoding = \"latin1\")\n",
    "data_csv\n",
    "        \n",
    "\n",
    "# Datenaufbereitung\n",
    "# Spalte \"Bielefeld insgesamt\" aus der Auswahl entfernen innerhalb eines neuen Objekts\n",
    "data_csv_BI <- select(data_csv, -Bielefeld)\n",
    "data_csv_BI\n",
    "\n",
    "# Variablen hinsichtlich ihrer Klassen untersuchen\n",
    "sapply(data_csv_BI, class)\n",
    "\n",
    "# Datenaufbereitung\n",
    "# Geschlecht als Factor klassifizieren\n",
    "class(data_csv_BI$Geschlecht)\n",
    "Geschlecht_factor <- as.factor(data_csv_BI$Geschlecht)\n",
    "Geschlecht_factor\n",
    "\n",
    "\n",
    "# Altersstufe als Numeric klassifizieren\n",
    "class (data_csv_BI$Altersstufe)\n",
    "Altersstufe_num <- as.numeric(data_csv_BI$Altersstufe)\n",
    "Altersstufe_num\n",
    "\n",
    "\n",
    "# Jahr umbenennen\n",
    "class(data_csv_BI$Jahr)\n",
    "Jahr_date <- data_csv_BI$Jahr \n",
    "Jahr_date\n",
    "\n",
    "\n",
    "# Einwohner_innen umbenennen\n",
    "class(data_csv_BI$Einwohner_innen.am.Ort.der.Hauptwohnung)\n",
    "Einwohner_innen_num <- data_csv_BI$Einwohner_innen.am.Ort.der.Hauptwohnung\n",
    "Einwohner_innen_num\n",
    "\n",
    "\n",
    "\n",
    "# 90 und aelter wird als NA angezeigt, dies wir korrigiert in dem NA durch 90 ersetzt wird - bei spaeterer Beschriftung beachten\n",
    "Altersstufe_num_kor <- replace_na(Altersstufe_num, replace = 90)\n",
    "Altersstufe_num_kor\n",
    "\n",
    "\n",
    "\n",
    "# aufbereiteten Datensatz erstellen\n",
    "BI_Aufbereitet <- data.frame(Jahr_date, Geschlecht_factor, Altersstufe_num_kor, Einwohner_innen_num)\n",
    "str(BI_Aufbereitet)"
   ]
  },
  {
   "cell_type": "markdown",
   "id": "8327732d",
   "metadata": {},
   "source": [
    "Hier weichen wir von der Aufbereitung im vorherigen Notebook ab, wir wollen uns die (weiblichen) Einwohnerinnen von Bielefeld 2018 anzeigen lassen. Hierfür reicht es, wenn wir aus *Bi_Aufbereitet* das entsprechende Subset erstellen."
   ]
  },
  {
   "cell_type": "code",
   "execution_count": null,
   "id": "d8ed36b9",
   "metadata": {},
   "outputs": [],
   "source": [
    "# weibliche Einwohnerinnen 2018 als Subset Data.frame\n",
    "data_2018_weib <- subset(BI_Aufbereitet, BI_Aufbereitet$Jahr_date == 2018 & BI_Aufbereitet$Geschlecht_factor == \"weiblich\")\n",
    "\n",
    "data_2018_weib"
   ]
  },
  {
   "cell_type": "markdown",
   "id": "7143e1f2",
   "metadata": {},
   "source": [
    "# Vertikaler Lollipopplot\n",
    "Nun erstellen wir zunächst einen vertikalen Lollipopplot."
   ]
  },
  {
   "cell_type": "code",
   "execution_count": null,
   "id": "7a15675d",
   "metadata": {},
   "outputs": [],
   "source": [
    "# einfacher Lollipopplot\n",
    "library(ggplot2)\n",
    "\n",
    "data <- data.frame(    # definieren des für ggplot2 erforderlichen Dataframes\n",
    "    x= data_2018_weib$Altersstufe_num_kor, \n",
    "    y= data_2018_weib$Einwohner_innen_num\n",
    "    )\n",
    "\n",
    "# Aussehen von Achsentitel und Beschriftungen definieren\n",
    "mein_Thema = theme(    \n",
    "  axis.title.x = element_text(size = 14, face = \"bold\"),\n",
    "  axis.text.x = element_text(size = 12),\n",
    "  axis.title.y = element_text(size = 14, face = \"bold\"),\n",
    "  axis.text.y = element_text(size = 12))\n",
    "\n",
    "\n",
    "ggplot(data, aes(x = x, y = y)) +\n",
    "  geom_point(color = \"darkred\") +  # fügt den Punkt hinzu\n",
    "  geom_segment(aes(x = x, xend = x, y = 0, yend = y)) + # zeichnet die Linie\n",
    "  mein_Thema +\n",
    "  labs(title = \"Einwohnerinnen in Bielefeld 2018\", x = \"Altersstufen\", y = \"Einwohnerinnen\")  \n"
   ]
  },
  {
   "cell_type": "markdown",
   "id": "5c0984b6",
   "metadata": {},
   "source": [
    "# Horizontaler Lollipopplot\n",
    "\n",
    "Um aus dem vertikalen Lollipopplot einen horizontalen zu machen, müssen wir nur *coord_flip()* in die obere Grafik einfügen. "
   ]
  },
  {
   "cell_type": "code",
   "execution_count": null,
   "id": "204f2d71",
   "metadata": {},
   "outputs": [],
   "source": [
    "# einfacher Lollipopplot\n",
    "\n",
    "data <- data.frame(    # definieren des für ggplot2 erforderliche Dataframes\n",
    "    x= data_2018_weib$Altersstufe_num_kor, \n",
    "    y= data_2018_weib$Einwohner_innen_num\n",
    "    )\n",
    "\n",
    "# Aussehen von Achsentitel und Beschriftungen definieren\n",
    "mein_Thema = theme(    \n",
    "  axis.title.x = element_text(size = 14, face= \"bold\"),\n",
    "  axis.text.x = element_text(size = 12),\n",
    "  axis.title.y = element_text(size = 14, face= \"bold\"),\n",
    "  axis.text.y = element_text(size = 12))\n",
    "\n",
    "\n",
    "ggplot(data, aes(x = x, y = y)) +\n",
    "  geom_point(color = \"darkred\") +  # fügt den Punkt hinzu\n",
    "  geom_segment(aes(x = x, xend = x, y = 0, yend = y)) + # zeichnet die Linie\n",
    "  coord_flip() +\n",
    "  mein_Thema +\n",
    "  labs(title = \"Einwohnerinnen in Bielefeld 2018\", x = \"Altersstufen\", y = \"Einwohnerinnen\")  \n"
   ]
  },
  {
   "cell_type": "markdown",
   "id": "70a357ee",
   "metadata": {},
   "source": [
    "# Aufgabe 1\n",
    "Erstelle einen horizontalen Barplot für die (männlichen Einwohner:innen in Bielefeld 2018)"
   ]
  },
  {
   "cell_type": "code",
   "execution_count": null,
   "id": "91818a54",
   "metadata": {
    "solution2": "hidden",
    "solution2_first": true
   },
   "outputs": [],
   "source": [
    "# Platz für deine Loesung"
   ]
  },
  {
   "cell_type": "code",
   "execution_count": null,
   "id": "c9c85390",
   "metadata": {
    "solution2": "hidden"
   },
   "outputs": [],
   "source": [
    "# Maennliche Einwohner2018 als Subset Data.frame\n",
    "data_2018_maenn <- subset(BI_Aufbereitet, BI_Aufbereitet$Jahr_date == 2018 & BI_Aufbereitet$Geschlecht_factor == \"maennlich\")\n",
    "\n",
    "\n",
    "# einfacher Lollipopplot\n",
    "\n",
    "\n",
    "data <- data.frame(    # definieren des für ggplot2 erforderliche Dataframes\n",
    "    x= data_2018_maenn$Altersstufe_num_kor, \n",
    "    y= data_2018_maenn$Einwohner_innen_num\n",
    "    )\n",
    "\n",
    "# Aussehen von Achsentitel und Beschriftungen definieren\n",
    "mein_Thema = theme(    \n",
    "  axis.title.x = element_text(size = 14, face = \"bold\"),\n",
    "  axis.text.x = element_text(size = 12),\n",
    "  axis.title.y = element_text(size = 14, face = \"bold\"),\n",
    "  axis.text.y = element_text(size = 12))\n",
    "\n",
    "\n",
    "ggplot(data, aes(x = x, y = y)) +\n",
    "  geom_point(color = \"darkblue\") +  # fügt den Punkt hinzu\n",
    "  geom_segment(aes(x = x, xend = x, y = 0, yend = y)) + # zeichnet die Linie\n",
    "  coord_flip() +\n",
    "  mein_Thema +\n",
    "  labs(title = \"Einwohner in Bielefeld 2018\", x = \"Alterstufen\", y = \"Einwohner\")  \n"
   ]
  },
  {
   "cell_type": "markdown",
   "id": "e6f33403",
   "metadata": {},
   "source": [
    "# Aufgabe 2\n",
    "Wiederhole die Erstellung der Lollipopplots für beide Geschlechter für die Jahre 2019 und 2020."
   ]
  },
  {
   "cell_type": "code",
   "execution_count": null,
   "id": "484b76d8",
   "metadata": {
    "solution2": "hidden",
    "solution2_first": true
   },
   "outputs": [],
   "source": [
    "# Platz für deine Loesung"
   ]
  },
  {
   "cell_type": "code",
   "execution_count": null,
   "id": "fbe1b98d",
   "metadata": {
    "solution2": "hidden"
   },
   "outputs": [],
   "source": [
    "# Loesungsvorschlag: Exemplarisch für Einwohner 2019 alle anderen Diagramme analog\n",
    "\n",
    "# maennliche Einwohner2018 als Subset Data.frame\n",
    "data_2019_maenn <- subset(BI_Aufbereitet, BI_Aufbereitet$Jahr_date == 2019 & BI_Aufbereitet$Geschlecht_factor == \"maennlich\")\n",
    "\n",
    "# einfacher Lollipopplot\n",
    "\n",
    "data <- data.frame(    #definieren des für ggplot2 erforderliche Dataframes\n",
    "    x= data_2019_maenn$Altersstufe_num_kor, \n",
    "    y= data_2019_maenn$Einwohner_innen_num\n",
    "    )\n",
    "\n",
    "# Aussehen von Achsentitel und Beschriftungen definieren\n",
    "mein_Thema = theme(    \n",
    "  axis.title.x = element_text(size = 14, face = \"bold\"),\n",
    "  axis.text.x = element_text(size = 12),\n",
    "  axis.title.y = element_text(size = 14, face = \"bold\"),\n",
    "  axis.text.y = element_text(size = 12))\n",
    "\n",
    "\n",
    "ggplot(data, aes(x = x, y = y)) +\n",
    "  geom_point(color = \"darkblue\") +  # fügt den Punkt hinzu\n",
    "  geom_segment(aes(x = x, xend = x, y = 0, yend = y)) + # zeichnet die Linie\n",
    "  coord_flip() +\n",
    "  mein_Thema +\n",
    "  labs(title = \"Einwohner in Bielefeld 2019\", x = \"Alterstufen\", y = \"Einwohner\")  \n"
   ]
  },
  {
   "cell_type": "markdown",
   "id": "0555a3b1",
   "metadata": {},
   "source": [
    "Zum Abschluss kannst du einmal überlegen, ob du Balkendiagramme, Lollipop-Charts oder Bevölkerungspyramiden geeigneter findest, um die Bielefelder Daten zu visualisieren."
   ]
  },
  {
   "cell_type": "markdown",
   "id": "d4a671ef",
   "metadata": {
    "deletable": false,
    "editable": false
   },
   "source": [
    "# Literatur und Datensätze\n",
    "\n",
    "**R**\n",
    "* https://www.data-to-viz.com\n",
    " * https://www.data-to-viz.com/#lollipop\n",
    " \n",
    "* https://www.r-graph-gallery.com/\n",
    " * https://r-graph-gallery.com/lollipop-plot\n",
    " * https://r-graph-gallery.com/300-basic-lollipop-plot.html\n",
    " * https://r-graph-gallery.com/301-custom-lollipop-chart.html\n",
    "\n",
    "**Datensätze**\n",
    "* [Stadtbezirke nach Alters- und Geschlechtsstruktur Ende 2011 bis Mitte 2022](https://open-data.bielefeld.de/dataset/alters-und-geschlechtsstruktur)),Stadt Bielefeld, Presseamt/Statistikstelle,[CC-BY-4.0](https://creativecommons.org/licenses/by/4.0/)\n",
    "* Der verwendete Datensatz wurde vor der Ergänzung des Datensatzes um die Daten der Jahre 2021 und 2022 am 01.02.2022 abgerufen und enthält somit nur Werte von 2018 bis 2020."
   ]
  }
 ],
 "metadata": {
  "hide_input": false,
  "kernelspec": {
   "display_name": "R",
   "language": "R",
   "name": "ir-datengeschichten"
  },
  "language_info": {
   "codemirror_mode": "r",
   "file_extension": ".r",
   "mimetype": "text/x-r-source",
   "name": "R",
   "pygments_lexer": "r",
   "version": "3.6.1"
  },
  "toc": {
   "base_numbering": 1,
   "nav_menu": {},
   "number_sections": true,
   "sideBar": true,
   "skip_h1_title": false,
   "title_cell": "Table of Contents",
   "title_sidebar": "Contents",
   "toc_cell": false,
   "toc_position": {
    "height": "calc(100% - 180px)",
    "left": "10px",
    "top": "150px",
    "width": "165px"
   },
   "toc_section_display": true,
   "toc_window_display": true
  }
 },
 "nbformat": 4,
 "nbformat_minor": 5
}
