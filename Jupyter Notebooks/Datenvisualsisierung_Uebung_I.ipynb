{
 "cells": [
  {
   "cell_type": "markdown",
   "metadata": {},
   "source": [
    "# Datenvisualisierung Übung - Barplots\n",
    "\n",
    "<img width=\"340\" align = \"right\" hspace=\"40\" src=\"Minden_in_MI.svg.png\"/> \n",
    "\n",
    "<div style=\"text-align: left\" style=“line-height: 150%“>\n",
    "<p></p>  \n",
    "<p>\n",
    "\n",
    "Nachdem wir im letzten *JupyterNotebook* zusammen verschiedene Bevölkerungspyramiden für die *Stadt Bielefeld* erstellt haben, bei denen wir uns insbesondere die Bevölkerungsstruktur der älteren Bielefelder:innen angeschaut haben, wollen wir jetzt mit einem Datensatz der Stadt Minden betrachten, wie die Zusammensetzung der jüngeren Bevölkerung in Minden aussieht.\n",
    "\n",
    "Hierzu haben wir einen Datensatz mit dem Namen: \"Daten_Alter_Mi_2020\". Diesen gilt es nun mit den Kenntnissen, die wir in dem ersten Notebook erworben haben aufzubereiten und als Bevölkerungspyramide zu visualisieren.</p>"
   ]
  },
  {
   "cell_type": "markdown",
   "metadata": {},
   "source": [
    " <div class=\"pull-right\">  \n",
    "<p style=\"font-size:6px;\"> Von Hagar66 - Based upon template:<br>, \n",
    "   <a href=\"https://creativecommons.org/licenses/by-sa/3.0/\"> CC BY-SA 3.0</a> \n",
    "    <a href=\"https://upload.wikimedia.org/wikipedia/commons/0/09/Petershagen_in_MI.svg\"> Wikimedia</a> \n",
    "    </p>\n",
    "</div>"
   ]
  },
  {
   "cell_type": "markdown",
   "metadata": {},
   "source": [
    "**Aufgabe 1**: Als erstes musst Du die benötigten Pakete laden."
   ]
  },
  {
   "cell_type": "code",
   "execution_count": null,
   "metadata": {
    "solution2": "hidden",
    "solution2_first": true
   },
   "outputs": [],
   "source": [
    "#Platz für Deine Lösung"
   ]
  },
  {
   "cell_type": "code",
   "execution_count": null,
   "metadata": {
    "solution2": "hidden"
   },
   "outputs": [],
   "source": [
    "#benoetigte Pakete laden\n",
    "library(\"tidyverse\")\n",
    "library(\"car\")\n"
   ]
  },
  {
   "cell_type": "markdown",
   "metadata": {},
   "source": [
    "**Aufgabe 2**: Lies nun den oben genannten CSV-Datensatz ein."
   ]
  },
  {
   "cell_type": "code",
   "execution_count": null,
   "metadata": {
    "solution2": "hidden",
    "solution2_first": true
   },
   "outputs": [],
   "source": [
    "#Platz für Deine Lösung"
   ]
  },
  {
   "cell_type": "markdown",
   "metadata": {
    "solution2": "hidden"
   },
   "source": [
    "_Lösung:_\n",
    "Wir haben eine via Semikolon getrennte CSV-Datei vorliegen, die eine Kopfzeile besitzt. Daher ist *read.csv2()* die richtige Wahl. Auch *header = TRUE* nutzen wir hier."
   ]
  },
  {
   "cell_type": "code",
   "execution_count": null,
   "id": "64274df3",
   "metadata": {
    "solution2": "hidden"
   },
   "outputs": [],
   "source": [
    "#Loesungsvorschlag\n",
    "#csv Daten einlesen\n",
    "data_csv_MI <- read.csv2(\"Daten_Alter_Mi_2020.csv\", na=\"NA\", header = TRUE)\n",
    "data_csv_MI\n"
   ]
  },
  {
   "cell_type": "markdown",
   "metadata": {},
   "source": [
    "# Exkurs: Wie können Zeilen aus einem Datensatz entfernt werden?\n",
    "Hierzu betrachten wir einen Beispiel-Datensatz der lediglich einige Zahlen enthält und geben diesen über die R-Console aus. Für ein fiktives Beispiel wollen wir die Zeile, welche die Zahl 9 beinhaltet, entfernen. "
   ]
  },
  {
   "cell_type": "code",
   "execution_count": null,
   "metadata": {},
   "outputs": [],
   "source": [
    "#Exkurs Datensatz\n",
    "data.test <- data.frame(c(2, 5,9, 3, 4, 2 ,5, 1))\n",
    "data.test\n"
   ]
  },
  {
   "cell_type": "markdown",
   "metadata": {},
   "source": [
    "Um die **Zahl 9** zu entfernen erstellen wir ein Objekt und weisen diesem die Zeilennummer zu die zur Zahl 9 gehört. Bei Test-Datensatz ist das die Zeile 3, wie wir in der Ausgabe der R Console sehen können. Diese Zeile entfernen wir jetzt aus unserem Testdatensatz und erstellen ein Objekt ohne sie."
   ]
  },
  {
   "cell_type": "code",
   "execution_count": null,
   "metadata": {},
   "outputs": [],
   "source": [
    "#Entfernen der Zeile 3\n",
    "keine.neun <- c(3)\n",
    "data.neu <-data.test[-keine.neun,]\n",
    "data.neu"
   ]
  },
  {
   "cell_type": "markdown",
   "metadata": {},
   "source": [
    "# Zurück zu den Mindener Daten\n",
    "# Aufbereitung\n",
    "\n",
    "**Aufgabe 3:** Betrachtetet in der R Console den Datensatz der Stadt Minden, gibt es Zeilen die für unsere Visualisierung nicht benötigt werden? Falls Du welche findest kannst Du sie, wie im Exkurs gezeigt entfernen und einen neuen Datensatz ohne sie erstellen."
   ]
  },
  {
   "cell_type": "code",
   "execution_count": null,
   "metadata": {
    "solution2": "hidden",
    "solution2_first": true
   },
   "outputs": [],
   "source": [
    "#Platz für Deine Lösung"
   ]
  },
  {
   "cell_type": "markdown",
   "metadata": {
    "solution2": "hidden"
   },
   "source": [
    "*Lösung*: Für unsere Visualisierung entfernen wir die Zeilen 106 und 107. Die Zeile 107 könnte ein Eingabefehler sein, da diese Zeile lediglich den Alterswert 105 enthält und nach dem Insgesamt Wert für die Stadt Minden folgt. Der Insgesamtwert in Zeile 105 ist für unsere Visualisierung an dieser Stelle auch kein Wert den wir benötigen, da er nicht zur Struktur der anderen Daten passt. Hiermit ist gemeint, dass in der Spalte für das Alter, kein Alter als Ausprägung steht, sondern \"Stadt Minden\". Die aufaddierten Insgesamtwerte in der Zeile 106 können wir auch mit R berechnen."
   ]
  },
  {
   "cell_type": "code",
   "execution_count": null,
   "metadata": {
    "solution2": "hidden"
   },
   "outputs": [],
   "source": [
    "#Lösungsvorschlag\n",
    "data_csv_MI #Datensatz anzeigen lassen\n",
    "\n",
    "#Entfernen der Zeilen 106 und 107\n",
    "entfernen <- c(106, 107)\n",
    "\n",
    "data_MI <- data_csv_MI[-entfernen,]\n",
    "data_MI\n"
   ]
  },
  {
   "cell_type": "code",
   "execution_count": null,
   "metadata": {
    "scrolled": true,
    "solution2": "hidden"
   },
   "outputs": [],
   "source": [
    "# Alternativelösung_ Letzte bei Zeilen des Datensatzes mit head() entfernen\n",
    "data_MI2 <-head(data_csv_MI, -2)\n",
    "data_MI2"
   ]
  },
  {
   "cell_type": "code",
   "execution_count": null,
   "metadata": {
    "solution2": "hidden",
    "solution2_first": true
   },
   "outputs": [],
   "source": [
    "#Lösungsvorschlag\n",
    "data_csv_MI #Datensatz anzeigen\n",
    "\n",
    "#Entfernen der Zeilen 106 und 107\n",
    "entfernen <- c(106, 107)\n",
    "\n",
    "data_MI <- data_csv_MI[-entfernen,]\n",
    "data_MI\n",
    "\n"
   ]
  },
  {
   "cell_type": "code",
   "execution_count": null,
   "metadata": {
    "solution2": "hidden"
   },
   "outputs": [],
   "source": [
    "#Lösungsvorschlag Teil II\n",
    "#Eine andere Möglichkeit wäre die letzten beiden Zeilen des Datensatzes mit head() zu entfernen\n",
    "data_MI2 <-head(data_csv_MI,-2)\n",
    "data_MI2\n"
   ]
  },
  {
   "cell_type": "markdown",
   "metadata": {},
   "source": [
    "# Aufbereitung\n",
    "\n",
    "**Aufgabe 4**: Jetzt ist es sinnvoll, dass wir uns die Variablen anschauen und ggfs. Änderungen vornehmen. Wie lässt sich das mit Hilfe von R lösen?"
   ]
  },
  {
   "cell_type": "code",
   "execution_count": null,
   "metadata": {
    "solution2": "hidden",
    "solution2_first": true
   },
   "outputs": [],
   "source": [
    "# Platz für Deine Lösung."
   ]
  },
  {
   "cell_type": "markdown",
   "metadata": {
    "solution2": "hidden"
   },
   "source": [
    "_Lösung:_\n",
    "Wir betrachten zunächst die Klassifizierung der einzlenen Variablen und klassifizieren diese anschließend Schritt für Schritt in die für unsere Visualisierung benötigte Form bzw. benennen sie um. Anschließend erstellen wir einen neuen Datensatz, der unsere so aufbereiteten Variablen enthält. \n",
    "Die Variable *Geburtsjahr* benötigen wir für die weitere Visualisierung nicht, deswegen verzichten wir darauf sie mit in den neuen Datensatz zu schreiben.\n"
   ]
  },
  {
   "cell_type": "code",
   "execution_count": null,
   "metadata": {
    "solution2": "hidden"
   },
   "outputs": [],
   "source": [
    "sapply(data_MI, class)\n",
    "\n",
    "\n",
    "#Alter als numeric klassifizieren\n",
    "class(data_MI$Alter)\n",
    "alter_num <-as.numeric(data_MI$Alter)\n",
    "alter_num\n",
    "\n",
    "\n",
    "#Geburtsjahr umbenennen\n",
    "class(data_MI$Geburtsjahr)\n",
    "Geburtsjahr_num <- data_MI$Geburtsjahr\n",
    "Geburtsjahr_num\n",
    "\n",
    "\n",
    "#maennlich umbenennen\n",
    "class(data_MI$männlich)\n",
    "maennlich_num <- data_MI$männlich\n",
    "maennlich_num\n",
    "\n",
    "\n",
    "#weiblich umbenennen\n",
    "class(data_MI$weiblich)\n",
    "weiblich_num <- data_MI$weiblich\n",
    "weiblich_num\n",
    "\n",
    "#Gesamt als umbenennen\n",
    "class(data_MI$Gesamt)\n",
    "gesamt_num <- data_MI$Gesamt\n",
    "gesamt_num\n",
    "\n",
    "\n",
    "MI_Aufbereitet <- data.frame(alter_num, maennlich_num, weiblich_num,  gesamt_num)\n",
    "MI_Aufbereitet"
   ]
  },
  {
   "cell_type": "markdown",
   "metadata": {},
   "source": [
    "# Aufbereitung\n",
    "**Aufgabe 5**: Wir müssen jetzt überlegen, ob die Daten in der Form vorliegen mit der wir unsere Bevölkerungspyramide erstellen können oder ob weitere Aufbereitungsschritte notwendig sind. Welche Aufbereitung ist an dieser Stelle ggfs. noch notwendig?"
   ]
  },
  {
   "cell_type": "code",
   "execution_count": null,
   "metadata": {
    "solution2": "hidden",
    "solution2_first": true
   },
   "outputs": [],
   "source": [
    "# Platz für Deine Lösung"
   ]
  },
  {
   "cell_type": "markdown",
   "metadata": {
    "solution2": "hidden"
   },
   "source": [
    "*Lösung*: Wie bei dem Datensatz mit dem wir die Bevölkerungspyramiden für die Stadt Bielefeld erstellt haben, ist es notwendig die Aggregation der Daten aufzulösen. Wir multiplizieren hierfür die Häufigkeit der Mindener:innen, die in unserer Variable \"gesamt_num\" enthalten ist, jeweils mit unsereren beiden aufbereiteteten Geschlechter-Variablen sowie der Alters-Variablen . Das sind somit 3 weitere Vektoren die wir erstellen müssen. *rep()* gibt hierbei anhand der Häufigkeit der Mindener:innen das jeweilige Element(Alter/Geschlecht: männlich/weiblich) in entsprechender Anzahl zurück. Die so entstandenen Objekte werden zum Schluss in einen neuen Datensatz geschrieben."
   ]
  },
  {
   "cell_type": "code",
   "execution_count": null,
   "metadata": {
    "solution2": "hidden"
   },
   "outputs": [],
   "source": [
    "#Aggregation auflösen\n",
    "MI_Freq_Alter <- rep(MI_Aufbereitet$alter_num,MI_Aufbereitet$gesamt_num) \n",
    "summary(MI_Freq_Alter)\n",
    "table(MI_Freq_Alter)\n",
    "\n",
    "MI_Freq_maennlich <- rep(MI_Aufbereitet$maennlich_num, MI_Aufbereitet$gesamt_num) \n",
    "summary(MI_Freq_maennlich)\n",
    "table(MI_Freq_maennlich)\n",
    "\n",
    "\n",
    "MI_Freq_weiblich <- rep(MI_Aufbereitet$weiblich_num, MI_Aufbereitet$gesamt_num) \n",
    "summary(MI_Freq_weiblich)\n",
    "table(MI_Freq_weiblich)\n",
    "\n",
    "data_2020 <- data.frame(MI_Freq_Alter, MI_Freq_maennlich, MI_Freq_weiblich)"
   ]
  },
  {
   "cell_type": "markdown",
   "metadata": {},
   "source": [
    "# Bevölkerungspyramide\n",
    "**Aufgabe 6**: Jetzt können wir die Bevölkerungspyramide der Stadt Minden für das Jahr 2020 erstellen. Da wir die Daten für lediglich ein Jahr (2020) vorliegen haben und die beiden Geschlechtergruppen als einzelne Variablen bzw. Vektoren vorliegen können wir darauf verzichten Subsets anzulegen und direkt mit der Visualisierung starten. Hier können wir auf das Baukastenprinzip zurückgreifen mit dem es möglich ist Visualisierungen anzupassen und auszugestalten. \n",
    "Wie sieht unsere Bevölkerungspyramide aus?"
   ]
  },
  {
   "cell_type": "code",
   "execution_count": null,
   "metadata": {
    "solution2": "hidden",
    "solution2_first": true
   },
   "outputs": [],
   "source": [
    "#Platz für Deinen Lösungsvorschlag"
   ]
  },
  {
   "cell_type": "markdown",
   "metadata": {
    "solution2": "hidden"
   },
   "source": [
    "*Lösung*: Es sind Anpassung in Bezug auf die vorliegenden Daten notwenig. Wir müssen die Skalierungen der Achsen anpassen und die Beschrifttungen ausrichten. Auch die Sequenz der Hilfslinien, sofern wir diese einzeichnen lassen wollen müssen wir entsprechend anpassen. Ansonsten ist die Erstellung der Bevölkerungspyramide für die Stadt Minden relativ ähnlich zur Erstellung der Pyramiden für die Stadt Bielefeld."
   ]
  },
  {
   "cell_type": "code",
   "execution_count": null,
   "metadata": {
    "solution2": "hidden"
   },
   "outputs": [],
   "source": [
    "#Pyramide Minden\n",
    "par(bg = \"gray80\") \n",
    "barplot(table(MI_Freq_weiblich, MI_Freq_Alter), axes = FALSE,\n",
    "        horiz = TRUE, axis.lty = 4, border = NA,\n",
    "        yaxt=\"n\", ann=FALSE,\n",
    "        xlim =c(-1600,1600), col = \"firebrick3\")\n",
    "        grid (16,0, lty = 6, col = \"cornsilk2\")\n",
    "barplot(-table(MI_Freq_maennlich, MI_Freq_Alter), axes =FALSE,\n",
    "        horiz = TRUE, axis.lty = 4, border = NA,\n",
    "        yaxt = \"n\", ann = FALSE,\n",
    "        xlim = c(-1600,1600), col = \"deepskyblue3\", add=T)\n",
    "        grid (16,0, lty = 6, col = \"cornsilk2\")\n",
    "\n",
    "abline(v = 0,lwd = 0,col = par(\"bg\"), font = 4)\n",
    "for (i in seq(10,105,by = 10)) text(0,i+i*0.2,i,cex = 1.0)\n",
    "\n",
    "mtext(abs(seq(-1600,1600,by = 200)),at = seq(-1600,1600,by = 200),1,line = 0,cex = 0.9, las = 2)\n",
    "\n",
    "#Beschriftung Links - Maenner\n",
    "mtext(\"Männer\",3,line=0,adj=0,cex=1.3)\n",
    "\n",
    "#Beschriftung Rechts - Frauen\n",
    "mtext(\"Frauen\",3,line=0,adj=1,cex=1.3)\n",
    "\n",
    "#Ueberschrift\n",
    "mtext(\"Bevölkerungspyramide Minden 2020\",\n",
    "      3,line=-1.5,adj=0,cex=1.5,font=4,outer=T)\n",
    "\n",
    "#Untertitel\n",
    "mtext(\"(Datenquelle: Stadt Minden)\",\n",
    "      3,line=-2.5,adj=0,cex=1,font=3,outer=T)\n",
    "\n",
    "#X-Achse: Beschriftung\n",
    "mtext(\"Mindener:innen\",\n",
    "      1,line=-3.25,adj=0.55,cex=0.95,font=2,outer=T)\n",
    "\n",
    "#y-Achse Beschriftung\n",
    "mtext(\"Alter in Jahren\",\n",
    "      3,line=-4,adj=0.55 ,cex=0.95,font=2,las=1,outer=T)\n"
   ]
  }
 ],
 "metadata": {
  "hide_input": false,
  "kernelspec": {
   "display_name": "R",
   "language": "R",
   "name": "ir"
  },
  "language_info": {
   "codemirror_mode": "r",
   "file_extension": ".r",
   "mimetype": "text/x-r-source",
   "name": "R",
   "pygments_lexer": "r",
   "version": "4.1.0"
  },
  "toc": {
   "base_numbering": 1,
   "nav_menu": {},
   "number_sections": true,
   "sideBar": true,
   "skip_h1_title": false,
   "title_cell": "Table of Contents",
   "title_sidebar": "Contents",
   "toc_cell": false,
   "toc_position": {},
   "toc_section_display": true,
   "toc_window_display": false
  }
 },
 "nbformat": 4,
 "nbformat_minor": 2
}
