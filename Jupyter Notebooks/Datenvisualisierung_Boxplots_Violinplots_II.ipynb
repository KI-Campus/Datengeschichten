{
 "cells": [
  {
   "cell_type": "markdown",
   "id": "edcabaa3",
   "metadata": {},
   "source": [
    "# Datenvisualisierung - Übung Boxplots und Violin Plots \n"
   ]
  },
  {
   "cell_type": "markdown",
   "id": "4f349811",
   "metadata": {},
   "source": [
    "Hier beschäftigen wir uns, wie im vorangegangenen JupyterNotebook, weiter mit der *Verteilung der Wahlerergbnisse der Bielefelder Stimmbezirke bei der Bundestagswahl 2017*. "
   ]
  },
  {
   "cell_type": "markdown",
   "id": "9a60432b",
   "metadata": {},
   "source": [
    "# Boxplots"
   ]
  },
  {
   "cell_type": "markdown",
   "id": "80316862",
   "metadata": {},
   "source": [
    "## Aufgabe 1\n",
    "**Pakete Laden**\n",
    "\n",
    "Lade zuerst die notwendigen Pakete."
   ]
  },
  {
   "cell_type": "code",
   "execution_count": null,
   "id": "6b2dc1fb",
   "metadata": {
    "solution2": "hidden",
    "solution2_first": true
   },
   "outputs": [],
   "source": [
    "#Platz für Deine Lösung"
   ]
  },
  {
   "cell_type": "code",
   "execution_count": null,
   "id": "c8ad7e2f",
   "metadata": {
    "solution2": "hidden"
   },
   "outputs": [],
   "source": [
    "# Lösungsvorschlag:benötigte Pakete laden\n",
    "library(\"tidyverse\")\n",
    "library(\"car\")\n",
    "library(\"psych\")\n",
    "library(\"vioplot\")\n"
   ]
  },
  {
   "cell_type": "markdown",
   "id": "8dc96c89",
   "metadata": {},
   "source": [
    "## Aufgabe 2\n",
    "**Benötigte Daten einlesen und Klassen/Datentypen anzeigen**\n",
    "\n",
    "Lies nun die schon aus dem vorherigen Notebook bekannten Daten \"Daten_BWT_2017_BI.csv\" ein und lass Dir ihre Klassen/Datentypen anzeigen."
   ]
  },
  {
   "cell_type": "code",
   "execution_count": null,
   "id": "cd53058c",
   "metadata": {
    "solution2": "hidden",
    "solution2_first": true
   },
   "outputs": [],
   "source": [
    "#Platz für Deine Lösung"
   ]
  },
  {
   "cell_type": "code",
   "execution_count": null,
   "id": "7f73e137",
   "metadata": {
    "solution2": "hidden"
   },
   "outputs": [],
   "source": [
    "# Lösungsvorschlag\n",
    "#csv Daten einlesen\n",
    "data_Wahl <- read.csv2(\"Daten_BWT_2017_BI.csv\", na=\"NA\", header = TRUE, stringsAsFactors = FALSE, encoding = \"latin1\")\n",
    "data_Wahl\n",
    "\n",
    "\n",
    "#Variablen betrachten\n",
    "sapply(data_Wahl, class)\n"
   ]
  },
  {
   "cell_type": "markdown",
   "id": "3ba347cb",
   "metadata": {},
   "source": [
    "## Aufgabe 3\n",
    "**Boxplot - Zweitstimmen Piratenpartei**\n",
    "\n",
    "Erstelle einen komplett aufbereiteten Boxplot mit den *Zweitstimmen* der *Piratenpartei*. Wie würdest Du den Boxplot interpretieren?\n"
   ]
  },
  {
   "cell_type": "code",
   "execution_count": null,
   "id": "b306b799",
   "metadata": {
    "solution2": "hidden",
    "solution2_first": true
   },
   "outputs": [],
   "source": [
    "#Platz für Deine Lösung"
   ]
  },
  {
   "cell_type": "code",
   "execution_count": null,
   "id": "598f2b0b",
   "metadata": {
    "solution2": "hidden"
   },
   "outputs": [],
   "source": [
    "# Lösungsvorschlag\n",
    "#Klassisch Aufbereiten\n",
    "par(bg = \"gray80\")\n",
    "boxplot(data_Wahl$Z_PIRATEN_Proz, ylim =c(-0.05, 2), \n",
    "        xaxs =\"i\", yaxs = \"i\", \n",
    "        boxwex=0.4,\n",
    "        col = c(\"darkorange1\"),\n",
    "        main=\"Zweitstimmen - Piraten Partei\",cex.main = 1.2,\n",
    "        sub = \"Datengrundlage: Ergebnis der Bundestagswahl 2017 - Bielefelder Stimmbezirke\",cex.sub = 0.8,\n",
    "        xlab = \"Piraten\",cex.axis = 1.0,\n",
    "        ylab= \"Prozent\")\n",
    "grid (0,8, lty = 3, col = \"black\")"
   ]
  },
  {
   "cell_type": "markdown",
   "id": "293d64db",
   "metadata": {},
   "source": [
    "## Aufgabe 4\n",
    "**Boxplot mit den Zweitstimmen der Tierschutzpartei**\n",
    "\n",
    "Erstelle einen komplett aufbereiteten Boxplot mit den *Zweitstimmen* der *Tierschutzpartei* und wähle die Whisker diesmal so, dass sie auch die Ausreißer mit einschließen.Wie würdest Du den Boxplot interpretieren?"
   ]
  },
  {
   "cell_type": "code",
   "execution_count": null,
   "id": "709658f0",
   "metadata": {
    "solution2": "hidden",
    "solution2_first": true
   },
   "outputs": [],
   "source": [
    "#Platz für Deine Lösung"
   ]
  },
  {
   "cell_type": "code",
   "execution_count": null,
   "id": "75b44382",
   "metadata": {
    "solution2": "hidden"
   },
   "outputs": [],
   "source": [
    "# Lösungsvorschlag\n",
    "#Whiskerlänge anpassen\n",
    "par(bg = \"gray80\")\n",
    "boxplot(data_Wahl$Z_Tierschutzpartei_Proz,ylim =c(-0.05, 2),\n",
    "        range = 3,\n",
    "        xaxs =\"i\", yaxs = \"i\", \n",
    "        boxwex=0.4,\n",
    "        col = c(\"cyan3\"),\n",
    "        main=\"Zweitstimmen - Tierschutzpartei\",cex.main = 1.2,\n",
    "        sub = \"Datengrundlage: Ergebnis der Bundestagswahl 2017 - Bielefelder Stimmbezirke\",cex.sub = 0.8,\n",
    "        xlab = \"Tierschutzpartei\",cex.axis = 1.0,\n",
    "        ylab= \"Prozent\")\n",
    "grid (0,8, lty = 3, col = \"black\")"
   ]
  },
  {
   "cell_type": "markdown",
   "id": "0c310b6f",
   "metadata": {},
   "source": [
    "## Aufgabe 5\n",
    "**Boxplot mit den Zweitstimmen aller Parteien die in den Bundestag eingezogen sind**:\n",
    "\n",
    "Erstelle nun einen aufbereiteten Boxplot mit den Zweitstimmen aller Parteien, die 2017 in den Bundestag eingezogen sind. Denke daran, zunächst einen Dataframe mit den entsprechenden Variablen zu erstellen. Wie würdest Du die Boxplots interpretieren, auch im Vergleich zur Verteilung der Erststimmen aus dem vorherigen Notebook?"
   ]
  },
  {
   "cell_type": "code",
   "execution_count": null,
   "id": "021a0ce1",
   "metadata": {
    "solution2": "hidden",
    "solution2_first": true
   },
   "outputs": [],
   "source": [
    "#Platz für Deine Lösung"
   ]
  },
  {
   "cell_type": "code",
   "execution_count": null,
   "id": "180139cb",
   "metadata": {
    "solution2": "hidden"
   },
   "outputs": [],
   "source": [
    "# Lösungsvorschlag\n",
    "#Dataframe erstellen\n",
    "data_Bund_Z <- (data.frame(data_Wahl$Z_CDU_Proz,data_Wahl$Z_SPD_Proz, data_Wahl$Z_AfD_Proz, data_Wahl$Z_FDP_Proz, data_Wahl$Z_DIE.LINKE_Proz,data_Wahl$Z_GRÜNE_Proz))\n",
    "\n",
    "\n",
    "#Mehrer Boxplots\n",
    "par(bg = \"gray80\")\n",
    "boxplot(data_Bund_Z, ylim= c(0, 50), boxwex=0.4, xaxs =\"i\", yaxs = \"i\",\n",
    "        xlab = \"Parteien im Bundestag\", ylab = \"Angabe in Prozent\",\n",
    "        main=\"Verteilung der Zweitstimmen - \\nParteien, die in den Bundestag eingezogen sind\",cex.main = 1.2,\n",
    "        sub = \"Datengrundlage: Ergebnis der Bundestagswahl 2017 - Bielefelder Stimmbezirke\",cex.sub = 0.8,\n",
    "        names = c(\"CDU\", \"SPD\", \"AfD\", \"FDP\", \"DIE.LINKE\", \"GRÜNE\"))\n",
    "grid (0,10, lty = 3, col = \"black\")\n"
   ]
  },
  {
   "cell_type": "markdown",
   "id": "2663f3b2",
   "metadata": {},
   "source": [
    "# Violin Plots\n",
    "\n",
    "## Aufgabe 6\n",
    "**Violinplot mit den Zweitstimmen der ÖDP**\n",
    "\n",
    "Stelle die Zweitstimmen der ÖDP in einem Violin Plot dar, ohne Farbe.Wie würdest Du den Violin Plot interpretieren?\n"
   ]
  },
  {
   "cell_type": "code",
   "execution_count": null,
   "id": "2a0e980e",
   "metadata": {
    "solution2": "hidden",
    "solution2_first": true
   },
   "outputs": [],
   "source": [
    "#Platz für Deine Lösung"
   ]
  },
  {
   "cell_type": "code",
   "execution_count": null,
   "id": "66fca92c",
   "metadata": {
    "solution2": "hidden"
   },
   "outputs": [],
   "source": [
    "#Vioplot\n",
    "par(bg = \"gray80\")\n",
    "vioplot(data_Wahl$Z_ÖDP_Proz, ylim =c(-0.05, 1),\n",
    "        xaxs =\"i\", yaxs = \"i\", \n",
    "        main=\"Zweitstimmen - ÖDP\",cex.main = 1.2,\n",
    "        sub = \"Datengrundlage: Ergebnis der Bundestagswahl 2017 - Bielefelder Stimmbezirke\",cex.sub = 0.8,\n",
    "        xlab = \"ÖDP\",cex.axis = 1.0,\n",
    "        ylab= \"Prozent\")\n",
    "grid (0,10, lty = 3, col = \"black\")"
   ]
  },
  {
   "cell_type": "markdown",
   "id": "accd876b",
   "metadata": {},
   "source": [
    "## Aufgabe 7\n",
    "**Violinplot der Tierschutzpartei in Farbe**:\n",
    "\n",
    "Erstelle nun einen Violinplot der Tierschutzpartei, aber diesmal in Farbe. Wie würdest Du den Violin Plot interpretieren?"
   ]
  },
  {
   "cell_type": "code",
   "execution_count": null,
   "id": "71265845",
   "metadata": {
    "solution2": "hidden",
    "solution2_first": true
   },
   "outputs": [],
   "source": [
    "#Platz für Deine Lösung"
   ]
  },
  {
   "cell_type": "code",
   "execution_count": null,
   "id": "64274df3",
   "metadata": {
    "solution2": "hidden"
   },
   "outputs": [],
   "source": [
    "# Lösungsvorschlag\n",
    "#Vioplot farbig\n",
    "vioplot(data_Wahl$Z_Tierschutzpartei_Proz, ylim =c(-0.05, 2),\n",
    "        xaxs =\"i\", yaxs = \"i\", \n",
    "        col = c(\"cyan3\"),\n",
    "        main=\"Zweitstimmen - Tierschutzpartei\",cex.main = 1.2,\n",
    "        sub = \"Datengrundlage: Ergebnis der Bundestagswahl 2017 - Bielefelder Stimmbezirke\",cex.sub = 0.8,\n",
    "        xlab = \"Tierschutzpartei\",cex.axis = 1.0,\n",
    "        ylab= \"Prozent\")\n",
    "grid (0,10, lty = 3, col = \"black\")\n"
   ]
  },
  {
   "cell_type": "markdown",
   "id": "ecf403ef",
   "metadata": {},
   "source": [
    "# Mehrere Violin Plots\n",
    "## Aufgabe 7\n",
    "\n",
    "Erstelle eine Grafik mit Violinplots der Zweitstimmen aller Parteien, die 2017 in den Bundestag eingezogen sind, in den *richtigen Parteifarben*. Was fällt Dir auf, wenn Du die Violinplots mit der Verteilung der Erststimmen aus dem anderen Juypter Notebook vergleichst?\n"
   ]
  },
  {
   "cell_type": "code",
   "execution_count": null,
   "id": "0d689f0c",
   "metadata": {
    "solution2": "hidden",
    "solution2_first": true
   },
   "outputs": [],
   "source": [
    "#Platz für Deine Lösung"
   ]
  },
  {
   "cell_type": "code",
   "execution_count": null,
   "id": "8ead2d92",
   "metadata": {
    "solution2": "hidden"
   },
   "outputs": [],
   "source": [
    "#Lösungsvorschlag\n",
    "#mehrer Violin Plots mit  mit den Parteien die in den Bundestag eingezogen sind\n",
    "par(bg = \"gray80\")\n",
    "vioplot (data_Bund_Z, ylim= c(0, 50), boxwex=0.4, xaxs =\"i\", yaxs = \"i\",\n",
    "        xlab = \"Parteien im Bundestag\", ylab = \"Angabe in Prozent\",\n",
    "        main=\"Verteilung der Zweitstimmen - \\nParteien, die in den Bundestag eingezogen sind\",cex.main = 1.2,\n",
    "        sub = \"Datengrundlage: Ergebnis der Bundestagswahl 2017 - Bielefelder Stimmbezirke\",cex.sub = 0.3,\n",
    "        names = c(\"CDU\", \"SPD\", \"AfD\", \"FDP\", \"DIE.LINKE\", \"GRÜNE\"),\n",
    "        col = c(\"#32302E\", \"#E3000F\", \"#0087CC\", \"#FFED00\", \"#DF0404\", \"#46962B\"))\n",
    "grid (0,10, lty = 3, col = \"black\")"
   ]
  },
  {
   "cell_type": "markdown",
   "id": "e699ef97",
   "metadata": {},
   "source": [
    "Wir hoffen die Übungen haben Dir Spass gemacht, bis zum nächsten Mal!"
   ]
  }
 ],
 "metadata": {
  "hide_input": false,
  "kernelspec": {
   "display_name": "R",
   "language": "R",
   "name": "ir-datengeschichten"
  },
  "language_info": {
   "codemirror_mode": "r",
   "file_extension": ".r",
   "mimetype": "text/x-r-source",
   "name": "R",
   "pygments_lexer": "r",
   "version": "4.1.0"
  },
  "toc": {
   "base_numbering": 1,
   "nav_menu": {},
   "number_sections": true,
   "sideBar": true,
   "skip_h1_title": false,
   "title_cell": "Table of Contents",
   "title_sidebar": "Contents",
   "toc_cell": false,
   "toc_position": {},
   "toc_section_display": true,
   "toc_window_display": true
  }
 },
 "nbformat": 4,
 "nbformat_minor": 5
}
