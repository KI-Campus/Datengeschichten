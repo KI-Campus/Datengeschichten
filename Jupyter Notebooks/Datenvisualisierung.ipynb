{
 "cells": [
  {
   "cell_type": "markdown",
   "id": "edcabaa3",
   "metadata": {},
   "source": [
    "# Barplots\n",
    "## Anwendung und Funktion\n",
    "\n",
    "<img width=\"400\" align = \"right\" hspace=\"40\" src=\"StudZahlOWLWiSe20_21.PNG\"/> \n",
    "\n",
    "<div style=\"text-align: left\" style=“line-height: 150%“>\n",
    "<p></p>  \n",
    "<p>\n",
    "<b>Barplots</b> (dt.: Balkendiagramm) sind eine der häufigsten (wenn nicht sogar <i>die</i> häufigste) grafische Visualisierungsform. Man findet sie nicht nur in wissenschaftlichen Veröffentlichungen, sondern auch oft in der Tageszeitung oder in Berichterstattungen im Fernsehen. \n",
    "Barplots stellen den statistischen Zusammenhang zwischen einer kategorialen und einer numerischen (also ordinal- oder metrisch skalierten) Variable dar. Dabei findet sich die Ausprägung der kategorialen Variable meist als UV auf der x-Achse, und die der numerischen Variable als AV auf der y-Achse. Dann sind die Balken <i>vertikal</i> ausgerichtet. Das Diagramm kann aber, je nachdem, welcher Zusammenhang dargestellt werden soll, <i>horizontal</i> ausgerichtet sein. Das kann die Übersichtlichkeit des Diagramms erhöhen. Die Länge des Balkens repräsentiert dabei den numerischen Wert der abhängigen Variable.</p>\n",
    "\n",
    "Barplots können geordnet oder ungeordnet dargestellt werden. Da es immer unser Ziel sein sollte, die Informationen in einer Grafik möglichst klar und verständlich zu vermittelt, ist dabei die geordnete Variante zu bevorzugen. Falls durch die Kategorien selbst keine Ordnung (zum Beispiel nach Kategorien wie Jahreszahlen oder Altersklassen) vorgegeben ist, können die Werte immer der Größe nach geordnet werden. Das vereinfacht Vergleiche von Kategorien über das Diagramm hinweg.\n",
    "Möglich ist es auch gruppierte Plots zu erstellen: Dabei werden einzelnen Kategorien auf einem übergeordneten Level gruppiert (zum Beispiel nach Städten oder Jahreszahl). Außerdem können sogenannte *Stacked Barplots* erstellt werden, indem die Gruppierung in den Balken selbst eingefügt wird. Das kann zum Beispiel hilfrei sein, wenn Anteile innerhalb eines Balkens dargestellt werden sollen (zum Beispiel das Verhältnis unterschiedlicher Altersstufen bei den Wähler:innen einer bestimmten Partei). Je nach Datensatz kann das eine oder andere für schnellere und einfachere Erfassung der Unterschiede zwischen den Kategorien sorgen.\n",
    "Weitere Informationen, wie zum Beispiel Schwellenwerte oder einzelne Zahlenwerte, können nach Belieben hinzugefügt werden. Beachtet werden sollte dabei, dass nur die wichtigsten Informationen eingefügt werden, um den Plot nicht zu überladen und das Verständnis der eigentlichen Aussage zu erschweren.\n",
    "\n",
    "Barplots sollten übrigens nicht mit **Histogrammen** verwechselt werden! Diese sind grafische Darstellungen der Verteilung von metrischen Variablen und bilden keine Zusammenhänge ab, deshalb müssen sie anders interpretiert werden.\n",
    "\n",
    "## Vor- und Nachteile\n",
    "Alles in allem sind Barplots eine effiziente Art und Weise, Daten zu visualisieren. Ein großer Vorteil von Barplots ist, dass unser Gehirn besonders gut darin ist, Längen und deren Verhältnisse zu interpretieren. Da die numerischen Werte hier als Balken unterschiedlicher Längen dargestellt werden, ist es deutlich einfacher diese abzulesen, als zum Beispiel die Winkel in einem Tortendiagramm zu interpretieren. Außerdem sind Barplots sehr übersichtlich in Bezug auf die dargestellten Kategorien.\n",
    "\n",
    "Allerdings können Barplots bei vielen Kategorien schnell unübersichtlich werden, besonders, wenn sie **vertikal** ausgerichtet sind: Es ist dann schwierig, Unterschiedsverhältnisse zwischen den Kategorien an den entgegengesetzten Enden des Plots zu interpretieren. Auch bei sehr geringen Unterschieden zwischen Kategorien können Barplots ihre Aussagekraft verlieren, wenn keine Zahlenwerte eingefügt werden.\n",
    "\n",
    "Barplots sollten eher nicht verwendet werden, wenn es mehrere Werte innerhalb einer Gruppe gibt. Solche Informationen lassen sich in Barplots selbst mit Fehlerbalken nicht optimal darstellen, ebenso wenig wie Informationen über die Verteilung der Werte. In solchen Fällen sollten besser **Violin Plots** oder **Boxplots** verwendet werden, damit keine Informationen verloren gehen.\n",
    "\n",
    "Wenn Barplots nicht ansprechend und hinreichend kontrastreich gestaltet werden, können sie außerdem langweilig und repetitiv wirken. Deshalb schauen wir uns später noch einige Variationen von Barplots an, die uns dabei helfen, unsere Grafiken interessanter zu gestalten. Als erstes zeigen wir die Beispiele für *vertikale* und *horizontale Barplots*. Für eine ausführliche Erläuterung der einzelnen Elemente eines Barplots schaue Dir bitte das Notebook zur *Visualisierung von Barplots* und das dazugehörige Übungsnotebook an.\n"
   ]
  },
  {
   "cell_type": "markdown",
   "id": "f48131d9",
   "metadata": {},
   "source": [
    "## Beispiel: Vertikale und horizontale Barplots\n",
    "\n",
    "Mit den Studierendenzahlen der 5 staatlichen Hochschulen in OWL aus dem WS 20/21, möchten wir Dir nun jeweils ein Beispiel für einen einfachen **vertikalen und horizontalen Barplot** zeigen. Schauen wir uns nun die Daten zu den 5 staatlichen Hochschulen an. (https://www.campus-owl.eu/die-fuenf-hochschulen):\n",
    "\n",
    "**Studierende (ohne Gasthörer, Stand WS 20/21):**\n",
    "\n",
    "* **Universität Bielefeld**: 24.940\n",
    "* **Universität Paderborn**: 19.948\n",
    "* **Fachhochschule Bielefeld**: 11.005\n",
    "* **Technische Hochschule Ostwestfalen-Lippe**: 6.564\n",
    "* **Hochschule für Musik Detmold**: 767\n",
    "\n",
    "\n",
    "Zunächst müssen für diese Daten eingeben und aufbreiten:"
   ]
  },
  {
   "cell_type": "markdown",
   "id": "b9de80de",
   "metadata": {},
   "source": [
    "### Dateneingabe und -aufbereitung"
   ]
  },
  {
   "cell_type": "code",
   "execution_count": null,
   "id": "766091fd",
   "metadata": {},
   "outputs": [],
   "source": [
    "# Vektor mit Kurznamen der Hochschulen erzeugen\n",
    "Hochschule_Kurz <- c(\"Uni Bi\", \"Uni Pb\",\"FH Bi\", \"TH OWL\",\"HfM Dt\")\n",
    "Hochschule_Kurz2 <- as.factor(Hochschule_Kurz)\n",
    "\n",
    "# Vektor mit Studierendenzahlen in der Reihenfolge übereinstimmend mit Hochschulnamensvektor erzeugen\n",
    "Stud_Zahl <- c(24940,19948,11005,6564, 767)\n",
    "\n",
    "str(Hochschule_Kurz2) # vektoren überprüfen\n",
    "str(Stud_Zahl)\n",
    "\n",
    "\n"
   ]
  },
  {
   "cell_type": "markdown",
   "id": "c54e2e5c",
   "metadata": {},
   "source": [
    "### Vertikales Säulendiagramm"
   ]
  },
  {
   "cell_type": "code",
   "execution_count": null,
   "id": "4657a205",
   "metadata": {},
   "outputs": [],
   "source": [
    "# vertikales Säulendiagramm\n",
    "library(RColorBrewer)\n",
    "coul <- brewer.pal(5, \"Set2\")# Farbe für jeden Balken festlegen\n",
    "\n",
    "#Säulendiagramm\n",
    "barplot(names= Hochschule_Kurz2, height = Stud_Zahl,\n",
    "        space = 0.7,\n",
    "        ylim = c(0,25000),\n",
    "        col= coul,\n",
    "        main=\"Studierende in den 5 staatlichen Hochschulen in OWL\",cex.main = 1.2,\n",
    "        sub = \"(https://www.campus-owl.eu/die-fuenf-hochschulen)\",cex.sub = 0.6,\n",
    "        xlab = \"Staatliche Hochschulen in OWL\",cex.axis = 1.0,\n",
    "        ylab= \"Studierendenanzahl\",\n",
    "        legend.text = c(\"Universität Bielefeld\", \"Universität Paderborn\", \"Fachhochschule Bielefeld\", \"Technische Hochschule OWL\",\"Hochschule für Musik Detmold\")\n",
    "        )"
   ]
  },
  {
   "cell_type": "markdown",
   "id": "79000b9b",
   "metadata": {},
   "source": [
    "### Horizontales Säulendiagramm"
   ]
  },
  {
   "cell_type": "code",
   "execution_count": null,
   "id": "627be6a6",
   "metadata": {},
   "outputs": [],
   "source": [
    "# horizontales Säulendiagramm\n",
    "barplot(names= Hochschule_Kurz2, height = Stud_Zahl,\n",
    "        space = 0.7,\n",
    "        xlim = c(0,25000),\n",
    "        horiz = TRUE,\n",
    "        col= coul,\n",
    "        main=\"Studierenden in den 5 staatlichen Hochschulen in OWL\",cex.main = 1.2,\n",
    "        sub = \"(https://www.campus-owl.eu/die-fuenf-hochschulen)\",cex.sub = 0.6,\n",
    "        xlab = \"Staatliche Hochschulen in OWL\",cex.axis = 1.0,\n",
    "        ylab= \"Studierendenanzahl\",\n",
    "        legend.text = c(\"Universität Bielefeld\", \"Universität Paderborn\", \"Fachhochschule Bielefeld\", \"Technische Hochschule OWL\",\"Hochschule für Musik Detmold\")\n",
    "        )"
   ]
  },
  {
   "cell_type": "markdown",
   "id": "1c32216b",
   "metadata": {},
   "source": [
    "Entscheide selbst findest Du das vertikale oder das horizontale Balkendiagramm übersichtlicher und besser zu erfassen?"
   ]
  },
  {
   "cell_type": "markdown",
   "id": "9422d94a",
   "metadata": {},
   "source": [
    "# Lollipop Plots\n",
    "## Anwendung und Funktion\n",
    "Bei **Lollipop Plots** handelt es sich um eine beliebte Variante des klassischen Barplots. Im Grunde können Lollipop Plots die gleichen Informationen darstellen wie Barplots, sind dabei aber kontrastreicher und übersichtlicher. Lollipop Plots haben ihren Namen aufrgrund der grafischen Gestaltung der numerischen Werte: Ihre Ausprägung wird als Linie dargestellt, die in einem Punkt endet. \n",
    "\n",
    "Ebenso wie Barplots können Lollipop Plots *vertikal* oder *horizontal* erstellt werden. Auch hier ist meistens die horizontale Version zu bevorzugen. Wenn Kategorien gruppiert werden sollen, können diese einfach untereinander dargestellt werden. \n",
    "Besonders wichtig bei Lollipop Plots ist, dass sie geordnet werden (entweder nach Kategorien oder nach Werten), da sie sonst ihre Vorteile in der Übersichtlichkeit gegenüber Barplots verlieren. Wenn aus inhaltlichen Gründen die Kategorien nicht geordnet werden können, sollte lieber einen Barplot verwenden. \n",
    "\n",
    "Es gibt weitere Variationen von Lollipop Plots, zum Beispiel den **Cleveland Barplot** beziehungsweise **Dumbbell Dot Plot**. Mithilfe dessen können zwei numerische Werte innerhalb einer Kategorie verglichen werden (anstatt eine gruppierten Barplot zu verwenden). Mit diesem Plot werden wir uns hier allerdings nicht beschäftigen.\n",
    "\n",
    "## Vor- und Nachteile\n",
    "Lollipop Plots bieten grundsätzlich die gleichen Vor- und Nachteile wie Barplots. Mithilfe von Lollipop Plots lassen sich aber wichtige Effekte und Kontraste einfacher darstellen als mit regulären Barplots. Sie sind deutlich übersichtlicher und laufen selten Gefahr, mit Informationen überladen zu wirken. Das liegt am einfachen Design, das zum Beispiel ein Verschwimmen der Linien bei vielen Kategorien verhindert.\n",
    "Vor allem der Einsatz von Farben und Gruppierungen sorgt zusätzlich für Struktur. Lollipop Plots sind also eine interessante und praktische Art der grafischen Darstellung von Daten, die wir uns im Folgenden näher ansehen wollen. \n",
    "\n",
    "**Gut zu Wissen**: Für die Erstellung von Lollipop Plots brauchen wir das R-Package *ggplot2*, die \"Visualsierungs-Logik\" die diesem Paket zugrundliegt ist eine andere als bei den Basis-Visualisierungsfunktionen in R. Wir werden in späteren Notebooks noch ausführlich auf die Visualisierungslogik von ggplot2 eingehen. Hier nur kurz ein paar wesentliche Prinzipien der Visualisierung in ggplot2:\n",
    "\n",
    "Ein wichtiger Punkt ist das die Funktion *gplot()*die zum Erstellen einer Grafik mit ggplot2 verwendet wird, anders als andere Visualisierungsfunktionen in R keine *Vektoren* akzeptiert, sondern die Daten in Form eines *Dataframes* benötigt. Mit *aes()* \"aesthetics\"-Argument werden verschiedene Aspekte des Aussehens der Grafik weiter spezifiziert. Nach dem Basis-Setup der Grafik können weitere für die Abbildung erforderliche Ebenen definiert werden. Diese Ebenen heißen in ggplot2 *geom*."
   ]
  },
  {
   "cell_type": "markdown",
   "id": "0fe0657d",
   "metadata": {},
   "source": [
    "### Einfacher vertikaler Lollipop Plot"
   ]
  },
  {
   "cell_type": "code",
   "execution_count": null,
   "id": "e737c8d8",
   "metadata": {},
   "outputs": [],
   "source": [
    "# Einfacher Lollipop Plot\n",
    "library(ggplot2)\n",
    "\n",
    "data <- data.frame(    #definieren des für ggplot2 erforderliche Dataframes\n",
    "    x= Hochschule_Kurz2, \n",
    "    y= Stud_Zahl\n",
    "    )\n",
    "\n",
    "# Aussehen von Achsentitel und Beschrifungen definieren\n",
    "my_Theme = theme(    \n",
    "  axis.title.x = element_text(size = 14, face= \"bold\"),\n",
    "  axis.text.x = element_text(size = 12),\n",
    "  axis.title.y = element_text(size = 14, face= \"bold\"),\n",
    "  axis.text.y = element_text(size = 12))\n",
    "\n",
    "\n",
    "ggplot(data, aes(x=x, y=y)) +\n",
    "  geom_point() +  # fügt den Punkt hinzu\n",
    "  geom_segment(aes(x=x, xend=x, y=0, yend=y)) + # zeichnet die Linie\n",
    "  my_Theme +\n",
    "  labs(title = \"Studierende in OWL WiSe 20/21\", x = \"Hochschulen in OWL\", y= \"Studierendenanzahl\")  \n"
   ]
  },
  {
   "cell_type": "markdown",
   "id": "abc6d61d",
   "metadata": {},
   "source": [
    "Wie Du siehst ist die Abbildung noch nicht ganz optimal. Etwa sind die Hochschulen nicht nach ihrer Studierendenzahl geordnet, obwohl wir den Vektor anders angelegt hatten. Wie wir dieses und weitere Probleme lösen können, zeigen wir Dir im nächsten Lollipop Plot."
   ]
  },
  {
   "cell_type": "markdown",
   "id": "f4b06689",
   "metadata": {},
   "source": [
    "### Komplexer vertikaler Lollipop Plot"
   ]
  },
  {
   "cell_type": "code",
   "execution_count": null,
   "id": "d92b5ccc",
   "metadata": {},
   "outputs": [],
   "source": [
    "# Komplexerer Lollipop plot\n",
    "library(ggplot2)\n",
    "\n",
    "# Dataframe definieren\n",
    "data <- data.frame(   \n",
    "  x= Hochschule_Kurz, \n",
    "  y= Stud_Zahl\n",
    ")\n",
    "\n",
    "# Aussehen von Achsentitel und Beschrifungen definieren\n",
    "my_Theme = theme(\n",
    "  axis.title.x = element_text(size = 13),\n",
    "  axis.text.x = element_text(size = 12),\n",
    "  axis.title.y = element_text(size = 13),\n",
    "  axis.text.y = element_text(size = 12))\n",
    "\n",
    "ggplot(data, aes(x=x, y=y)) +\n",
    "  geom_segment( aes(x=factor(x, level = Hochschule_Kurz), xend=factor(x,level = Hochschule_Kurz), y=0, yend=y)) +\n",
    "  geom_point( size=8, color=\"red\", fill=alpha(\"orange\", 0.3), alpha=1, shape=21, stroke=3) +\n",
    "  my_Theme +\n",
    "  labs(title = \"Studierende in OWL WiSe 20/21\", x = \"Hochschulen in OWL\", y= \"Studierendenanzahl\")    \n"
   ]
  },
  {
   "cell_type": "markdown",
   "id": "8e52cbfc",
   "metadata": {},
   "source": [
    "Die Lösung für die falsch geordneten Lollipops ist es Vektor Hochschule_Kurz, der bereits richtig geordnet ist, erst in aes() in einen Faktor umzuwandeln."
   ]
  },
  {
   "cell_type": "markdown",
   "id": "6df6507f",
   "metadata": {},
   "source": [
    "**Aufgabe 1**: Da die Grafik immer noch optimiert werden könnte, etwa Position der Überschrift ect. probier es doch selbst einmal in dem Du einzelne Parameter der Grafik veränderst."
   ]
  },
  {
   "cell_type": "code",
   "execution_count": null,
   "id": "fe4b977d",
   "metadata": {},
   "outputs": [],
   "source": [
    "# Platz für Deine veränderte Grafik"
   ]
  },
  {
   "cell_type": "markdown",
   "id": "9bea1b14",
   "metadata": {},
   "source": [
    "### Horizontale komplexe Lollipop Plots"
   ]
  },
  {
   "cell_type": "code",
   "execution_count": null,
   "id": "f4bf5163",
   "metadata": {},
   "outputs": [],
   "source": [
    "# Komplexerer Lollipop plot\n",
    "library(ggplot2)\n",
    "\n",
    "# Dataframe definieren\n",
    "data <- data.frame(   \n",
    "  x= Hochschule_Kurz, \n",
    "  y= Stud_Zahl\n",
    ")\n",
    "\n",
    "my_Theme = theme(\n",
    "  axis.title.x = element_text(size = 13),\n",
    "  axis.text.x = element_text(size = 12),\n",
    "  axis.title.y = element_text(size = 13),\n",
    "  axis.text.y = element_text(size = 12))\n",
    "\n",
    "ggplot(data, aes(x=x, y=y)) +\n",
    "  geom_segment( aes(x=factor(x, level = Hochschule_Kurz), xend=factor(x,level = Hochschule_Kurz), y=0, yend=y)) +\n",
    "  geom_point( size=8, color=\"red\", fill=alpha(\"orange\", 0.3), alpha=1, shape=21, stroke=3) +\n",
    "  my_Theme +\n",
    "  labs(title = \"Studierende in OWL WiSe 20/21\", x = \"Hochschulen in OWL\", y = \"Studierendenanzahl\") + \n",
    "  coord_flip() \n"
   ]
  },
  {
   "cell_type": "markdown",
   "id": "5ed38fda",
   "metadata": {},
   "source": [
    "Welche Variante von *Barplots* bevorzugst Du, *Klassische Barplots*, *vertikal* oder *horizontal* oder *Lollipop Plots*? (1) für viele Werte (2) für wenige Werte? "
   ]
  },
  {
   "cell_type": "markdown",
   "id": "40c89e17",
   "metadata": {},
   "source": [
    "Quellen: \n",
    "\n",
    "* https://www.data-to-viz.com\n",
    "* https://www.r-graph-gallery.com/"
   ]
  }
 ],
 "metadata": {
  "hide_input": false,
  "kernelspec": {
   "display_name": "R",
   "language": "R",
   "name": "ir"
  },
  "language_info": {
   "codemirror_mode": "r",
   "file_extension": ".r",
   "mimetype": "text/x-r-source",
   "name": "R",
   "pygments_lexer": "r",
   "version": "4.1.0"
  },
  "toc": {
   "base_numbering": 1,
   "nav_menu": {},
   "number_sections": true,
   "sideBar": true,
   "skip_h1_title": false,
   "title_cell": "Table of Contents",
   "title_sidebar": "Contents",
   "toc_cell": false,
   "toc_position": {
    "height": "calc(100% - 180px)",
    "left": "10px",
    "top": "150px",
    "width": "165px"
   },
   "toc_section_display": true,
   "toc_window_display": true
  }
 },
 "nbformat": 4,
 "nbformat_minor": 5
}
