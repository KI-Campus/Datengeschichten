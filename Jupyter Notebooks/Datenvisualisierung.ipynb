{
 "cells": [
  {
   "cell_type": "markdown",
   "id": "edcabaa3",
   "metadata": {},
   "source": [
    "# Barplots\n",
    "## Anwendung und Funktion\n",
    "\n",
    "<img width=\"400\" align = \"right\" hspace=\"40\" src=\"StudZahlOWLWiSe20_21.png\"/> \n",
    "\n",
    "<div style=\"text-align: left\" style=“line-height: 150%“>\n",
    "<p></p>  \n",
    "<p>\n",
    "<b>Barplots</b> (dt.: Balkendiagramm bzw. Säulendiagramm) sind eine der häufigsten (wenn nicht sogar <i>die</i> häufigste) grafische Visualisierungsform. Man findet sie nicht nur in wissenschaftlichen Veröffentlichungen, sondern auch oft in der Tageszeitung oder in Berichterstattungen im Fernsehen. \n",
    "\n",
    "Barplots stellen den statistischen Zusammenhang zwischen einer kategorialen (also nominal- oder ordinalskalierten) und einer numerischen (also metrisch skalierten) Variablen dar. Dabei findet sich die Ausprägung der kategorialen Variablen meist als UV (unabhängige Variable) auf der x-Achse und die der numerischen Variablen als AV (abhängige Variable) auf der y-Achse. Dann sind die Balken <i>vertikal</i> ausgerichtet. Das Diagramm kann aber, je nachdem, welcher Zusammenhang dargestellt werden soll, auch <i>horizontal</i> ausgerichtet sein. Das kann die Übersichtlichkeit des Diagramms erhöhen. Jeder Balken repräsentiert dabei im Barplot eine Ausprägung der kategorialen Variablen und die Länge eines Balkens stellt den Wert der numerischen Variablen für die jeweilige Ausprägung der kategorialen Variablen dar. So steht beispielsweise in der rechten Abbildung, die die Studierendenzahlen der fünf staatlichen Hochschulen in OWL zeigt, jeder Balken für eine der fünf Hochschulen und die Länge des jeweiligen Balkens für die Studierendenzahl der jeweiligen Hochschule.</p>\n",
    "\n",
    "Barplots können geordnet oder ungeordnet dargestellt werden. Da es immer unser Ziel sein sollte, die Informationen in einer Grafik möglichst klar und verständlich zu vermitteln, ist dabei die geordnete Variante zu bevorzugen. Falls durch die Kategorien selbst keine Ordnung (zum Beispiel nach Kategorien wie Jahreszahlen oder Altersklassen) vorgegeben ist, können die Werte immer der Größe nach geordnet werden. Das vereinfacht Vergleiche von Kategorien über das Diagramm hinweg.\n",
    "\n",
    "Möglich ist es auch, gruppierte Plots zu erstellen: Dabei werden einzelne Kategorien auf einem übergeordneten Level gruppiert (zum Beispiel nach Städten oder Jahreszahl). Außerdem können sogenannte *Stacked Barplots* erstellt werden, indem die Gruppierung in den Balken selbst eingefügt wird. Das kann zum Beispiel hilfreich sein, wenn Anteile innerhalb eines Balkens dargestellt werden sollen (zum Beispiel das Verhältnis unterschiedlicher Altersstufen bei den Wähler:innen einer bestimmten Partei). Je nach Datensatz kann das eine oder andere für schnellere und einfachere Erfassung der Unterschiede zwischen den Kategorien sorgen. Beispiele dafür findest du im nächsten Jupyter Notebook *Datenvisualisierung - Barplot (Vertiefung)*.\n",
    "\n",
    "Weitere Informationen, wie zum Beispiel Schwellenwerte oder einzelne Zahlenwerte, können nach Belieben hinzugefügt werden. Beachtet werden sollte dabei, dass nur die wichtigsten Informationen eingefügt werden, um den Plot nicht zu überladen und das Verständnis der eigentlichen Aussage nicht zu erschweren.\n",
    "\n",
    "Barplots sollten übrigens **nicht mit Histogrammen** verwechselt werden! Diese sind grafische Darstellungen der Verteilung von metrischen Variablen und bilden keine Zusammenhänge ab, deshalb müssen sie anders interpretiert werden.\n",
    "\n",
    "## Vor- und Nachteile\n",
    "\n",
    "Alles in allem sind Barplots eine effiziente Art und Weise, Daten zu visualisieren. Ein großer Vorteil von Barplots ist, dass unser Gehirn besonders gut darin ist, Längen und deren Verhältnisse zu interpretieren. Da die numerischen Werte hier als Balken unterschiedlicher Längen dargestellt werden, ist es deutlich einfacher diese abzulesen, als zum Beispiel die Winkel in einem Tortendiagramm zu interpretieren. Außerdem sind Barplots sehr übersichtlich in Bezug auf die dargestellten Kategorien.\n",
    "\n",
    "Allerdings können Barplots bei vielen Kategorien schnell unübersichtlich werden, besonders, wenn sie **vertikal** ausgerichtet sind: Es ist dann schwierig, Unterschiedsverhältnisse zwischen den Kategorien an den entgegengesetzten Enden des Plots zu interpretieren. Auch bei sehr geringen Unterschieden zwischen Kategorien können Barplots ihre Aussagekraft verlieren, wenn keine Zahlenwerte eingefügt werden.\n",
    "\n",
    "Barplots sollten eher nicht verwendet werden, wenn es mehrere Werte innerhalb einer Gruppe gibt. Solche Informationen lassen sich in Barplots selbst mit Fehlerbalken nicht optimal darstellen, ebenso wenig wie Informationen über die Verteilung der Werte. In solchen Fällen sollten besser **Violin Plots** oder **Boxplots** verwendet werden, damit keine Informationen verloren gehen. Violin Plots und Boxplots schauen wir uns im Modul *Datenvisualisierung II* noch genauer an.\n",
    "\n",
    "Wenn Barplots nicht ansprechend und hinreichend kontrastreich gestaltet werden, können sie außerdem langweilig und repetitiv wirken. Deshalb schauen wir uns später noch einige Variationen von Barplots an, die uns dabei helfen, unsere Grafiken interessanter zu gestalten. Als erstes zeigen wir die Beispiele für *vertikale* und *horizontale Barplots*. Für eine ausführliche Erläuterung der einzelnen Elemente eines Barplots schaue dir bitte das Notebook zur *Datenvisualisierung - Barplot (Vertiefung)* und das dazugehörige Übungsnotebook an.\n"
   ]
  },
  {
   "cell_type": "markdown",
   "id": "a1593ff7",
   "metadata": {},
   "source": [
    "## Beispiel: Vertikale und horizontale Barplots\n",
    "\n",
    "Mit den Studierendenzahlen der 5 staatlichen Hochschulen in OWL aus dem WS 20/21, möchten wir dir nun jeweils ein Beispiel für einen einfachen **vertikalen und horizontalen Barplot** zeigen. Schauen wir uns nun die Daten zu den 5 staatlichen Hochschulen an. (https://www.campus-owl.eu/die-fuenf-hochschulen):\n",
    "\n",
    "**Studierende (ohne Gasthörer, Stand WS 20/21):**\n",
    "\n",
    "* **Universität Bielefeld**: 24.940\n",
    "* **Universität Paderborn**: 19.948\n",
    "* **Fachhochschule Bielefeld**: 11.005\n",
    "* **Technische Hochschule Ostwestfalen-Lippe**: 6.564\n",
    "* **Hochschule für Musik Detmold**: 767\n",
    "\n",
    "\n",
    "Zunächst müssen für diese Daten eingeben und aufbreiten:"
   ]
  },
  {
   "cell_type": "markdown",
   "id": "42d857ea",
   "metadata": {},
   "source": [
    "### Dateneingabe und -aufbereitung"
   ]
  },
  {
   "cell_type": "code",
   "execution_count": null,
   "id": "5c9d6d18",
   "metadata": {},
   "outputs": [],
   "source": [
    "# Vektor mit Kurznamen der Hochschulen erzeugen\n",
    "Hochschule_Kurz <- c(\"Uni Bi\", \"Uni Pb\",\"FH Bi\", \"TH OWL\",\"HfM Dt\")\n",
    "Hochschule_Kurz2 <- as.factor(Hochschule_Kurz)\n",
    "\n",
    "# Vektor mit Studierendenzahlen in der Reihenfolge übereinstimmend mit Hochschulnamensvektor erzeugen\n",
    "Stud_Zahl <- c(24940,19948,11005,6564, 767)\n",
    "\n",
    "str(Hochschule_Kurz2) # vektoren überprüfen\n",
    "str(Stud_Zahl)\n",
    "\n",
    "\n"
   ]
  },
  {
   "cell_type": "markdown",
   "id": "311b672a",
   "metadata": {},
   "source": [
    "### Säulendiagramm (vertikaler Barplot)"
   ]
  },
  {
   "cell_type": "code",
   "execution_count": null,
   "id": "a59ed85f",
   "metadata": {},
   "outputs": [],
   "source": [
    "# Säulendiagramm (vertikaler Barplot)\n",
    "library(RColorBrewer)\n",
    "coul <- brewer.pal(5, \"Set2\")# Farbe für jeden Balken festlegen\n",
    "\n",
    "#Säulendiagramm\n",
    "barplot(names= Hochschule_Kurz2, height = Stud_Zahl,\n",
    "        space = 0.7,\n",
    "        ylim = c(0,25000),\n",
    "        col= coul,\n",
    "        main=\"Studierende in den 5 staatlichen Hochschulen in OWL\",cex.main = 1.2,\n",
    "        sub = \"(https://www.campus-owl.eu/die-fuenf-hochschulen)\",cex.sub = 0.6,\n",
    "        xlab = \"Staatliche Hochschulen in OWL\",cex.axis = 1.0,\n",
    "        ylab= \"Studierendenanzahl\",\n",
    "        legend.text = c(\"Universität Bielefeld\", \"Universität Paderborn\", \"Fachhochschule Bielefeld\", \"Technische Hochschule OWL\",\"Hochschule für Musik Detmold\")\n",
    "        )"
   ]
  },
  {
   "cell_type": "markdown",
   "id": "e17ce733",
   "metadata": {},
   "source": [
    "### Balkendiagramm (horizontaler Barplot)"
   ]
  },
  {
   "cell_type": "code",
   "execution_count": null,
   "id": "7f4ec60f",
   "metadata": {},
   "outputs": [],
   "source": [
    "# Balkendiagramm (horizontaler Barplot)\n",
    "barplot(names= Hochschule_Kurz2, height = Stud_Zahl,\n",
    "        space = 0.7,\n",
    "        xlim = c(0,25000),\n",
    "        horiz = TRUE,\n",
    "        col= coul,\n",
    "        main=\"Studierenden in den 5 staatlichen Hochschulen in OWL\",cex.main = 1.2,\n",
    "        sub = \"(https://www.campus-owl.eu/die-fuenf-hochschulen)\",cex.sub = 0.6,\n",
    "        xlab = \"Staatliche Hochschulen in OWL\",cex.axis = 1.0,\n",
    "        ylab= \"Studierendenanzahl\",\n",
    "        legend.text = c(\"Universität Bielefeld\", \"Universität Paderborn\", \"Fachhochschule Bielefeld\", \"Technische Hochschule OWL\",\"Hochschule für Musik Detmold\")\n",
    "        )"
   ]
  },
  {
   "cell_type": "markdown",
   "id": "c6cf9449",
   "metadata": {},
   "source": [
    "Entscheide selbst: Findest du das vertikale oder das horizontale Balkendiagramm übersichtlicher und besser zu erfassen?"
   ]
  },
  {
   "cell_type": "markdown",
   "id": "8757338a",
   "metadata": {},
   "source": [
    "# Lollipop Plots\n",
    "## Anwendung und Funktion\n",
    "Bei **Lollipop Plots** handelt es sich um eine beliebte Variante des klassischen Barplots. Im Grunde können Lollipop Plots die gleichen Informationen darstellen wie Barplots, sind dabei aber kontrastreicher und übersichtlicher. Lollipop Plots haben ihren Namen aufrgrund der grafischen Gestaltung der numerischen Werte: Ihre Ausprägung wird als Linie dargestellt, die in einem Punkt endet. \n",
    "\n",
    "Ebenso wie Barplots können Lollipop Plots *vertikal* oder *horizontal* erstellt werden. Auch hier ist meistens die horizontale Version zu bevorzugen. Wenn Kategorien gruppiert werden sollen, können diese einfach untereinander dargestellt werden. \n",
    "Besonders wichtig bei Lollipop Plots ist, dass sie geordnet werden (entweder nach Kategorien oder nach Werten), da sie sonst ihre Vorteile in der Übersichtlichkeit gegenüber Barplots verlieren. Wenn aus inhaltlichen Gründen die Kategorien nicht geordnet werden können, sollte lieber einen Barplot verwendet werden. \n",
    "\n",
    "## Vor- und Nachteile\n",
    "Lollipop Plots bieten grundsätzlich die gleichen Vor- und Nachteile wie Barplots. Mithilfe von Lollipop Plots lassen sich aber wichtige Effekte und Kontraste einfacher darstellen als mit regulären Barplots. Sie sind deutlich übersichtlicher und laufen selten Gefahr, mit Informationen überladen zu wirken. Das liegt am einfachen Design, das zum Beispiel ein Verschwimmen der Linien bei vielen Kategorien verhindert.\n",
    "Vor allem der Einsatz von Farben und Gruppierungen sorgt zusätzlich für Struktur. Lollipop Plots sind also eine interessante und praktische Art der grafischen Darstellung von Daten, die wir uns im Folgenden näher ansehen wollen. \n",
    "\n",
    "**Gut zu wissen:** Für die Erstellung von Lollipop Plots brauchen wir das R-Package *ggplot2*, die \"Visualsierungs-Logik\" die diesem Paket zugrundliegt ist eine andere als bei den Basis-Visualisierungsfunktionen in R. Wir werden in späteren Notebooks noch ausführlich auf die Visualisierungslogik von ggplot2 eingehen. Hier nur kurz ein paar wesentliche Prinzipien der Visualisierung in ggplot2:\n",
    "\n",
    "Ein wichtiger Punkt ist das die Funktion `ggplot()` die zum Erstellen einer Grafik mit ggplot2 verwendet wird, anders als andere Visualisierungsfunktionen in R keine *Vektoren* akzeptiert, sondern die Daten in Form eines *Dataframes* benötigt. Mit `aes()` \"aesthetics\"-Argument werden verschiedene Aspekte des Aussehens der Grafik weiter spezifiziert. Nach dem Basis-Setup der Grafik können weitere für die Abbildung erforderliche Ebenen definiert werden. Diese Ebenen heißen in ggplot2 `geom`."
   ]
  },
  {
   "cell_type": "markdown",
   "id": "897f9d87",
   "metadata": {},
   "source": [
    "### Einfacher vertikaler Lollipop Plot"
   ]
  },
  {
   "cell_type": "code",
   "execution_count": null,
   "id": "1d8530ef",
   "metadata": {},
   "outputs": [],
   "source": [
    "# Einfacher Lollipop Plot\n",
    "library(ggplot2)\n",
    "\n",
    "daten <- data.frame(    #definieren des für ggplot2 erforderliche Dataframes\n",
    "    x= Hochschule_Kurz2, \n",
    "    y= Stud_Zahl\n",
    "    )\n",
    "\n",
    "# Aussehen von Achsentitel und Beschriftungen definieren\n",
    "mein_Thema = theme(    \n",
    "  axis.title.x = element_text(size = 14, face= \"bold\"),\n",
    "  axis.text.x = element_text(size = 12),\n",
    "  axis.title.y = element_text(size = 14, face= \"bold\"),\n",
    "  axis.text.y = element_text(size = 12))\n",
    "\n",
    "\n",
    "ggplot(daten, aes(x=x, y=y)) +\n",
    "  geom_point() +  # fügt den Punkt hinzu\n",
    "  geom_segment(aes(x=x, xend=x, y=0, yend=y)) + # zeichnet die Linie\n",
    "  mein_Thema +\n",
    "  labs(title = \"Studierende in OWL WiSe 20/21\", x = \"Hochschulen in OWL\", y= \"Studierendenanzahl\")  \n"
   ]
  },
  {
   "cell_type": "markdown",
   "id": "7494ef7b",
   "metadata": {},
   "source": [
    "Wie du siehst ist die Abbildung noch nicht ganz optimal. So sind etwa die Hochschulen nicht nach ihrer Studierendenzahl geordnet, obwohl wir den Vektor anders angelegt hatten. Wie wir dieses und weitere Probleme lösen können, zeigen wir dir im nächsten Lollipop Plot."
   ]
  },
  {
   "cell_type": "markdown",
   "id": "93d669eb",
   "metadata": {},
   "source": [
    "### Komplexer vertikaler Lollipop Plot"
   ]
  },
  {
   "cell_type": "code",
   "execution_count": null,
   "id": "833b52f1",
   "metadata": {},
   "outputs": [],
   "source": [
    "# Komplexerer Lollipop Plot\n",
    "library(ggplot2)\n",
    "\n",
    "# Dataframe definieren\n",
    "daten <- data.frame(   \n",
    "  x= Hochschule_Kurz, \n",
    "  y= Stud_Zahl\n",
    ")\n",
    "\n",
    "# Aussehen von Achsentitel und Beschriftungen definieren\n",
    "mein_Thema = theme(\n",
    "  axis.title.x = element_text(size = 13),\n",
    "  axis.text.x = element_text(size = 12),\n",
    "  axis.title.y = element_text(size = 13),\n",
    "  axis.text.y = element_text(size = 12))\n",
    "\n",
    "ggplot(daten, aes(x=x, y=y)) +\n",
    "  geom_segment( aes(x=factor(x, level = Hochschule_Kurz), xend=factor(x,level = Hochschule_Kurz), y=0, yend=y)) +\n",
    "  geom_point( size=8, color=\"blue\", fill=alpha(\"orange\", 0.3), alpha=1, shape=21, stroke=3) +\n",
    "  mein_Thema +\n",
    "  labs(title = \"Studierende in OWL WiSe 20/21\", x = \"Hochschulen in OWL\", y= \"Studierendenanzahl\")    \n"
   ]
  },
  {
   "cell_type": "markdown",
   "id": "a70b0db3",
   "metadata": {},
   "source": [
    "Die Lösung für die falsch geordneten Lollipops ist es den Vektor *Hochschule_Kurz*, der bereits richtig geordnet ist, erst in `aes()` in einen Faktor umzuwandeln."
   ]
  },
  {
   "cell_type": "markdown",
   "id": "e71aaa64",
   "metadata": {},
   "source": [
    "**Aufgabe 1**: Da die Grafik immer noch optimiert werden könnte, etwa Position der Überschrift, probier  doch selbst einmal einzelne Parameter der Grafik zu verändern."
   ]
  },
  {
   "cell_type": "code",
   "execution_count": null,
   "id": "b2853415",
   "metadata": {},
   "outputs": [],
   "source": [
    "# Platz für Deine veränderte Grafik"
   ]
  },
  {
   "cell_type": "markdown",
   "id": "28b520bf",
   "metadata": {},
   "source": [
    "### Horizontale komplexe Lollipop Plots"
   ]
  },
  {
   "cell_type": "code",
   "execution_count": null,
   "id": "7f0f6f17",
   "metadata": {},
   "outputs": [],
   "source": [
    "# Komplexerer Lollipop Plot\n",
    "library(ggplot2)\n",
    "\n",
    "# Dataframe definieren\n",
    "daten <- data.frame(   \n",
    "  x= Hochschule_Kurz, \n",
    "  y= Stud_Zahl\n",
    ")\n",
    "\n",
    "mein_Thema = theme(\n",
    "  axis.title.x = element_text(size = 13),\n",
    "  axis.text.x = element_text(size = 12),\n",
    "  axis.title.y = element_text(size = 13),\n",
    "  axis.text.y = element_text(size = 12))\n",
    "\n",
    "ggplot(daten, aes(x=x, y=y)) +\n",
    "  geom_segment( aes(x=factor(x, level = Hochschule_Kurz), xend=factor(x,level = Hochschule_Kurz), y=0, yend=y)) +\n",
    "  geom_point( size=8, color=\"purple\", fill=alpha(\"yellow\", 0.3), alpha=1, shape=21, stroke=3) +\n",
    "  mein_Thema +\n",
    "  labs(title = \"Studierende in OWL WiSe 20/21\", x = \"Hochschulen in OWL\", y = \"Studierendenanzahl\") + \n",
    "  coord_flip() \n"
   ]
  },
  {
   "cell_type": "markdown",
   "id": "9da8b505",
   "metadata": {},
   "source": [
    "Zum Abschluss dieses Notebooks haben wir noch eine kurze Reflexionsfrage: Welche Variante von *Barplots* bevorzugst du und warum, *Klassische Barplots*, *vertikale Barplots* oder *horizontale Barplots* oder *Lollipop Plots*? Bevorzugst du andere Varianten für (1) viele Werte und für (2) wenige Werte? Du kannst Deine Überlegungen hierzu gerne im Forum des Moduls *Datenvisualisierung I* posten."
   ]
  },
  {
   "cell_type": "markdown",
   "id": "4da90be3",
   "metadata": {},
   "source": [
    "# Literatur \n",
    "\n",
    "* https://www.data-to-viz.com\n",
    " * https://www.data-to-viz.com/#barplot\n",
    " * https://www.data-to-viz.com/#lollipop\n",
    " \n",
    "* https://www.r-graph-gallery.com/\n",
    " * https://r-graph-gallery.com/barplot.html\n",
    " * https://r-graph-gallery.com/lollipop-plot\n",
    " * https://r-graph-gallery.com/300-basic-lollipop-plot.html\n",
    " * https://r-graph-gallery.com/301-custom-lollipop-chart.html"
   ]
  }
 ],
 "metadata": {
  "hide_input": false,
  "kernelspec": {
   "display_name": "R",
   "language": "R",
   "name": "ir-datengeschichten"
  },
  "language_info": {
   "codemirror_mode": "r",
   "file_extension": ".r",
   "mimetype": "text/x-r-source",
   "name": "R",
   "pygments_lexer": "r",
   "version": "4.1.0"
  },
  "toc": {
   "base_numbering": 1,
   "nav_menu": {},
   "number_sections": true,
   "sideBar": true,
   "skip_h1_title": false,
   "title_cell": "Table of Contents",
   "title_sidebar": "Contents",
   "toc_cell": false,
   "toc_position": {
    "height": "calc(100% - 180px)",
    "left": "10px",
    "top": "150px",
    "width": "165px"
   },
   "toc_section_display": true,
   "toc_window_display": true
  }
 },
 "nbformat": 4,
 "nbformat_minor": 5
}
