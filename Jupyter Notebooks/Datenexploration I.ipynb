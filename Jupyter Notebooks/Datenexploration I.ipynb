{
 "cells": [
  {
   "cell_type": "markdown",
   "id": "3b273080",
   "metadata": {},
   "source": [
    "# Datenexploration \n",
    "   **deskriptive Statistik und einfache Datenvisualsierungen**"
   ]
  },
  {
   "cell_type": "markdown",
   "id": "8a32ee15",
   "metadata": {},
   "source": [
    "<img width=\"340\" align = \"right\" hspace=\"40\" src=\"Minden_in_MI.svg.png\"/> \n",
    "\n",
    "<div style=\"text-align: left\" style=“line-height: 150%“>\n",
    "<p></p>  \n",
    "<p>\n",
    "In diesem zweiten Jupyter Notebook aus dem Kurs „Von der Datenanalyse zur Datengeschichte - Datenanalyseergebnisse adressat:innengerecht kommunizieren“ wollen wir anhand von offenen, regionalen Daten aus der Region OWL Methoden zur Exploration eines Datensatzes zeigen. Hierzu nutzen wir Daten zur Bevölkerungsentwicklung aus der OWL-Stadt Minden.</p>\n",
    "\n",
    "\n"
   ]
  },
  {
   "cell_type": "markdown",
   "id": "bbc57af5",
   "metadata": {},
   "source": [
    "  <div class=\"pull-right\">  \n",
    "<p style=\"font-size:6px;\"> Von Hagar66 - Based upon template:<br>, \n",
    "   <a href=\"https://creativecommons.org/licenses/by-sa/3.0/\"> CC BY-SA 3.0</a> \n",
    "    <a href=\"https://upload.wikimedia.org/wikipedia/commons/0/09/Petershagen_in_MI.svg\"> Wikimedia</a> \n",
    "    </p>\n",
    "</div> "
   ]
  },
  {
   "cell_type": "markdown",
   "id": "dc86129e",
   "metadata": {},
   "source": [
    "## Dateneinlesen\n",
    "Lesen wir hierzu zunächst einen Datensatz der Stadt Minden zur Alterstruktur in Minden 2020 ein, der als csv.Datei vorliegt. Hierzu nutzen wir den Befehl \"read.csv\".\n",
    "\n",
    "**Gut zu Wissen**: Nicht alle Dateien sind mit \";\" getrennt, dann musst Du bei sep = einen anderes Trennzeichen angeben. Auch das *encoding* der Datei kann sich von unserem Beispiel unterscheiden, etwa **UTF-8**. Wenn Du beim Einlesen der Datei eine Fehlermeldung erhälst, solltest Du Dir diese beiden Parameter ansehen."
   ]
  },
  {
   "cell_type": "code",
   "execution_count": null,
   "id": "47025627",
   "metadata": {},
   "outputs": [],
   "source": [
    "## Bevölkerungsdaten aus Minden als Dataframe von Webseite einlesen\n",
    "data_Bv_Mi_2020 <- read.csv(url(\"https://www.minden.de/stadt_minden/de/B%C3%BCrger,%20Service,%20Politik/Offene%20Daten/Datens%C3%A4tze/2020_Einwohner_Alter.csv\"), header = TRUE,stringsAsFactors = FALSE, sep = ';', encoding = \"latin1\")\n",
    "\n",
    "# eingelesene Datei ansehen\n",
    "data_Bv_Mi_2020\n",
    "\n"
   ]
  },
  {
   "cell_type": "markdown",
   "id": "229a2cde",
   "metadata": {},
   "source": [
    "## Eingelesene Daten aufbereiten\n",
    "\n",
    "Mit dem angezeigten Dataframe können wir so noch nicht weiterarbeiten. Wir müssen u.a. die Spalten und Zeilen, die nur fehlende Werte \"**NA**\"\n",
    "enthalten, entfernen."
   ]
  },
  {
   "cell_type": "code",
   "execution_count": null,
   "id": "49c70abe",
   "metadata": {},
   "outputs": [],
   "source": [
    "# den für die weiteren Berechnungen benötigten Teil des Datensatzes auswählen\n",
    "data_Bv_Mi_2020_Teil <- data_Bv_Mi_2020[1:105 ,1:5]\n",
    "\n",
    "data_Bv_Mi_2020_Teil\n",
    "\n",
    "\n",
    "\n",
    "\n"
   ]
  },
  {
   "cell_type": "markdown",
   "id": "23f12bc4",
   "metadata": {},
   "source": [
    "Den so bereinigten Datensatz zur Altersstruktur der Bevölkerung in Minden möchten wir nun näher beschreiben. Hierzu werden nutzen wir **Lage- und Streungsmaße**."
   ]
  },
  {
   "cell_type": "code",
   "execution_count": null,
   "id": "fc9d5e34",
   "metadata": {},
   "outputs": [],
   "source": [
    "## weitere Datenbereinigung\n",
    "\n",
    "# da Alter als noch als chr definiert ist, muss Alter in int umgewandelt werden\n",
    "data_Bv_Mi_2020_Teil$Alter <- as.integer(data_Bv_Mi_2020_Teil$Alter)\n",
    "\n",
    "# Dataframe nur mit Alter und Gesamt Einwohner:innen erzeugen\n",
    "Alter_Mi_Gesamt <- data.frame(data_Bv_Mi_2020_Teil$Alter, data_Bv_Mi_2020_Teil$Gesamt)\n",
    "\n",
    "# Dataframe nach Gesamt Einwohner:innen mit absteigender Reihenfolge sortieren\n",
    "Alter_Mi_Sortiert <-  Alter_Mi_Gesamt[order(-data_Bv_Mi_2020_Teil$Gesamt),]\n",
    "\n",
    "# neuen sortieren Dataframe ansehen\n",
    "Alter_Mi_Sortiert\n",
    "\n",
    "\n",
    "\n"
   ]
  },
  {
   "cell_type": "markdown",
   "id": "3c970420",
   "metadata": {},
   "source": [
    "# Lage- und Streuungsmaße"
   ]
  },
  {
   "cell_type": "markdown",
   "id": "93b3b489",
   "metadata": {},
   "source": [
    "## Lagemaße\n",
    "*Lagemaße* geben Auskunft über die **zentrale Tendenz** einer Verteilung."
   ]
  },
  {
   "cell_type": "markdown",
   "id": "105a9523",
   "metadata": {},
   "source": [
    " ### Modus"
   ]
  },
  {
   "cell_type": "markdown",
   "id": "9c9fd131",
   "metadata": {},
   "source": [
    "Der **Modus (Modalwert)** ist der Messwert, der in der Verteilung der Messwerte am häufigsten vorkommt. Oder anders ausgedrückt die Merkmalsausprägung, die am häufigsten ist. Kommen zwei Werte gleich häufig vor kann, das *arithmetische Mittel* aus beiden Werten als *Modus* bestimmt werden.\n",
    "\n",
    "* kann für alle Skaleniveaus (*Nominalskala, Ordinalskala, Intervallskala, Verhältnisskala, Absolutskala*) berechnet werden\n",
    "* eher unempfindlich gegenüber Extremwerten (Ausreißern) \n",
    "* niedriger Informationsgehalt"
   ]
  },
  {
   "cell_type": "markdown",
   "id": "6aa9c941",
   "metadata": {},
   "source": [
    "**Gut zu Wissen**: im Gegensatz zu Median und Modus gibt es in R keine einfache Funktion zur Berechnung des Modus (engl. mode). Die Funktion *mode* gibt die Speicherart des R-Objects wieder nicht den Modus. Eine Möglichkeit um den *Modus* zu bestimmen bietet die Funktion **table()**.\n",
    "\n",
    "Sie gibt uns die Häufigkeiten des entsprechenenden Vektors aus. Wir können nun den **Modus** als häufigsten Wert ablesen:"
   ]
  },
  {
   "cell_type": "markdown",
   "id": "833117fe",
   "metadata": {},
   "source": [
    "Da wir den Dataframe **Alter_Mi_Sortiert** bereits nach der absteigenden Anzahl der Gesamtanzahl der Einwohner:innen sortiert haben, können wir den Modus bereits einfach ohne die Table-Funktion ablesen:\n",
    "\n"
   ]
  },
  {
   "cell_type": "markdown",
   "id": "ffd577b7",
   "metadata": {},
   "source": [
    "<img width=\"440\" align = \"center\" src=\"Tabelle_Mi.png\"/> "
   ]
  },
  {
   "cell_type": "markdown",
   "id": "2fa0c619",
   "metadata": {},
   "source": [
    "Hier können wir ablesen, das der Modus des Alters der Mindener Einwohner:innen 57 ist."
   ]
  },
  {
   "cell_type": "markdown",
   "id": "0a7708c2",
   "metadata": {},
   "source": [
    "Nun lassen wir uns einmal die Einwohner:innenzahl nach Alter plotten."
   ]
  },
  {
   "cell_type": "code",
   "execution_count": null,
   "id": "2686b1de",
   "metadata": {},
   "outputs": [],
   "source": [
    "plot(Alter_Mi_Gesamt)"
   ]
  },
  {
   "cell_type": "code",
   "execution_count": null,
   "id": "d0dd1cdf",
   "metadata": {},
   "outputs": [],
   "source": [
    "# bessere Abbildung erzeugen\n",
    "\n",
    "plot(data_Bv_Mi_2020_Teil$Gesamt ~ jitter(data_Bv_Mi_2020_Teil$Alter),   # jitter, so dass alle Punkte zu sehen sind\n",
    "     data= Alter_Mi_Gesamt,  \n",
    "     pch = 16,                 # Punktform\n",
    "     cex = 1.0,                # Punktgröße\n",
    "     xlab=\"Alter\",             # Beschriftung x-Achse \n",
    "     ylab=\"Einwohner:innenzahl Gesamt\")# Beschriftung y-Achse\n",
    "\n",
    "\n"
   ]
  },
  {
   "cell_type": "markdown",
   "id": "1474e2a1",
   "metadata": {},
   "source": [
    "### Median\n"
   ]
  },
  {
   "cell_type": "markdown",
   "id": "76933e9a",
   "metadata": {},
   "source": [
    "* Messwert, der die aufsteigend angeordneten Messwerte in der Mitte teilt\n",
    "* 50% aller Werte liegen oberhalb des Medians, 50% liegen unterhalb des Medians\n",
    "* bei einer ungeraden Anzahl von Messwerten gibt es genau einen Wert, der diese Bedingung erfüllt\n",
    "\n",
    "* bei einer geraden Anzahl von Werten wird das arithmetische Mittel aus den beiden mittleren Werten gebildet\n",
    "\n",
    "* berücksichtigt alle Messwerte und ist robust gegen Ausreißer\n",
    "* ab Ordinalskalenniveau bestimmbar\n",
    "\n",
    "Die R-function zur Berechnung des Medians lautet **median()**.\n"
   ]
  },
  {
   "cell_type": "code",
   "execution_count": null,
   "id": "cba82923",
   "metadata": {},
   "outputs": [],
   "source": [
    "# vector d_Mi erstellen, der die Alterstufen entsprechend der Anzahl der Einwohner:innen enthält\n",
    "d_Mi <- rep(data_Bv_Mi_2020_Teil$Alter,data_Bv_Mi_2020_Teil$Gesamt) \n",
    "\n",
    "\n",
    "# Berechnung des Medians\n",
    "median(d_Mi)\n",
    "\n",
    "\n"
   ]
  },
  {
   "cell_type": "markdown",
   "id": "16251138",
   "metadata": {},
   "source": [
    "Der Altersmedian in Minden 2020 beträgt somit 45 Jahre."
   ]
  },
  {
   "cell_type": "markdown",
   "id": "3cec7cda",
   "metadata": {},
   "source": [
    "### Mittelwert (arithmetisches Mittel)"
   ]
  },
  {
   "cell_type": "markdown",
   "id": "3156ade7",
   "metadata": {},
   "source": [
    "* Durchschnittswert, der stellvertretend für die Verteilung steht\n",
    "* **Prinzip**: alle Werte werden aufsummiert, dann wird durch die Zahl der Fälle geteilt\n",
    "* Empfindlich gegen Ausreißer: Extremwerte lassen arithmetisches Mittel sinken oder steigen. (*Modus* und *Median* bleiben hingegen robust.)\n",
    "* Erfordert *Intervall*- oder *Verhältnisskalenniveau* \n",
    "\n",
    "Die R-function zur Berechnung des Mittelwerts lautet **Mittelwert()**.\n"
   ]
  },
  {
   "cell_type": "code",
   "execution_count": null,
   "id": "72cd1e67",
   "metadata": {},
   "outputs": [],
   "source": [
    "# Berechnung des Mittelwerts\n",
    "\n",
    "mean(d_Mi)"
   ]
  },
  {
   "cell_type": "markdown",
   "id": "64332de7",
   "metadata": {},
   "source": [
    "Der Altersmittelwert in Minden 2020 beträgt somit 43.7 Jahre."
   ]
  },
  {
   "cell_type": "markdown",
   "id": "5a5d3576",
   "metadata": {},
   "source": [
    "## Streuungsmaße"
   ]
  },
  {
   "cell_type": "markdown",
   "id": "fecc4c33",
   "metadata": {},
   "source": [
    "*Streuungsmaße* geben Auskunft darüber, wie homogen oder heterogen eine Verteilung ist. Sie helfen, zu verstehen wie (weit) die Werte um den Mittelwert streuen.\n",
    "\n",
    "Zentrale Streunungmaße sind:\n",
    "\n",
    "* Spannweite\n",
    "* Varianz\n",
    "* Standardabweichung"
   ]
  },
  {
   "cell_type": "markdown",
   "id": "0fb0727e",
   "metadata": {},
   "source": [
    "### Spannweite"
   ]
  },
  {
   "cell_type": "markdown",
   "id": "8bfbced6",
   "metadata": {},
   "source": [
    "* die *Spannweite* (range; Variationsbreite) ist das einfachste Streuungsmaß\n",
    "* wird als Differenz zwischen größtem (max) und kleinstem Messwert (min) gebildet\n",
    "* kann direkt aus der Verteilung abgelesen werden\n",
    "* basiert auf lediglich zwei Messdaten\n",
    "* wertet nur einen Bruchteil der Daten aus; hat daher insgesamt eher wenig Aussagekraft \n",
    "* extrem anfällig für Ausreißer"
   ]
  },
  {
   "cell_type": "code",
   "execution_count": null,
   "id": "e1f6a4ff",
   "metadata": {},
   "outputs": [],
   "source": [
    "#Wertebereich: Spannweite muss selbst berechnet werden\n",
    "range (d_Mi) \n",
    "\n",
    "#oder\n",
    "#zeigt die Spannweite direkt an\n",
    "diff (range (d_Mi)) \n",
    "\n",
    "#Achtung: Sollten einmal Werte für eine Variable in einer Datenmatrix fehlen, dann erweitern sich die Befehle um den Ausdruck na.rm=TRUE zu:\n",
    "\n",
    "#range (d_Mi, na.rm=TRUE)"
   ]
  },
  {
   "cell_type": "markdown",
   "id": "82db6aa6",
   "metadata": {},
   "source": [
    "Der Alterwertebereich in Minden 2020 beträgt also 0 bis 105 Jahre. Die Spannweite beträgt somit 105 Jahre."
   ]
  },
  {
   "cell_type": "markdown",
   "id": "d0f99fa8",
   "metadata": {},
   "source": [
    "### Varianz"
   ]
  },
  {
   "cell_type": "markdown",
   "id": "daae9918",
   "metadata": {},
   "source": [
    "* quantitatives Maß für die Unterschiedlichkeit (Variabilität) von Messwerten\n",
    "* gibt an, wie stark eine Verteilung um ihren Mittelwert streut\n",
    "* die Varianz entspricht der durchschnittlichen quadrierten Abweichung der Messwerte von ihrem Mittelwert. *Wie stark weichen die Messwerte vom Mittelwert im Durchschnitt ab?*\n",
    "* Sind alle Messwerte identisch, dann nimmt die Varianz den Wert 0 an. D.h. 0 = keine Varianz; keine Streuung\n",
    "* die Varianz wird auch als durchschnittliches Abweichungsquadrat bezeichnet\n",
    "* durch das Quadrieren wird die inhaltliche Intepretation der Ergbnisse schwierig\n",
    "* Maßeinheit geht durch das Quadrieren verloren \n",
    "* um aus der Varianz eine lineare Maßzahl zu erreichen, zieht man aus der Varianz die Quadratwurzel und erhält die *Standardabweichung*"
   ]
  },
  {
   "cell_type": "code",
   "execution_count": null,
   "id": "a0e40b45",
   "metadata": {},
   "outputs": [],
   "source": [
    "# Berechung der Varianz\n",
    "var(d_Mi)"
   ]
  },
  {
   "cell_type": "markdown",
   "id": "2c72983b",
   "metadata": {},
   "source": [
    "Die Varianz der Altersverteilung in Minden 2020 beträgt also 578.41."
   ]
  },
  {
   "cell_type": "markdown",
   "id": "4d65d42b",
   "metadata": {},
   "source": [
    "### Standardabweichung"
   ]
  },
  {
   "cell_type": "markdown",
   "id": "b6ad955c",
   "metadata": {},
   "source": [
    "* die Standardabweichung ist die Quadratwurzel aus der Varianz \n",
    "* dieser Wert kann wieder im Sinne der Rohdaten interpretiert werden\n",
    "* drückt die Streuung in der Maßeinheit der Daten aus\n",
    "* ist ein Maß dafür, wie gut der Mittelwert die Daten repräsentiert\n",
    "* es gibt jedoch keine einheitliche Klassifikation für die Einschätzung der Standardabweichung\n"
   ]
  },
  {
   "cell_type": "code",
   "execution_count": null,
   "id": "4703a17a",
   "metadata": {},
   "outputs": [],
   "source": [
    "# Berechnung der Standardabweichung\n",
    "sd(d_Mi)"
   ]
  },
  {
   "cell_type": "markdown",
   "id": "efa7779b",
   "metadata": {},
   "source": [
    "Die Standardabweichung der Alterverteilung in Minden 2020 beträgt also 24.05 Jahre."
   ]
  },
  {
   "cell_type": "markdown",
   "id": "d9a9f7a3",
   "metadata": {},
   "source": [
    "# Übung Lage- und Streuungsmaße"
   ]
  },
  {
   "cell_type": "markdown",
   "id": "c75958f6",
   "metadata": {},
   "source": [
    "Schauen wir uns nun die Daten zu den 5 staatlichen Hochschulen in OWL an. (https://www.campus-owl.eu/die-fuenf-hochschulen):\n",
    "\n",
    "**Studierende (ohne Gasthörer, Stand WS 20/21):**\n",
    "\n",
    "* **Universität Bielefeld**: 24.940\n",
    "* **Universität Paderborn**: 19.948\n",
    "* **Fachhochschule Bielefeld**: 11.005\n",
    "* **Technische Hochschule Ostwestfalen-Lippe**: 6.564\n",
    "* **Hochschule für Musik Detmold**: 767\n"
   ]
  },
  {
   "cell_type": "markdown",
   "id": "8d671ca7",
   "metadata": {},
   "source": [
    "**Übung 1**\n",
    "\n",
    "Erzeuge aus den obengenannten Daten zwei Vektoren: a) einen Textvektor **Hochschule** mit Hochschulname und b)\n",
    "einen numerischen Vektor **Stud_Zahl** mit der Studierendenanzahl."
   ]
  },
  {
   "cell_type": "code",
   "execution_count": null,
   "id": "f80cb74c",
   "metadata": {
    "solution2": "hidden",
    "solution2_first": true
   },
   "outputs": [],
   "source": []
  },
  {
   "cell_type": "code",
   "execution_count": null,
   "id": "b9988f03",
   "metadata": {
    "solution2": "hidden"
   },
   "outputs": [],
   "source": [
    "## Lösungsvorschlag\n",
    "Hochschule <- c(\"Universität Bielefeld\",\"Universität Paderborn\",\"Fachschule Bielefeld\",\n",
    "               \"Technische Hochschule Ostwestfalen-Lippe\", \"Hochschule für Musik Detmold\")\n",
    "\n",
    "Hochschule"
   ]
  },
  {
   "cell_type": "code",
   "execution_count": null,
   "id": "fac1662b",
   "metadata": {
    "solution2": "hidden",
    "solution2_first": true
   },
   "outputs": [],
   "source": []
  },
  {
   "cell_type": "code",
   "execution_count": null,
   "id": "478abce7",
   "metadata": {
    "solution2": "hidden"
   },
   "outputs": [],
   "source": [
    "## Lösungsvorschlag\n",
    "Stud_Zahl <- c(24940,19948,11005,6564, 767)"
   ]
  },
  {
   "cell_type": "markdown",
   "id": "db8ffc2d",
   "metadata": {},
   "source": [
    "Erzeuge nun aus beiden Vektoren einen Dataframe:"
   ]
  },
  {
   "cell_type": "code",
   "execution_count": null,
   "id": "075afbc7",
   "metadata": {
    "solution2": "hidden",
    "solution2_first": true
   },
   "outputs": [],
   "source": []
  },
  {
   "cell_type": "code",
   "execution_count": null,
   "id": "3846f4b6",
   "metadata": {
    "solution2": "hidden"
   },
   "outputs": [],
   "source": [
    "## Lösungsvorschlag\n",
    "\n",
    "Stud_OWL <-data.frame(Hochschule, Stud_Zahl)\n",
    "str(Stud_OWL) # Dataframe inspizieren"
   ]
  },
  {
   "cell_type": "markdown",
   "id": "31e8467e",
   "metadata": {},
   "source": [
    "**Übung** 2 berechne den  *Median* und den *Mittelwert* der Studierendenanzahl:"
   ]
  },
  {
   "cell_type": "code",
   "execution_count": null,
   "id": "1b81ad18",
   "metadata": {
    "solution2": "hidden",
    "solution2_first": true
   },
   "outputs": [],
   "source": []
  },
  {
   "cell_type": "code",
   "execution_count": null,
   "id": "5336facd",
   "metadata": {
    "scrolled": true,
    "solution2": "hidden"
   },
   "outputs": [],
   "source": [
    "##Lösungsvorschlag\n",
    "median(Stud_OWL$Stud_Zahl)\n",
    "\n",
    "mean(Stud_OWL$Stud_Zahl)"
   ]
  },
  {
   "cell_type": "markdown",
   "id": "3d46c52c",
   "metadata": {},
   "source": [
    "**Übung** 3 berechne die *Varianz* und die *Standardabweichung* der Studierendenanzahl:"
   ]
  },
  {
   "cell_type": "code",
   "execution_count": null,
   "id": "6daa169f",
   "metadata": {
    "solution2": "hidden",
    "solution2_first": true
   },
   "outputs": [],
   "source": []
  },
  {
   "cell_type": "code",
   "execution_count": null,
   "id": "bf19ee36",
   "metadata": {
    "solution2": "hidden"
   },
   "outputs": [],
   "source": [
    "##Lösungsvorschlag\n",
    "var(Stud_OWL$Stud_Zahl)\n",
    "\n",
    "sd(Stud_OWL$Stud_Zahl)"
   ]
  },
  {
   "cell_type": "code",
   "execution_count": null,
   "id": "ece22ec6",
   "metadata": {},
   "outputs": [],
   "source": []
  }
 ],
 "metadata": {
  "hide_input": false,
  "kernelspec": {
   "display_name": "R",
   "language": "R",
   "name": "ir-datengeschichten"
  },
  "language_info": {
   "codemirror_mode": "r",
   "file_extension": ".r",
   "mimetype": "text/x-r-source",
   "name": "R",
   "pygments_lexer": "r",
   "version": "4.1.0"
  },
  "toc": {
   "base_numbering": 1,
   "nav_menu": {},
   "number_sections": true,
   "sideBar": true,
   "skip_h1_title": false,
   "title_cell": "Table of Contents",
   "title_sidebar": "Contents",
   "toc_cell": false,
   "toc_position": {},
   "toc_section_display": true,
   "toc_window_display": true
  }
 },
 "nbformat": 4,
 "nbformat_minor": 5
}
