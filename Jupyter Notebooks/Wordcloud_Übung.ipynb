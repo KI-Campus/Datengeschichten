{
 "cells": [
  {
   "cell_type": "markdown",
   "id": "372386b3",
   "metadata": {
    "deletable": false,
    "editable": false,
    "run_control": {
     "frozen": true
    }
   },
   "source": [
    "# Quantitative Textanalyse - *Word Clouds* Übung"
   ]
  },
  {
   "cell_type": "markdown",
   "id": "a0360fe2",
   "metadata": {},
   "source": [
    "Nachdem wir uns angesehen haben, wie die *Word Cloud* zum Wikipedia Artikel der Stadt Bielefeld aussieht, steht nun eine andere Stadt aus OWL im Fokus: **Paderborn**.\n",
    "\n",
    "Hier geht es jetzt natürlich nicht um Lokalrivalitäten, wie im Fußball zwischen *Arminia Bielefeld* und dem *SC Paderborn 07*. Uns interessiert vielmehr, wie sich die Word Clouds der beiden ostwestfälischen Zentren Bielefeld und Paderborn unterscheiden. Wie sieht die thematische Gewichtung in den jeweiligen Word Clouds aus? Gibt es Unterschiede und Gemeinsamkeiten bei der Betrachtung der Wikipediaartikel über die Visualisierungform der Word Cloud?\n",
    "\n",
    "Um das zu untersuchen, bist du jetzt gefragt. Im Folgenden kannst du mit Hilfe von \"R\" eine Word Cloud zum Wikipediaeintrag der Stadt Paderborn erstellen, so wie wir es gemeinsam schon zur Stadt Bielefeld gemacht haben. Den Beitrag der Stadt Paderborn greifst du hierzu bitte direkt über den Online Wikipediaeintrag der Stadt Paderborn ab (https://de.wikipedia.org/wiki/Paderborn)."
   ]
  },
  {
   "cell_type": "markdown",
   "id": "f4f17fb4",
   "metadata": {},
   "source": [
    "## Script für die Word Cloud - Pakete\n",
    "Hier installieren und laden wir die nötigen Pakte zum Erstellen der Word Cloud.\n",
    "\n"
   ]
  },
  {
   "cell_type": "code",
   "execution_count": null,
   "id": "fde91fad",
   "metadata": {
    "solution2": "hidden",
    "solution2_first": true
   },
   "outputs": [],
   "source": [
    "#Platz für Dein Script\n",
    "#Lösungsvorschlag"
   ]
  },
  {
   "cell_type": "code",
   "execution_count": null,
   "id": "1308f4e0",
   "metadata": {
    "solution2": "hidden"
   },
   "outputs": [],
   "source": [
    "# Lösungsvorschlag\n",
    "# Installieren der Pakete die zum  Erstellen einer Word Cloud benötigt werden\n",
    "# install.packages(\"rvest\")\n",
    "# install.packages(\"dplyr\")\n",
    "# install.packages(\"htmltools\")\n",
    "# install.packages(\"tm\")\n",
    "# install.packages(\"SnowballC\")\n",
    "# install.packages(\"RColorBrewer\")\n",
    "# install.packages(\"stringi\")\n",
    "# install.packages(\"magrittr\")  \n",
    "# install.packages(\"ggplot2\")\n",
    "# install.packages(\"xml2\")\n",
    "# install.packages(\"wordcloud\")\n",
    "# install.packages(\"wordcloud2\")\n",
    "\n",
    "\n",
    "\n",
    "#laden benötigte Pakete\n",
    "library(\"rvest\")\n",
    "library(\"dplyr\")\n",
    "library(\"htmltools\")\n",
    "library(\"tm\")\n",
    "library(\"SnowballC\")\n",
    "library(\"RColorBrewer\")\n",
    "library(\"stringi\")\n",
    "library(\"magrittr\")     \n",
    "library(\"ggplot2\")\n",
    "library(\"xml2\")\n",
    "library(\"wordcloud\")\n",
    "library(\"wordcloud2\")"
   ]
  },
  {
   "cell_type": "markdown",
   "id": "305d43ce",
   "metadata": {
    "deletable": false,
    "editable": false
   },
   "source": [
    "## Script für die Word Cloud: Website einlesen\n",
    "An dieser Stelle greifen wir auf den Wikipedia Artikel der Stadt Paderborn zu. (https://de.wikipedia.org/wiki/Paderborn) \n"
   ]
  },
  {
   "cell_type": "code",
   "execution_count": null,
   "id": "9f066dca",
   "metadata": {
    "solution2": "hidden",
    "solution2_first": true
   },
   "outputs": [],
   "source": [
    "#Platz für Dein Script\n"
   ]
  },
  {
   "cell_type": "code",
   "execution_count": null,
   "id": "90072bc9",
   "metadata": {
    "solution2": "hidden"
   },
   "outputs": [],
   "source": [
    "# Lösungsvorschlag\n",
    "# Abrufen des Wikipedia Artikels der Stadt Paderborn über die URL \n",
    "Wiki_Pb_Eintrag <- \"https://de.wikipedia.org/wiki/Paderborn\"\n",
    "\n",
    "\n",
    "Wiki_Pb_html <- read_html(Wiki_Pb_Eintrag)\n",
    "\n",
    "Wiki_Pb_html\n",
    "str(Wiki_Pb_html)\n"
   ]
  },
  {
   "cell_type": "markdown",
   "id": "10294368",
   "metadata": {
    "deletable": false,
    "editable": false
   },
   "source": [
    "## Script für die Word Cloud: Textelemente auslesen\n",
    "Hier extrahieren wir die benötigten Textelemente aus der Website. Wie sich der Quellcode auslesen lässt, kannst du auch nochmal im Beispiel zur Stadt Bielefeld nachlesen. \n",
    "\n",
    "Um zu überprüfen, ob der Text richtig eingelesen wurde, kannst du ihn dir auch nochmal ausgeben lassen. "
   ]
  },
  {
   "cell_type": "code",
   "execution_count": null,
   "id": "3061a365",
   "metadata": {
    "solution2": "hidden",
    "solution2_first": true
   },
   "outputs": [],
   "source": [
    "#Platz für Dein Script\n"
   ]
  },
  {
   "cell_type": "code",
   "execution_count": null,
   "id": "c015cf41",
   "metadata": {
    "solution2": "hidden"
   },
   "outputs": [],
   "source": [
    "# Lösungsvorschlag\n",
    "# Einlesen des Inhaltes / Textes --> über den Parameter .mw-parser-output kann der Inhalt abgegriffen werden\n",
    "\n",
    "\n",
    "Wiki_Pb_Text <-(Wiki_Pb_html %>%\n",
    "                  html_nodes(\".mw-parser-output\") %>%\n",
    "                  html_text())\n",
    "\n",
    "#Ausgabe des Textes zur Überprüfung\n",
    "Wiki_Pb_Text\n",
    "\n",
    "\n",
    "#Ausgabe des Textes in Zeilen, das ist wesentlich übersichtlicher\n",
    "writeLines(Wiki_Pb_Text)\n",
    "\n"
   ]
  },
  {
   "cell_type": "markdown",
   "id": "af8f23e5",
   "metadata": {
    "deletable": false,
    "editable": false,
    "run_control": {
     "frozen": true
    }
   },
   "source": [
    "## Script für die Word Cloud: Ausgabe in Textdatei\n",
    "Zur weiteren Bearbeitung, speichern wir in R die ausgelesen Textelemente in einer .txt-Datei.\n"
   ]
  },
  {
   "cell_type": "code",
   "execution_count": null,
   "id": "38e49507",
   "metadata": {
    "solution2": "hidden",
    "solution2_first": true
   },
   "outputs": [],
   "source": [
    "#Platz für Dein Script"
   ]
  },
  {
   "cell_type": "code",
   "execution_count": null,
   "id": "64ab2e9a",
   "metadata": {
    "solution2": "hidden"
   },
   "outputs": [],
   "source": [
    "# Lösungsvorschlag\n",
    "# Ausgabe/Exportierung des (Tabllen-)Objektes mit Titel und Beschreibung in einer Textdatei (.txt)\n",
    "# Beachte wo Dein Working Directory ist - Klicke, wenn du dir unsicher bist auf Files dann auf das kleine blaue Zahnrad,\n",
    "# dort kannst du nachschauen und optional das Working Directory auch umstellen\n",
    "\n",
    "write.table(Wiki_Pb_Text, \"Wiki_Pb_Download.txt\", sep = \"\\n\", row.names = FALSE, na = \"\")\n"
   ]
  },
  {
   "cell_type": "markdown",
   "id": "d287b9ba",
   "metadata": {
    "deletable": false,
    "editable": false,
    "run_control": {
     "frozen": true
    }
   },
   "source": [
    "## Script für die Word Cloud - Einlesen der erstellten Textdatei und zusammenfassen\n",
    "Die Textdatei muss in R eingelesen und in einen Korpus eingebunden werden.\n"
   ]
  },
  {
   "cell_type": "code",
   "execution_count": null,
   "id": "f5e42383",
   "metadata": {
    "solution2": "hidden",
    "solution2_first": true
   },
   "outputs": [],
   "source": [
    "#Platz für Dein Script"
   ]
  },
  {
   "cell_type": "code",
   "execution_count": null,
   "id": "c263ebcb",
   "metadata": {
    "solution2": "hidden"
   },
   "outputs": [],
   "source": [
    "# Lösungsvorschlag\n",
    "# Einlesen des Textes Zeile für Zeile\n",
    "Wiki_Pb_down <- stri_read_lines(\"Wiki_Pb_Download.txt\")\n",
    "\n",
    "\n",
    "\n",
    "# Daten als Korpus laden \n",
    "doku_Pb_down <- Corpus(VectorSource(Wiki_Pb_down))"
   ]
  },
  {
   "cell_type": "markdown",
   "id": "48de3c96",
   "metadata": {
    "deletable": false,
    "editable": false,
    "run_control": {
     "frozen": true
    }
   },
   "source": [
    "## Script für die Word Cloud - Stop Words und weitere Aufbereitung\n",
    "Hier geht es jetzt an die erste Aufbereitung des Textes.\n"
   ]
  },
  {
   "cell_type": "code",
   "execution_count": null,
   "id": "8ba3a795",
   "metadata": {
    "solution2": "hidden",
    "solution2_first": true
   },
   "outputs": [],
   "source": [
    "# Platz für Dein Script"
   ]
  },
  {
   "cell_type": "code",
   "execution_count": null,
   "id": "121991b0",
   "metadata": {
    "solution2": "hidden"
   },
   "outputs": [],
   "source": [
    "# Lösungsvorschlag\n",
    "# alle Großbuchstaben werden zu Kleinbuchstaben \n",
    "doku_Pb_down <- tm_map(doku_Pb_down, content_transformer(tolower))\n",
    "\n",
    "\n",
    "# Stoppwörter entfernen z.B. der, die, das, und usw. Deutsch und Englisch\n",
    "doku_Pb_down <- tm_map(doku_Pb_down, removeWords, stopwords(\"english\"))\n",
    "doku_Pb_down <- tm_map(doku_Pb_down, removeWords, stopwords(\"german\"))\n",
    "\n",
    "# Zahlen entfernen\n",
    "doku_Pb_down <- tm_map(doku_Pb_down, removeNumbers)\n",
    "\n",
    "# Überschüssige Leerzeichen entfernen\n",
    "doku_Pb_down <- tm_map(doku_Pb_down, stripWhitespace)\n",
    "\n",
    "# Zeichensetzung entfernen\n",
    "doku_Pb_down <- tm_map(doku_Pb_down, removePunctuation)\n",
    "\n",
    "# Text aufbereiten entfernen von Sonderzeichen\n",
    "sonder_z <- content_transformer(function (x , pattern ) gsub(\"\\u2013\", \" \", x))\n",
    "doku_Pb_down <- tm_map(doku_Pb_down, sonder_z, \"/\")\n",
    "doku_Pb_down <- tm_map(doku_Pb_down, sonder_z, \"@\")\n",
    "doku_Pb_down <- tm_map(doku_Pb_down, sonder_z, \"\\\\|\")\n",
    "doku_Pb_down <- tm_map(doku_Pb_down, sonder_z, \"–\") \n",
    "doku_Pb_down <- tm_map(doku_Pb_down, sonder_z, \"↑\")                               \n",
    "\n",
    "\n"
   ]
  },
  {
   "cell_type": "markdown",
   "id": "f7730bc2",
   "metadata": {
    "deletable": false,
    "editable": false,
    "run_control": {
     "frozen": true
    }
   },
   "source": [
    "## Script für die Word Cloud - Matrix anlegen und sortierten, Datensatz erstellen\n",
    "\n",
    "Mit den aufbereiteten Daten erstellen wir jetzt die Matrix auf deren Basis die Word Cloud erstellt werden kann.\n"
   ]
  },
  {
   "cell_type": "code",
   "execution_count": null,
   "id": "a01e282c",
   "metadata": {
    "solution2": "hidden",
    "solution2_first": true
   },
   "outputs": [],
   "source": [
    "#Platz für Dein Script\n"
   ]
  },
  {
   "cell_type": "code",
   "execution_count": null,
   "id": "afe803af",
   "metadata": {
    "solution2": "hidden"
   },
   "outputs": [],
   "source": [
    "# Lösungsvorschlag\n",
    "# Hier wird eine Matrix angelegt, die die Häufigkeit der Begriffe aus den Texten darstellt\n",
    "doku_matrix_Pb_down <- TermDocumentMatrix(doku_Pb_down)\n",
    "matrix_Pb_down <- as.matrix(doku_matrix_Pb_down)\n",
    "vektor_Pb_down <- sort(rowSums(matrix_Pb_down),decreasing = TRUE)\n",
    "daten_Pb_down <- data.frame(word = names(vektor_Pb_down),freq = vektor_Pb_down)\n",
    "\n"
   ]
  },
  {
   "cell_type": "markdown",
   "id": "3cebc1ba",
   "metadata": {},
   "source": [
    "# Script für die Word Cloud - Word Cloud\n",
    "Hier erstellen wir die erste Version der Word Cloud. Denk daran, dass es sinnvoll ist, dass die Word Cloud reproduzierbar ist. \n"
   ]
  },
  {
   "cell_type": "code",
   "execution_count": null,
   "id": "e5000459",
   "metadata": {
    "solution2": "hidden",
    "solution2_first": true
   },
   "outputs": [],
   "source": [
    "#Platz für Dein Script\n"
   ]
  },
  {
   "cell_type": "code",
   "execution_count": null,
   "id": "dd1a5b79",
   "metadata": {
    "solution2": "hidden"
   },
   "outputs": [],
   "source": [
    "# Lösungsvorschlag\n",
    "# Festlegen einer \"Vorlage\" für die Word Cloud, damit diese reproduziert werden kann und nicht\n",
    "# bei jeder Erstellung zufällig erstellt wird\n",
    "set.seed(4321)\n",
    "\n",
    "\n",
    "# Erstellen der Word Cloud - die Wörter mit der größten Häufigkeit (freq) werden am größten dargestellt\n",
    "# die minimale Häufigkeit damit ein Wort dargestellt wird ist 1\n",
    "# die Word Cloud besteht aus max. 100 Woertern (max.Words)\n",
    "# die Anordnung ist nicht zufaellig\n",
    "# rot.per --> legt fest welcher Anteil an Woertern nicht waagerecht dargestellt wird\n",
    "wordcloud_PB <- wordcloud(words = daten_Pb_down$word, freq = daten_Pb_down$freq,scale = c(8,1),min.freq = 1,\n",
    "          max.words = 100, random.order = FALSE, rot.per = 0.40, \n",
    "          colors = brewer.pal(8, \"Dark2\"))"
   ]
  },
  {
   "cell_type": "markdown",
   "id": "7a60cef3",
   "metadata": {},
   "source": [
    "## Script für die Word Cloud - Aufbereiten II\n",
    "Jetzt kannst du mit Hilfe der ersten Word Cloud erkennen, welche Wörter sinnvoller Weise als eigene Stoppwörter definiert werden sollten. (Hier kann sich unsere Lösung auch von deiner Lösung unterscheiden, da du wohlmöglich andere Stopp-Wörter definiert hast als wir).\n"
   ]
  },
  {
   "cell_type": "code",
   "execution_count": null,
   "id": "838f67a2",
   "metadata": {
    "solution2": "hidden",
    "solution2_first": true
   },
   "outputs": [],
   "source": [
    "#Platz für Dein Script\n"
   ]
  },
  {
   "cell_type": "code",
   "execution_count": null,
   "id": "a5bec54a",
   "metadata": {
    "solution2": "hidden"
   },
   "outputs": [],
   "source": [
    "# Lösungsvorschlag\n",
    "# alle Großbuchstaben werden zu Kleinbuchstaben \n",
    "doku_Pb_down <- tm_map(doku_Pb_down, content_transformer(tolower))\n",
    "\n",
    "\n",
    "\n",
    "#Stoppwörter entfernen z.B. der, die, das, und usw. Deutsch und Englisch\n",
    "doku_Pb_down <- tm_map(doku_Pb_down, removeWords, stopwords(\"english\"))\n",
    "doku_Pb_down <- tm_map(doku_Pb_down, removeWords, stopwords(\"german\"))\n",
    "\n",
    "#Zahlen entfernen\n",
    "doku_Pb_down <- tm_map(doku_Pb_down, removeNumbers)\n",
    "\n",
    "#Überschüssige Leerzeichen entfernen\n",
    "doku_Pb_down <- tm_map(doku_Pb_down, stripWhitespace)\n",
    "\n",
    "#Zeichensetzung entfernen\n",
    "doku_Pb_down <- tm_map(doku_Pb_down, removePunctuation)\n",
    "\n",
    "#Text aufbereiten entfernen von Sonderzeichen\n",
    "sonder_z <- content_transformer(function (x , pattern ) gsub(\"\\u2013\", \" \", x))\n",
    "doku_Pb_down <- tm_map(doku_Pb_down, sonder_z, \"/\")\n",
    "doku_Pb_down <- tm_map(doku_Pb_down, sonder_z, \"@\")\n",
    "doku_Pb_down <- tm_map(doku_Pb_down, sonder_z, \"\\\\|\")\n",
    "doku_Pb_down <- tm_map(doku_Pb_down, sonder_z, \"–\") \n",
    "doku_Pb_down <- tm_map(doku_Pb_down, sonder_z, \"↑\")                               \n",
    "                               \n",
    "\n",
    "\n",
    "#Definieren von eigenen Stoppwoertern\n",
    "doku_Pb_down <- tm_map(doku_Pb_down, removeWords, c(\n",
    "  \"wurde\", \"sowie\", \"wurden\", \"seit\", \"heute\", \"heut\", \"teil\", \"befindet\", \"weiter\", \"erst\", \"etwa\", \"rund\", \n",
    "  \"gibt\", \"liegt\", \"zwei\", \"statt\", \"weitere\", \"finden\", \"erste\", \"abgerufen\",\"isbn\", \"bearbeiten\", \"quelltext\", \"gab\", \"später\",\n",
    "  \"später\", \"mehr\", \"große\", \"erstmals\", \"kann\", \"viele\"))"
   ]
  },
  {
   "cell_type": "markdown",
   "id": "c488eeef",
   "metadata": {
    "deletable": false,
    "editable": false,
    "run_control": {
     "frozen": true
    }
   },
   "source": [
    "## Script für die Word Cloud - Matrix anlegen und sortierten Datensatz erstellen II\n",
    "Nach der erneuten Aufbereitung wird noch einmal die Datenmatrix erstellt, um dann die Word Cloud ohne die eigenen Stoppwörter zu erstellen."
   ]
  },
  {
   "cell_type": "code",
   "execution_count": null,
   "id": "15da6c6b",
   "metadata": {
    "solution2": "hidden",
    "solution2_first": true
   },
   "outputs": [],
   "source": [
    "#Platz für Dein Script\n",
    "\n"
   ]
  },
  {
   "cell_type": "code",
   "execution_count": null,
   "id": "f473bc19",
   "metadata": {
    "solution2": "hidden"
   },
   "outputs": [],
   "source": [
    "# Lösungsvorschlag\n",
    "# Hier wird eine Matrix angelegt, die die Häufigkeit der Begriffe aus den Texten zählbar macht\n",
    "doku_matrix_Pb_down_Pb_down <- TermDocumentMatrix(doku_Pb_down)\n",
    "matrix_Pb_down <- as.matrix(doku_matrix_Pb_down_Pb_down)\n",
    "vektor_Pb_down <- sort(rowSums(matrix_Pb_down),decreasing = TRUE)\n",
    "daten_Pb_down <- data.frame(word = names(vektor_Pb_down),freq = vektor_Pb_down)"
   ]
  },
  {
   "cell_type": "markdown",
   "id": "adf20394",
   "metadata": {
    "deletable": false,
    "editable": false,
    "run_control": {
     "frozen": true
    }
   },
   "source": [
    "## Script für die Word Cloud - Word Cloud\n",
    "Hier wird jetzt die aufbereitete Word Cloud erstellt."
   ]
  },
  {
   "cell_type": "code",
   "execution_count": null,
   "id": "0f1dadce",
   "metadata": {
    "solution2": "hidden",
    "solution2_first": true
   },
   "outputs": [],
   "source": [
    "#Platz für Dein Script\n"
   ]
  },
  {
   "cell_type": "code",
   "execution_count": null,
   "id": "f79474b6",
   "metadata": {
    "solution2": "hidden"
   },
   "outputs": [],
   "source": [
    "# Lösungsvorschlag\n",
    "# Festlegen einer \"Vorlage\" für die Word Cloud, damit diese reproduziert werden kann und nicht\n",
    "# bei jeder Erstellung zufaellig erstellt wird\n",
    "set.seed(4321)\n",
    "\n",
    "\n",
    "# Erstellen der Word Cloud - die Wörter mit der größten Häufigkeit (freq) werden am größten dargestellt\n",
    "# die minimale Häufigkeit damit ein Wort dargestellt wird ist 1\n",
    "# die Word Cloud besteht aus max. 100 Wörtern (max.Words)\n",
    "# die Anordnung ist nicht zufaellig\n",
    "# rot.per --> legt fest welcher Anteil an Wörtern nicht waagerecht dargestellt wird\n",
    "wourdcloud_PB2 <- wordcloud(words = daten_Pb_down$word, freq = daten_Pb_down$freq,scale = c(8,1), min.freq = 1,\n",
    "          max.words = 100, random.order = FALSE, rot.per = 0.40, \n",
    "          colors = brewer.pal(8, \"Dark2\"))"
   ]
  },
  {
   "cell_type": "markdown",
   "id": "e47349ee",
   "metadata": {},
   "source": [
    "## Abschlussreflexion\n",
    "Was sind für dich die wesentlichen Unterschiede zwischen den Word Clouds zu den Wikipedia Einträgen der Städte Bielefeld und Paderborn? Gibt es überhaupt Unterschiede, was fällt dir auf? Vielleicht probierst du auch noch einmal aus, was mit den Word Clouds passiert, wenn du die Städtenamen „Paderborn“ und „Bielefeld“ mit Hilfe der Stop Words aus den Word Clouds entfernst?"
   ]
  },
  {
   "cell_type": "markdown",
   "id": "c6f39d7f",
   "metadata": {
    "deletable": false,
    "editable": false
   },
   "source": [
    "# Literatur\n",
    "\n",
    "**R**\n",
    "* https://www.petitessen.net/wordcloud/#comments\n",
    "\n",
    "* http://www.sthda.com/english/wiki/text-mining-and-word-cloud-fundamentals-in-r-5-simple-steps-you-should-know\n",
    "\n",
    "* https://www.rdocumentation.org/packages/wordcloud/versions/2.6/topics/wordcloud\n",
    "\n",
    "* https://r-graph-gallery.com/wordcloud.html\n",
    "\n",
    "**Stadt Paderborn**\n",
    "\n",
    "* https://de.wikipedia.org/wiki/Paderborn"
   ]
  }
 ],
 "metadata": {
  "hide_input": false,
  "kernelspec": {
   "display_name": "R",
   "language": "R",
   "name": "ir-datengeschichten"
  },
  "language_info": {
   "codemirror_mode": "r",
   "file_extension": ".r",
   "mimetype": "text/x-r-source",
   "name": "R",
   "pygments_lexer": "r",
   "version": "4.1.0"
  },
  "toc": {
   "base_numbering": 1,
   "nav_menu": {},
   "number_sections": true,
   "sideBar": true,
   "skip_h1_title": false,
   "title_cell": "Table of Contents",
   "title_sidebar": "Contents",
   "toc_cell": false,
   "toc_position": {},
   "toc_section_display": true,
   "toc_window_display": true
  }
 },
 "nbformat": 4,
 "nbformat_minor": 5
}
