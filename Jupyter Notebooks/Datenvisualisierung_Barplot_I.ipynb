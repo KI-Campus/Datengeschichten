{
 "cells": [
  {
   "cell_type": "markdown",
   "id": "edcabaa3",
   "metadata": {},
   "source": [
    "# Datenvisualisierung\n"
   ]
  },
  {
   "cell_type": "markdown",
   "id": "4f349811",
   "metadata": {},
   "source": [
    "\n",
    " <img width=\"440\" align = \"right\" src=\"Sparrenburg_innovative_sights.JPG\"/> \n",
    "\n",
    "\n",
    "<div style=\"text-align: left\" style=“line-height: 150%“>\n",
    "<p></p>  \n",
    "<p> \n",
    "Schön das Du wieder dabei bist! Heute beschäftigen wir uns weiter damit, wie man Daten in <i>R</i> visualisieren kann. \n",
    "\n",
    "Eine Visualisierungsform haben wir bereits kennengelernt: die <i>WordCloud</i> oder <i>Wortwolke</i>. \n",
    "Diesmal beschäftigen wir uns nicht mit der Analyse von Textlementen sondern mit einem offenen Datensatz der Stadt Bielefeld der Informationen zur Alterstruktur in Bielefeld für die Jahre 2018-2020 beeinhaltet. Konktret beinhaltet dieser Datensatz u.a Informationen wie eine Einteilung der Bielefelder:innen in 90 Altersstufen, das Geschlecht der Bielefelder:innen (binär erfasst) und die Anzahl der Bielefelder:innen, die nach Geschlecht und Alterstufe sortiert ihren Hauptwohnsitz in Bielefeld haben. \n",
    "    \n",
    "</div>     \n",
    " \n",
    "\n",
    "Diese Daten lassen sich auf unterschiedliche Weise visualisieren. Wir betrachten an dieser Stelle <i>Barplots (Säulendiagramme)</i>. \n",
    "<div>      \n",
    "    <div class=\"pull-right\">  \n",
    "<p style=\"font-size:6px;\"> InnovativeSights, \n",
    "   <a href=\"https://creativecommons.org/licenses/by-sa/3.0/\"> CC BY-SA 3.0</a> \n",
    "    <a href=\"https://upload.wikimedia.org/wikipedia/commons/d/df/Sparrenburg_innovative_sights.JPG\"> , via Wikimedia Commons</a> \n",
    "    </p>\n",
    "</div> \n",
    "<p>\n",
    "Zunächst laden wir die Pakete, die wir benötigen in R.</p>  \n",
    " </div>  \n",
    " \n"
   ]
  },
  {
   "cell_type": "code",
   "execution_count": null,
   "id": "64274df3",
   "metadata": {},
   "outputs": [],
   "source": [
    "#benoetigte Pakete laden\n",
    "library(\"tidyverse\")\n",
    "library(\"car\")"
   ]
  },
  {
   "cell_type": "markdown",
   "id": "3ba347cb",
   "metadata": {},
   "source": [
    "# Daten einlesen\n",
    "Der Datensatz den wir nutzen liegt als *CSV-Datei* vor. Das ist eine Form von Textdatei, die Daten sehr einfach strukturiert speichert. *CSV* ist eine englische Abkürzung, die für **comma-separted-values** steht. Wie der Name besagt, werden in *CSV-Dateien* üblicherweise Kommata als Trennzeichen verwendet. Je nach genutzer Software und spezifischen Einstellungen der Benutzer:innen können aber auch andere Trennzeichen vorkommen wie **Semikolon**, **Leerzeichen**, **Tabulator** oder **Doppelpunkt**.\n",
    "\n",
    "Es empfiehlt sich immer im Vorfeld einen Blick in die Originaldaten zu werfen, um zu schauen welches Trennzeichen genutzt wird und wie die Daten strukturiert sind. Dies ist bei CSV-Dateien ganz einfach mit einem *Texteditor* möglich.\n",
    "Unsere Datengrundlage stellt die Datei \"Alters_und_Geschlechtsstruktur2018bis2020ges_0_Stadt_Bi_CC_BY_4.0.csv\" dar. \n",
    "\n",
    "Sie ist mit einem Semikolon getrennt und weist eine Kopfzeile mit den Variablennamen auf. Mit dem folgenden Befehl können wir sie einlesen *read.csv2()*.\n",
    "Wir nutzen *read.csv2* anstelle von *read.csv*, da die Voreinstellung bei *read.csv2* als Trennzeichen \"Semikolon\" und als Dezimaltrennzeichen \"Komma\" beinhalten, wohingegen die Voreinstellungen bei *read.csv* \"Komma\" als Trennzeichen und \"Punkt\" als Dezimaltrennzeichen sind. Wir könnten aber auch, wie in vorherigen Jupyter Notebooks, *read.csv* nutzen, wenn wir entsprechend Trennzeichen und Dezimaltrennzeichen einstellen."
   ]
  },
  {
   "cell_type": "code",
   "execution_count": null,
   "id": "1aeb7716",
   "metadata": {},
   "outputs": [],
   "source": [
    "#csv Daten einlesen\n",
    "data_csv <- read.csv2(\"Alters_und_Geschlechtsstruktur2018bis2020ges_0_Stadt_Bi_CC_BY_4.0.csv\", na=\"NA\", header = TRUE,stringsAsFactors = FALSE, encoding = \"latin1\")\n",
    "data_csv\n",
    "\n"
   ]
  },
  {
   "cell_type": "markdown",
   "id": "fd824acb",
   "metadata": {},
   "source": [
    "*read.csv2-()* berücksichtigt das Semikolon als Trennzeichen, fehlende Werte werden  mit \"NA\" gelabelt (na=\"NA\", Englisch für **not available**). Die Kopfzeile der Tabelle berücksichtigen wir beim Einlesen mit *(header = TRUE)*.\n",
    "\n",
    "Wir sehen bei der Ausgabe des Datensatze *data_csv*, dass wir eine Variable mit dem Namen Bielefeld haben deren Ausprägung immer \"insgesamt\" lautet. Für unsere weitere Analyse brauchen wir diese \"Variable\" nicht und wir beginnen im nächsten Schritt mit der Aufbereitung der Daten."
   ]
  },
  {
   "cell_type": "markdown",
   "id": "0c310b6f",
   "metadata": {},
   "source": [
    "# Aufbereitung der Daten I\n",
    "Im ersten Schritt streichen wir die Variable \"Bielefeld\" aus unseren Datensatz und erstellen einen Datensatz ohne sie. Anschließend werfen wir einen Blick auf die weiteren Variablen und mit welchem Datentyp R diese Variablen klassifiziert. "
   ]
  },
  {
   "cell_type": "code",
   "execution_count": null,
   "id": "0729a537",
   "metadata": {},
   "outputs": [],
   "source": [
    "#Datenaufbereitung\n",
    "#Spalte \"Bielefeld insgesamt\" aus der Auswahl entfernen innerhalb eines neuen Objekts\n",
    "data_csv_BI <- select(data_csv, -Bielefeld)\n",
    "data_csv_BI\n",
    "\n",
    "#Variablen hinsichtlich ihrer Klassen untersuchen\n",
    "sapply(data_csv_BI, class)"
   ]
  },
  {
   "cell_type": "markdown",
   "id": "2e0c914d",
   "metadata": {},
   "source": [
    "Die Datentypen, wie sie von R erkannt werden, eignen sich so noch nicht für die weitere Analyse und müssen daher entsprechend aufbereitet werden. \n",
    "Die Variable *Geschlecht* wird beispielsweise als *Character* erkannt, also als Zeichenfolge. *Geschlecht* ist eine kategoriale Variable und muss für die weitere Analyse als *Factor* klassifiziert werden. Nach dem gleichen Prinzip gehen wir so die einzelnen Variablen unseres Datensatzes durch und passen sie so für die Anlayse bzw. die grafische Darstellung an. Die aufbereiteten Variablen schreiben wir anschließend in einen neuen Datensatz."
   ]
  },
  {
   "cell_type": "code",
   "execution_count": null,
   "id": "96426c11",
   "metadata": {},
   "outputs": [],
   "source": [
    "#Datenaufbereitung\n",
    "#Geschlecht als Factor klassifizieren\n",
    "class(data_csv_BI$Geschlecht)\n",
    "Geschlecht_factor <- as.factor(data_csv_BI$Geschlecht)\n",
    "Geschlecht_factor\n",
    "\n",
    "\n",
    "#Altersstufe als Numeric klassifizieren\n",
    "class (data_csv_BI$Altersstufe)\n",
    "Altersstufe_num <- as.numeric(data_csv_BI$Altersstufe)\n",
    "Altersstufe_num\n",
    "\n",
    "\n",
    "#Jahr umbenennen\n",
    "class(data_csv_BI$Jahr)\n",
    "Jahr_date <- data_csv_BI$Jahr \n",
    "Jahr_date\n",
    "\n",
    "\n",
    "#Einwohner_innen umbenennen\n",
    "class(data_csv_BI$Einwohner_innen.am.Ort.der.Hauptwohnung)\n",
    "Einwohner_innen_num <- data_csv_BI$Einwohner_innen.am.Ort.der.Hauptwohnung\n",
    "Einwohner_innen_num\n",
    "\n",
    "\n",
    "\n",
    "#90 und aelter wird als NA angezeigt, dies wir korregiert in dem NA durch 90 ersetzt wird - bei spaeterer Beschriftung beachten\n",
    "Altersstufe_num_kor <- replace_na(Altersstufe_num, replace = 90)\n",
    "Altersstufe_num_kor\n",
    "\n",
    "\n",
    "\n",
    "#Aufbereitetet Datensatz erstellen\n",
    "BI_Aufbereitet <- data.frame(Jahr_date, Geschlecht_factor, Altersstufe_num_kor, Einwohner_innen_num)\n",
    "BI_Aufbereitet"
   ]
  },
  {
   "cell_type": "markdown",
   "id": "2c90bcf0",
   "metadata": {},
   "source": [
    "Im Skript hast Du sicher gesehen, dass wir *Altersstufen* zwei mal bearbeitet haben. Die *Altersstufe 90 Jahre und älter (\"90_und_aelter\")* wird bei der Umwandlung von Altersstufe in einem numerischen Vektor zum fehlenden Wert \"NA\". Diesen fehlenden Wert \"NA\" ersetzen wir in einem zweiten Schritt mit der Zahl 90. Wir merken uns das schon einmal für später."
   ]
  },
  {
   "cell_type": "code",
   "execution_count": null,
   "id": "f3efabd1",
   "metadata": {},
   "outputs": [],
   "source": [
    "#Häufigkeitstabelle erstellen\n",
    "table(BI_Aufbereitet$Jahr_date, BI_Aufbereitet$Geschlecht_factor)"
   ]
  },
  {
   "cell_type": "markdown",
   "id": "4ca870b7",
   "metadata": {},
   "source": [
    "Wenn wir mit Hilfe von *table-()* eine Häufigkeitstabelle erstellen mit der wir die Jahre in Abhängigkeit vom Geschlecht ausgeben, stellen wir fest, dass der Zelleninhalt die jeweiligen Altersstufen darstellt und das sind von 0-90_und_aelter 91 Stufen. Uns interessiert allerdings die Anzahl der Bielefelder:innen und nicht die Anzahl der Altersstufen, daher geht die Datenaufbereitung mit dem nächsten Schritt weiter."
   ]
  },
  {
   "cell_type": "markdown",
   "id": "0308ac5c",
   "metadata": {},
   "source": [
    "# Aufbereitung der Daten II\n",
    "Wir brauchen für unsere weitere Analyse Vektoren, die einmal die Häufigkeit bzw. die Anzahl der Bielefelder:innen enthalten und zum anderem die Werte für die entsprechenden Altersstufe, das Geschlecht bzw. das Jahr.\n",
    "Wir multiplizieren hierfür die Häufigkeit der Bielefelder:innen, die in unserer Variable \"Einwohner_innen_num\" enthalten ist, jeweils mit unserer aufbereiteteten Altersstufen-Variable, der aufbereiteten Geschlechter-Variable und der aufbereiteten Jahres-Variable. Das sind somit 3 weitere Vektoren die wir erstellen müssen. *rep()* gibt hierbei anhand der Häufigkeit der Bielefelder:innen, das jeweilige Element(Alter/Geschlecht/Variable) in entsprechender Anzahl zurück. Die so entstandenen Objekte werden zum Schluss in einen neuen Datensatz geschrieben.\n",
    "\n",
    "*summary-()* verwenden wir, um die zusammengefassten Daten, die sich auf das jeweilige Objekt beziehen, auszugeben. (Das ist vor allem eine Kontrolle für uns, für unsere Visualisierung ist das zunächst nicht weiter relevant). \n",
    "Abschließend erstellen wir mit den neuen Objekten noch einmal die Häufigkeitstabelle, die wir schon aus dem vorangegangenen Schritt kennen und können die beiden Tabellen nun vergleichen."
   ]
  },
  {
   "cell_type": "code",
   "execution_count": null,
   "id": "1f941841",
   "metadata": {},
   "outputs": [],
   "source": [
    "#Neuer Vektor zum Alter\n",
    "Bi_Freq_Alter <- rep(BI_Aufbereitet$Altersstufe_num_kor,BI_Aufbereitet$Einwohner_innen_num) \n",
    "summary(Bi_Freq_Alter)\n",
    "\n",
    "\n",
    "#Neuer Vektor zum Geschlecht\n",
    "Bi_Freq_Geschlecht <- rep(BI_Aufbereitet$Geschlecht_factor,BI_Aufbereitet$Einwohner_innen_num) \n",
    "summary(Bi_Freq_Geschlecht)\n",
    "\n",
    "#Neuer Vektor zu den Jahren\n",
    "Bi_Freq_Jahr <- rep(BI_Aufbereitet$Jahr_date,BI_Aufbereitet$Einwohner_innen_num) \n",
    "summary(Bi_Freq_Jahr)\n",
    "\n",
    "\n",
    "\n",
    "BI_Aufbereitet_Freq <- data.frame(Bi_Freq_Jahr,Bi_Freq_Geschlecht,Bi_Freq_Alter) \n",
    "\n",
    "#Häufigkeitstabelle erstellen II\n",
    "table(BI_Aufbereitet_Freq$Bi_Freq_Jahr, BI_Aufbereitet_Freq$Bi_Freq_Geschlecht)"
   ]
  },
  {
   "cell_type": "markdown",
   "id": "0a01b43f",
   "metadata": {},
   "source": [
    "# Barplot (Säulendiagramm)\n",
    "Nach der Aufbereitung der Daten können wir jetzt beginnen *Barplots* zu erstellen! Wir erstellen zunächst mit *subset()* einen Datensatz, der nur die entsprechenden Daten zum Jahr 2018 - auf das wir zunächst einen Blick werfen wollen - enthält und lassen uns mit *plot-()* unseren ersten Barplot ausgeben."
   ]
  },
  {
   "cell_type": "code",
   "execution_count": null,
   "id": "db07d12d",
   "metadata": {},
   "outputs": [],
   "source": [
    "#Geschlechterverteilung 2018 als Subset Data.frame\n",
    "data_2018 <- subset(BI_Aufbereitet_Freq, BI_Aufbereitet_Freq$Bi_Freq_Jahr == 2018)\n",
    "\n",
    "#erster Barplot\n",
    "plot(data_2018$Bi_Freq_Geschlecht)"
   ]
  },
  {
   "cell_type": "markdown",
   "id": "65f67854",
   "metadata": {},
   "source": [
    "Das so erstellte Diagramm ist noch nicht sehr anschaulich und aussagekräftig. Wir können allerdings das Diagramm, wie auch die Daten, aufbereiten. \n"
   ]
  },
  {
   "cell_type": "markdown",
   "id": "7d7ef09d",
   "metadata": {},
   "source": [
    "# Erstellung von Visualisierungen \n",
    "\n",
    "Bei Visualisierungen und Grafiken lassen sich Beschriftungen, sowie weitere Darstellungsoptionen vornehmen und verändern. Im folgenden schauen wir uns einige Funktionsparameter an, die wir im weiteren Verlauf dieses *JupyterNotebooks* nutzen werden. Dies ist keine vollständige Auflistung es gibt noch einige weitere Parameter.\n",
    "\n",
    "Diese Darstellungsparameter können Schritt für Schritt über Kommata getrennt an den Befehl zum erstellen eines Diagramms angehängt werden, um die Grafik immer weiter zu gestalten und auf die Visualisierungsbedürfnisse anzupassen. Man kann sich das ganz gut als *Baukasten* vorstellen aus dem man immer die entsprechenden Elemente die benötigt werden heraussucht und an die Grafik \"anbaut\". \n",
    "\n",
    "**Skalierung der Achsen**\n",
    "\n",
    "- Die X und Y-Achsen können mit xlim=c(x,y) und ylim = c(x,y) bezüglich ihrer Skalierung verändert werden wobei x den Startwert der Skalierung festlegt und y den Endpunkt der angepassten Skalierung bestimmt. \n",
    "\n",
    "**Titel des Diagramms**\n",
    "\n",
    "- Über den Funktionsparameter main=“…“ kann eine Überschrift für eine Grafik erzeugt werden. Mit Hilfe von cex.main = X.Y kann man die Größe der Überschrift varieren. Hier sind zumeist Wert um 1.0 gängig. Die Werte lassen sich leicht variieren und wir können schauen welche Größe angemessen für die Darstellung ist. (Nach dem gleichen Prinzip lassen sich die Größeren der weiteren Beschriftungen auch anpassen). Über Sub kann man auf die gleiche Weise einen Untertitel hinzufügen.\n",
    "\n",
    "**Beschriftung der Achsen**\n",
    "\n",
    "- Mit den Funktionsparameter xlab=“…“ und ylab=“…“ können die Achsen der Grafik beschriftete werden. Die Parameter cex.axis= legt die Achsbeschriftungsgröße fest und cex.names= legen die Beschriftungsgröße der Achstitel fest. \n",
    "\n",
    "**Farbgebung**\n",
    "\n",
    "- Mit col=c(\"…\",\"…\") lassen sich die Farben der Grafikelemente verändern oder anpassen. \n",
    "\n",
    "**Legende**\n",
    "\n",
    "- Über den Parameter legend=TRUE lässt sich eine Legende in die Diagrammdarstellung einfügen.\n",
    "\n",
    "**Ausrichtung**\n",
    "- Ein weiterer Funktionsparameter ist horiz = TRUE, welcher die Ausrichtung einer Grafik bestimmt, bei horiz = TRUE, liegt beispielsweise eine horizontal ausgerichtete Grafik vor\n",
    "\n",
    "- Über beside = TRUE kann ein gruppiertes Diagramm erstellt werden\n",
    "\n",
    "Darüber hinaus gibt es noch einige andere Optionen, die wir nutzen können um Diagramme anzupassen. Wir werden im weiteren Verlauf dieses Notebooks auch noch ein paar weitere Optionen kennenlernen. "
   ]
  },
  {
   "cell_type": "code",
   "execution_count": null,
   "id": "25a057c3",
   "metadata": {},
   "outputs": [],
   "source": [
    "#Erster Barplot, aufbereitet\n",
    "plot(data_2018$Bi_Freq_Geschlecht,\n",
    "     ylim=c(0,200000),\n",
    "     main=\" Geschlechterverteilung 2018 in Bielefeld\",cex.main = 1.2,\n",
    "     sub = \"(Datenquelle Stadt Bielefeld)\",cex.sub = 0.8,\n",
    "     xlab = \"Geschlecht\",cex.axis = 1.0,\n",
    "     ylab= \"Bielefelder:innen mit Hauptwohnsitz in Bielefeld\",\n",
    "     col=c(\"deepskyblue3\", \"firebrick3\")\n",
    "     )"
   ]
  },
  {
   "cell_type": "markdown",
   "id": "56b4d7f7",
   "metadata": {},
   "source": [
    "# Vergleich der Jahre 2018, 2019, 2020\n",
    "Wir wollen jetzt einen Vergleich zwischen den Geschlechtern über die Jahre 2018-2020 vornehmen. Auf Basis einer Häufigkeitstabelle können wir auch ein Barplot erstellen bei dem wir mehrere Jahre miteinander vergleichen können.\n",
    "Hierzu nutzen wir die *barplot-Funktion*. Die Grundlage für die Grafik legen wir mit der *table-Funktion* fest. Die Tabelle bildet die Grundlage, auf der der Barplot aufbaut. Zunächst schauen wir uns diese Tabelle an, erstellen dann den ersten *Barplot* und bereiten diesen im Anschluss mit den Befehlen aus dem \"Baukasten\" auf."
   ]
  },
  {
   "cell_type": "code",
   "execution_count": null,
   "id": "5ab22fa2",
   "metadata": {},
   "outputs": [],
   "source": [
    "#Tabelle Geschlecht - Jahre\n",
    "table(BI_Aufbereitet_Freq$Bi_Freq_Geschlecht, BI_Aufbereitet_Freq$Bi_Freq_Jahr)\n",
    "\n",
    "#Barplot ohne Aufbereitung\n",
    "barplot(table(height = BI_Aufbereitet_Freq$Bi_Freq_Geschlecht, names = BI_Aufbereitet_Freq$Bi_Freq_Jahr))\n",
    "\n"
   ]
  },
  {
   "cell_type": "code",
   "execution_count": null,
   "id": "604d46f4",
   "metadata": {},
   "outputs": [],
   "source": [
    "#Barplot Aufbereitet\n",
    "barplot(table(height = BI_Aufbereitet_Freq$Bi_Freq_Geschlecht, names = BI_Aufbereitet_Freq$Bi_Freq_Jahr),\n",
    "        space = c(0.6,0.6,0.6),\n",
    "        horiz = TRUE,\n",
    "        col = c(\"deepskyblue3\", \"firebrick3\"),\n",
    "        main = \"Vergleich der Geschlechterverteilung 2018-2020 in Bielefeld\",cex.main = 1.2,\n",
    "        sub  = \"(Datenquelle Stadt Bielefeld)\",cex.sub = 0.8,\n",
    "        xlab = \"Bielefelder:innen mit Hauptwohnsitz in Bielefeld\",cex.axis = 1.0,\n",
    "        ylab = \"Jahr\",\n",
    "        xlim = c(0,350000),\n",
    "        legend.text = c(\"männlich\", \"weiblich\"),\n",
    "        args.legend = list(x = \"topright\")\n",
    "        )"
   ]
  },
  {
   "cell_type": "markdown",
   "id": "100688a6",
   "metadata": {},
   "source": [
    "Diese Darstellungsvariante ist nicht besonderes aussagekräftig. Daher ergänzen wir *beside = TRUE* und schauen uns einmal das so entstandene gruppierte Säulendiagramm an.\n"
   ]
  },
  {
   "cell_type": "code",
   "execution_count": null,
   "id": "710a2d90",
   "metadata": {},
   "outputs": [],
   "source": [
    "#Gruppiertes Säulendiagramm\n",
    "barplot(table(BI_Aufbereitet_Freq$Bi_Freq_Geschlecht, BI_Aufbereitet_Freq$Bi_Freq_Jahr),\n",
    "        xlim = c(0,200000), \n",
    "        horiz = TRUE,\n",
    "        col = c(\"deepskyblue3\", \"firebrick3\"),\n",
    "        beside = TRUE,\n",
    "        main = \"Vergleich der Geschlechterverteilung 2018-2020 in Bielefeld\",cex.main = 1.2,\n",
    "        sub = \"(Datenquelle Stadt Bielefeld)\",cex.sub = 0.6,\n",
    "        xlab = \"Bielefelder:innen mit Hauptwohnsitz in Bielefeld\",cex.axis = 1.0,\n",
    "        ylab = \"Jahr\",\n",
    "        legend.text = c(\"männlich\", \"weiblich\"),\n",
    "        args.legend = list(x = \"topright\")\n",
    "        )"
   ]
  },
  {
   "cell_type": "markdown",
   "id": "601f0532",
   "metadata": {},
   "source": [
    "# Legende \n",
    "Euch ist sicherlich aufgefallen, dass die Legende in den Grafiken, die wir bisher erstellt haben immer in die Grafik hinein geragt hat und zum Teil Werte nicht oder nur schlecht zu erkennen gewesen sind. \n",
    "Die Legende lässt sich auch seperat in der Grafik platzieren und ist wie vieles bei den Grafiken in R sehr frei gestaltbar (auch nach dem Baukastenprinzip). \n",
    "\n",
    "Wir geben nochmal den gruppierten Barplot aus und platzieren die Legende an einer anderen Position (\"topright\") und fügen zusätzlich extra Platz rechts der Abbildung hinzu und positionieren mit dem *inset-Parameter* die Legende außerhalb der Abbildung. "
   ]
  },
  {
   "cell_type": "code",
   "execution_count": null,
   "id": "d34dde10",
   "metadata": {},
   "outputs": [],
   "source": [
    "# Extra Platz für für Legende rechts der Abbildung hinzufügen\n",
    "par(mar = c(5.1, 4.1, 4.1, 8.1), xpd = TRUE)\n",
    "\n",
    "#Gruppiertes Säulendiagramm\n",
    "barplot(table(BI_Aufbereitet_Freq$Bi_Freq_Geschlecht, BI_Aufbereitet_Freq$Bi_Freq_Jahr),\n",
    "        xlim = c(0,200000), \n",
    "        horiz = TRUE,\n",
    "        col= c(\"deepskyblue3\", \"firebrick3\"),\n",
    "        beside = TRUE,\n",
    "        main=\"Vergleich der Geschlechterverteilung 2018-2020 in Bielefeld\",cex.main = 1.2,\n",
    "        sub = \"(Datenquelle Stadt Bielefeld)\",cex.sub = 0.6,\n",
    "        xlab = \"Bielefelder:innen mit Hauptwohnsitz in Bielefeld\",cex.axis = 1.0,\n",
    "        ylab= \"Jahr\",\n",
    "        legend.text = c(\"männlich\", \"weiblich\"),\n",
    "        args.legend = list(x = \"topright\", inset=c(-0.2,0))\n",
    "        )"
   ]
  },
  {
   "cell_type": "markdown",
   "id": "7b13a591",
   "metadata": {},
   "source": [
    "# Die Bevölkerungspyramide 2018\n",
    "Wir fragen uns, wie sich die Altersgruppen in Bielefeld innerhalb der 3 Jahre von 2018 bis 2020 entwickelt haben. Ein besonderen Fokus legen wir hierbei auf die Frage wie sich die Gruppe der  Menschen über 90 Jahr und älter entwickelt hat. Hat es beispielsweise eine starke Zunahme in dieser Altersgruppe gegeben?\n",
    "\n",
    "Um dieses Frage zu beantworten, erstellen wir mit Hilfe von R eine **Bevölkerungspyramide**.\n",
    "Eine Bevölkerungspyramide gibt nach Alterstufen abgestuft die Zusammensetzung der einzelnen Stufen nach Geschlecht aufgeschlüsselt an. Sie beginnt bei uns in diesem Beispiel bei der Altersstufe von 0 Jahren und endet bei der Altersstufe 90_und_aelter. Die einzlnen Stufen sind hierbei nichts anders als horizontal ausgerichtete Barplots, die aufeinander \"gebaut\" eine Pyramide ergeben. \n",
    "\n",
    "Hierfür erstellen wir einige Subsets, zunächst für die einzlenen Jahre (2018 haben wir bereits erstellt) und anschließend teilen wir diese Subset-Datensätze nach der binären Geschlechtereinteilung nochmal auf.\n",
    "(mit attach heften wir den Datensatz an auf den wir uns beziehen)."
   ]
  },
  {
   "cell_type": "code",
   "execution_count": null,
   "id": "f825d5d0",
   "metadata": {},
   "outputs": [],
   "source": [
    "attach (BI_Aufbereitet_Freq)\n",
    "\n",
    "#Jahres Subsets\n",
    "data_2019 <- subset(BI_Aufbereitet_Freq, BI_Aufbereitet_Freq$Bi_Freq_Jahr == 2019)\n",
    "data_2020 <- subset(BI_Aufbereitet_Freq, BI_Aufbereitet_Freq$Bi_Freq_Jahr == 2020)\n",
    "\n",
    "\n",
    "\n",
    "#Geschlechter Subsets nach Jahren\n",
    "data_M18 <- subset(data_2018, Bi_Freq_Geschlecht == \"maennlich\", \n",
    "                   select = c(Bi_Freq_Jahr,Bi_Freq_Geschlecht,Bi_Freq_Alter))\n",
    "\n",
    "data_W18 <- subset(data_2018, Bi_Freq_Geschlecht == \"weiblich\", \n",
    "                   select = c(Bi_Freq_Jahr,Bi_Freq_Geschlecht,Bi_Freq_Alter))\n",
    "\n",
    "\n",
    "data_M19 <- subset(data_2019, Bi_Freq_Geschlecht == \"maennlich\", \n",
    "                   select = c(Bi_Freq_Jahr,Bi_Freq_Geschlecht,Bi_Freq_Alter))\n",
    "\n",
    "data_W19 <- subset(data_2019, Bi_Freq_Geschlecht == \"weiblich\", \n",
    "                   select = c(Bi_Freq_Jahr,Bi_Freq_Geschlecht,Bi_Freq_Alter))\n",
    "\n",
    "data_M20 <- subset(data_2020, Bi_Freq_Geschlecht == \"maennlich\", \n",
    "                   select = c(Bi_Freq_Jahr,Bi_Freq_Geschlecht,Bi_Freq_Alter))\n",
    "\n",
    "data_W20 <- subset(data_2020, Bi_Freq_Geschlecht == \"weiblich\", \n",
    "                   select = c(Bi_Freq_Jahr,Bi_Freq_Geschlecht,Bi_Freq_Alter))"
   ]
  },
  {
   "cell_type": "markdown",
   "id": "75a4b9d2",
   "metadata": {},
   "source": [
    "Nachdem wir die unterschiedlichen *Subsets* für Jahre und Geschlechter erstellt haben können wir nun beginnen eine Bevölkerungspyramide gestaffelt nach deren Altersstufen bzw. dem Alter zu erstellen. Wie wir bei der Legende schon gesehen haben bietet R die Option Grafiken auch Schrittweise zu erstellen. Bei der Bevölkerungspyramide werden wir uns das zu nutze machen und erstelllen diese Schritt für Schritt. "
   ]
  },
  {
   "cell_type": "markdown",
   "id": "664cfc77",
   "metadata": {},
   "source": [
    "* **Schritt1** Als erstes legen wir die Hintergrundfarbe für die die Pyramide fest. Wir entscheiden uns für einen hellen Grauton.\n",
    "\n",
    "* **Schritt2** Jetzt geht es mit der ersten Hälfte der Pyramide los. Hierzu nutzen wir eine Häufigkeitstabelle, die auf den entsprechenden *Subsets* für das Jahr 2018 und den dazugehörigen Geschlechter *Subsets* basiert. Als erstes stellen wir die Altersstufen, für die Frauen da. \n",
    "    * Wir verzichten auf eigenständige Erstellung der Achsen durch \"axes = FALSE\". \"horiz = TRUE\" kennen wir bereits. \n",
    "    * Wir möchten außerdem um unser Diagramm keinen Rahmen haben und deaktivieren diesen mit *border = NA.* Bei der X-Achse wählen wir ein Spannweite der Werte von -3000 bis 3000. Die Werte für die Einteilung der Achse können wir mit Hilfe der Ausgabe der Häufigkeitstabelle festlegen, die Orientierung hierfür bietet -, oder wir probieren ein paar Variationen aus bis wir eine ansprechende Variante gefunden haben. \n",
    "    * Im Anschluss definieren wir mit *col =\"firebrick3\"*, dass die Säulen in dieser Diagrammhälfte einen Rot-Ton erhalten. \n",
    "    * Mit *grid*  fügen wir ein Netz bzw. Hilfslinien ein. Die 30 legt die Abstände zwischen den Lininen fest (Wie kommen wir auf 30? Hierzu einfach den *xlim_Wert* durch 100 dividieren 3000/100 --> 30). \n",
    "    * lty = 6 gibt an wie sehr die Hilflinie gestrichelt ist, eine Wert von 1 ist z.B. eine durchgehende Linie. \n",
    "    * Zu guter letzt legen wir die Farbe der Linie fest. Jetzt folgt dieser Ablauf noch einmal von vorne für die Gruppe der Männer.\n",
    "    \n",
    "* **Schritt 3** Hier gibt es nur ein paar kleine Änderung im Vergleich zu der Erstellung der Pyramidenhälfte der Frauen. Vor *table()* setzen wir ein Minus, damit die Säulen nicht über die der Frauen gelegt werden, sondern auf der linken Seite der Pyramide geplottet werden. Besonders wichtig ist der Parameter *add = T*, mit diesem fügen wir die Säulen für das männliche Geschlecht in das bereits bestehende Diagram mit ein.\n",
    "\n",
    "* **Schritt 4** Plotten der Y-Achse. Wir fügen in die Mitte des Diagramms zwischen die Geschlechtergruppen die Y-Achse ein. Dies gelingt uns mit *abline()*. V = 0 legt die Position der Achse auf den Nullpunkt der x-Achse. lwd = 28 legt die Breite der Linie fest. Die Beschriftung erfolgt mit Hilfe eines Wiederholungsbefehls, der in 10er Abständen von 10 bis 90 festlegt, dass hier eine Beschriftung erfolgen soll (das ist \"i\"). Die dazugehörige Zahl wird an die Position i+i*0.2 geplotet. Mit dieser Rechnung wird die Beschriftung an der Balkenbreite und dem Balkenzwischenraum ausgerichtet.\n",
    "\n",
    "* **Schritt 5** Plotten der X-Achse. Mit *mtext* können wir in das bereits geplottete Diagramm  hineinschreiben. Dies nutzen wir und erstellen so unser X-Achse. Wir haben unser X-Achse mit xlim von -3000 bis 3000 definiert, daher definieren wir auch so unsere Beschriftung. \n",
    "    * Mit by=200 legen wir fest, dass in Abständen von 200 eine Beschriftung erfolgt. Da die Beschriftung ineinander geschrieben werden würden, wenn sie horizontal ausgerichtet würden drehen wir sie mit *las=2*  und richten sie somit vertikal aus. Die einzelne \"1\" legt die Position in der Grafik fest. Die Position 1 ist die Position, die unten in der Diagramm-Grafik liegt. Mit Hilfe von *line=* können wir an der Position noch eine weitere Justierung vornehmen und die Beschriftung, ausgerichtete an der Position 1, nach Oben und Unten verschieben.\n",
    "    \n",
    "* **Schritt 6 und 7** Nun steht Schritt für Schritt die weitere Beschriftung an, die immer nach einem ähnlichen Prinzip erfolgt.\n",
    "\n",
    "* **Schritt 8** Mit *outer = T* legen wir fest, dass die nun folgenden Beschriftungen außerhalb des Rahmens liegen. Hinweis auf die Altersgruppe \"90 und älter\" nicht vergessen.\n",
    "\n",
    "Nun ist das Skript für die Pyramide komplett.\n"
   ]
  },
  {
   "cell_type": "code",
   "execution_count": null,
   "id": "c17e4828",
   "metadata": {},
   "outputs": [],
   "source": [
    "#Schritt 1\n",
    "par(bg = \"gray80\")# legt Hintergrundfarbe der Pyramide fest\n",
    "\n",
    "#Schritt 2\n",
    "barplot(table(data_W18$Bi_Freq_Alter),axes = FALSE, # zeichnet erste Hälfte der Pyramide\n",
    "        horiz = TRUE, axis.lty = 4, border = NA, \n",
    "        yaxt=\"n\", ann=FALSE, \n",
    "        xlim =c(-3000,3000), col = \"firebrick3\")\n",
    "        grid (30,0, lty = 6, col = \"cornsilk2\")\n",
    "\n",
    "#Schritt 3\n",
    "barplot(-table(data_M18$Bi_Freq_Alter), axes =FALSE, horiz = TRUE, axis.lty = 4, border = NA,# zeichnet zweite Hälfte der Pyramide\n",
    "        yaxt=\"n\", ann=FALSE,\n",
    "        xlim =c(-3000,3000), col = \"deepskyblue3\", add=T)\n",
    "        grid (30,0, lty = 6, col = \"cornsilk2\")\n",
    "\n",
    "# Schritt 4: Y-Achse einfügen\n",
    "abline(v=0,lwd=28,col=par(\"bg\"))\n",
    "for (i in seq(10,90,by=10)) text(0,i+i*0.2,i,cex=1.0)\n",
    "\n",
    "#Schritt 5:\n",
    "mtext(abs(seq(-3000,3000,by=200)),at=seq(-3000,3000,by=200),1,line=0,cex=0.9, las=2)\n",
    "\n",
    "#Schritt 6:\n",
    "#Beschriftung Links - Maenner\n",
    "mtext(\"Männer\",3,line=0,adj=0,cex=1.3)\n",
    "\n",
    "#Schritt 7:\n",
    "#Beschriftung Rechts - Frauen\n",
    "mtext(\"Frauen\",3,line=0,adj=1,cex=1.3)\n",
    "\n",
    "# Schritt 8: Überschriften defnieren\n",
    "#Ueberschrift\n",
    "mtext(\"Bevölkerungspyramide 2018\",\n",
    "      3,line=-1.5,adj=0,cex=1.5,font=4,outer=T)\n",
    "\n",
    "#Untertitel\n",
    "mtext(\"(Datenquelle: Stadt Bielefeld)\",\n",
    "      3,line=-2.5,adj=0,cex=1,font=3,outer=T)\n",
    "\n",
    "#X-Achse: Beschriftung\n",
    "mtext(\"Bielefelder:innen mit Hauptwohnsitz in Bielefeld\",\n",
    "      1,line=-3.25,adj=0.55,cex=0.95,font=2,outer=T)\n",
    "\n",
    "#y-Achse Beschriftung\n",
    "#mtext(\"Alter in Jahren*\",\n",
    "#      3,line=-4,adj=0.55 ,cex=0.95,font=2,las=1,outer=T)\n",
    "\n",
    "#y-Achse Beschriftung\n",
    "mtext(\"Alter in Jahren*\",\n",
    "      3,line=-4,adj=0.55 ,cex=0.95,font=2,las=1,outer=T)\n",
    "\n",
    "\n",
    "#Hinweis 90 und aelter\n",
    "mtext(\"*die Alterstufe 90 enthält alle Bielefelder:innen die 90 Jahre und älter sind\",\n",
    "      1,line=-2.25,adj=0.55,cex=0.8,font=1,outer=T)"
   ]
  },
  {
   "cell_type": "markdown",
   "id": "5cf0ec55",
   "metadata": {},
   "source": [
    "Die Bevölkerungspyramiden für *2019* und *2020* können wir mit Hilfe des Skripts für die Pyramide 2018 auch ganz einfach erstellen, hierzu müssen wir nur die Basistabelle auf der die Grafik aufbaut entsprechend anpassen und die passenden Variablen einfügen."
   ]
  },
  {
   "cell_type": "code",
   "execution_count": null,
   "id": "f3917e35",
   "metadata": {},
   "outputs": [],
   "source": [
    "#Pyramide 2019\n",
    "par(bg = \"gray80\") \n",
    "barplot(table(data_W19$Bi_Freq_Alter), axes = FALSE,\n",
    "        horiz = TRUE, axis.lty = 4, border = NA,\n",
    "        yaxt= \"n\", ann = FALSE, \n",
    "        xlim =c(-3000,3000), col = \"firebrick3\")\n",
    "        grid (30,0, lty = 6, col = \"cornsilk2\")\n",
    "barplot(-table(data_M19$Bi_Freq_Alter), axes =FALSE, horiz = TRUE, axis.lty = 4, border = NA,\n",
    "        yaxt = \"n\", ann = FALSE, \n",
    "        xlim =c(-3000,3000), col = \"deepskyblue3\", add=T)\n",
    "        grid (30,0, lty = 6, col = \"cornsilk2\")\n",
    "abline(v=0,lwd=28,col=par(\"bg\"))\n",
    "for (i in seq(10,90,by=10)) text(0,i+i*0.2,i,cex=1.0)\n",
    "mtext(abs(seq(-3000,3000,by=200)),at=seq(-3000,3000,by=200),1,line=0,cex=0.9, las=2)\n",
    "\n",
    "#Beschriftung Links - Maenner\n",
    "mtext(\"Männer\",3,line=0,adj=0,cex=1.3,col=\"black\")\n",
    "\n",
    "#Beschriftung Rechts - Frauen\n",
    "mtext(\"Frauen\",3,line=0,adj=1,cex=1.3,col=\"black\")\n",
    "\n",
    "#Ueberschrift\n",
    "mtext(\"Bevölkerungspyramide 2019\",\n",
    "      3,line=-1.5,adj=0,cex=1.5,font=4,outer=T)\n",
    "\n",
    "#Untertitel\n",
    "mtext(\"(Datenquelle: Stadt Bielefeld)\",\n",
    "      3,line=-2.5,adj=0,cex=1,font=3,outer=T)\n",
    "\n",
    "#X-Achse: Beschriftung\n",
    "mtext(\"Bielefelder:innen mit Hauptwohnsitz in Bielefeld\",\n",
    "      1,line=-3.25,adj=0.55,cex=0.95,font=2,outer=T)\n",
    "\n",
    "#y-Achse Beschriftung\n",
    "mtext(\"Alter in Jahren*\",\n",
    "      3,line=-4,adj=0.55 ,cex=0.95,font=2,las=1,outer=T)\n",
    "\n",
    "\n",
    "#Hinweis 90 und aelter\n",
    "mtext(\"*die Alterstufe 90 enthält alle Bielefelder:innen die 90 Jahre und älter sind\",\n",
    "      1,line=-2.25,adj=0.55,cex=0.8,font=1,outer=T)\n",
    "\n",
    "table(data_W19$Bi_Freq_Alter)\n",
    "table(data_M19$Bi_Freq_Alter)\n",
    "\n",
    "dev.off ()\n",
    "\n"
   ]
  },
  {
   "cell_type": "code",
   "execution_count": null,
   "id": "17bb5769",
   "metadata": {},
   "outputs": [],
   "source": [
    "#Pyramide 2020\n",
    "par(bg = \"gray80\") \n",
    "barplot(table(data_W20$Bi_Freq_Alter), axes = FALSE,\n",
    "        horiz = TRUE, axis.lty = 0, border = NA,\n",
    "        yaxt=\"n\", ann=FALSE, \n",
    "        xlim =c(-3000,3000), \n",
    "        col = \"firebrick3\")\n",
    "        grid (30,0, lty = 6, col = \"cornsilk2\")\n",
    "barplot(-table(data_M20$Bi_Freq_Alter), axes =FALSE,\n",
    "        horiz = TRUE, axis.lty = 0, border = NA,\n",
    "        yaxt=\"n\", ann=FALSE, \n",
    "        xlim =c(-3000,3000), col = \"deepskyblue3\", add=T)\n",
    "        grid (30,0, lty = 6, col = \"cornsilk2\")\n",
    "abline(v=0,lwd=28,col=par(\"bg\"))\n",
    "for (i in seq(10,90,by=10)) text(0,i+i*0.2,i,cex=1.0)\n",
    "mtext(abs(seq(-3000,3000,by=200)),at=seq(-3000,3000,by=200),1,line=0,cex=0.9, las=2)\n",
    "\n",
    "#Beschriftung Links - Maenner\n",
    "mtext(\"Männer\",3,line=0,adj=0,cex=1.3,col=\"black\")\n",
    "\n",
    "#Beschriftung Rechts - Frauen\n",
    "mtext(\"Frauen\",3,line=0,adj=1,cex=1.3,col=\"black\")\n",
    "\n",
    "#Ueberschrift\n",
    "mtext(\"Bevölkerungspyramide 2020\",\n",
    "      3,line=-1.5,adj=0,cex=1.5,font=4,outer=T)\n",
    "\n",
    "#Untertitel\n",
    "mtext(\"(Datenquelle: Stadt Bielefeld)\",\n",
    "      3,line=-2.5,adj=0,cex=1,font=3,outer=T)\n",
    "\n",
    "#X-Achse: Beschriftung\n",
    "mtext(\"Bielefelder:innen mit Hauptwohnsitz in Bielefeld\",\n",
    "      1,line=-3.25,adj=0.55,cex=0.95,font=2,outer=T)\n",
    "\n",
    "#y-Achse Beschriftung\n",
    "mtext(\"Alter in Jahren*\",\n",
    "      3,line=-4,adj=0.55 ,cex=0.95,font=2,las=1,outer=T)\n",
    "\n",
    "\n",
    "#Hinweis 90 und aelter\n",
    "mtext(\"*die Alterstufe 90 enthält alle Bielefelder:innen die 90 Jahre und älter sind\",\n",
    "      1,line=-2.25,adj=0.55,cex=0.8,font=1,outer=T)\n",
    "\n",
    "\n",
    "table(data_W20$Bi_Freq_Alter)\n",
    "table(data_M20$Bi_Freq_Alter)"
   ]
  },
  {
   "cell_type": "markdown",
   "id": "4a939a88",
   "metadata": {},
   "source": [
    "Nachdem wir hier die Bevölkerungspyramide zusammen erstellt haben, kannst Du jetzt mit Hilfe eines neuen Datensatzes selbst eine Bevölkerungspyramide für die Stadt Minden erstellen. Schau hierzu einfach in das *Übungsnotebook*. Viel Spaß und Erfolg!"
   ]
  }
 ],
 "metadata": {
  "hide_input": false,
  "kernelspec": {
   "display_name": "R",
   "language": "R",
   "name": "ir-datengeschichten"
  },
  "language_info": {
   "codemirror_mode": "r",
   "file_extension": ".r",
   "mimetype": "text/x-r-source",
   "name": "R",
   "pygments_lexer": "r",
   "version": "4.1.0"
  },
  "toc": {
   "base_numbering": 1,
   "nav_menu": {},
   "number_sections": true,
   "sideBar": true,
   "skip_h1_title": false,
   "title_cell": "Table of Contents",
   "title_sidebar": "Contents",
   "toc_cell": false,
   "toc_position": {
    "height": "calc(100% - 180px)",
    "left": "10px",
    "top": "150px",
    "width": "165px"
   },
   "toc_section_display": true,
   "toc_window_display": true
  }
 },
 "nbformat": 4,
 "nbformat_minor": 5
}
